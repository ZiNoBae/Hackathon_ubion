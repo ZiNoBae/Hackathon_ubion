{
 "cells": [
  {
   "cell_type": "markdown",
   "metadata": {},
   "source": [
    "# Data 불러오기 \n",
    "1. 장단기 금리 spread\n",
    "    - 장기금리 : 국고채 3년\n",
    "        - 연평균 처리 \n",
    "    - 단기금리 : 콜금리\n",
    "        - 연평균 처리\n",
    "    - ECOS\n",
    "2. PMI\n",
    "    - ECOS\n",
    "\n",
    "3. 실질GDP성장률\n",
    "    - ECOS"
   ]
  },
  {
   "cell_type": "code",
   "execution_count": 132,
   "metadata": {},
   "outputs": [],
   "source": [
    "import pandas as pd"
   ]
  },
  {
   "cell_type": "code",
   "execution_count": 133,
   "metadata": {},
   "outputs": [],
   "source": [
    "df_1 = pd.read_csv('spread.csv')\n"
   ]
  },
  {
   "cell_type": "code",
   "execution_count": 134,
   "metadata": {},
   "outputs": [],
   "source": [
    "df_2 = pd.read_csv('macro_PMI.csv')"
   ]
  },
  {
   "cell_type": "code",
   "execution_count": 135,
   "metadata": {},
   "outputs": [],
   "source": [
    "df_3 = pd.read_csv('macro_realGDP.csv')"
   ]
  },
  {
   "cell_type": "markdown",
   "metadata": {},
   "source": [
    "## 1. 장단기 금리 spread"
   ]
  },
  {
   "cell_type": "code",
   "execution_count": 136,
   "metadata": {},
   "outputs": [
    {
     "data": {
      "text/html": [
       "<div>\n",
       "<style scoped>\n",
       "    .dataframe tbody tr th:only-of-type {\n",
       "        vertical-align: middle;\n",
       "    }\n",
       "\n",
       "    .dataframe tbody tr th {\n",
       "        vertical-align: top;\n",
       "    }\n",
       "\n",
       "    .dataframe thead th {\n",
       "        text-align: right;\n",
       "    }\n",
       "</style>\n",
       "<table border=\"1\" class=\"dataframe\">\n",
       "  <thead>\n",
       "    <tr style=\"text-align: right;\">\n",
       "      <th></th>\n",
       "      <th>통계표</th>\n",
       "      <th>계정항목</th>\n",
       "      <th>단위</th>\n",
       "      <th>변환</th>\n",
       "      <th>2022/12/30</th>\n",
       "      <th>2022/12/29</th>\n",
       "      <th>2022/12/28</th>\n",
       "      <th>2022/12/27</th>\n",
       "      <th>2022/12/26</th>\n",
       "      <th>2022/12/23</th>\n",
       "      <th>...</th>\n",
       "      <th>2011/01/14</th>\n",
       "      <th>2011/01/13</th>\n",
       "      <th>2011/01/12</th>\n",
       "      <th>2011/01/11</th>\n",
       "      <th>2011/01/10</th>\n",
       "      <th>2011/01/07</th>\n",
       "      <th>2011/01/06</th>\n",
       "      <th>2011/01/05</th>\n",
       "      <th>2011/01/04</th>\n",
       "      <th>2011/01/03</th>\n",
       "    </tr>\n",
       "  </thead>\n",
       "  <tbody>\n",
       "    <tr>\n",
       "      <th>0</th>\n",
       "      <td>1.3.2.1. 시장금리(일별)</td>\n",
       "      <td>콜금리(1일, 전체거래)</td>\n",
       "      <td>연%</td>\n",
       "      <td>원자료</td>\n",
       "      <td>3.380</td>\n",
       "      <td>3.212</td>\n",
       "      <td>3.187</td>\n",
       "      <td>3.252</td>\n",
       "      <td>3.269</td>\n",
       "      <td>3.244</td>\n",
       "      <td>...</td>\n",
       "      <td>2.74</td>\n",
       "      <td>2.74</td>\n",
       "      <td>2.50</td>\n",
       "      <td>2.5</td>\n",
       "      <td>2.49</td>\n",
       "      <td>2.49</td>\n",
       "      <td>2.49</td>\n",
       "      <td>2.49</td>\n",
       "      <td>2.5</td>\n",
       "      <td>2.49</td>\n",
       "    </tr>\n",
       "    <tr>\n",
       "      <th>1</th>\n",
       "      <td>1.3.2.1. 시장금리(일별)</td>\n",
       "      <td>국고채(3년)</td>\n",
       "      <td>연%</td>\n",
       "      <td>원자료</td>\n",
       "      <td>3.722</td>\n",
       "      <td>3.719</td>\n",
       "      <td>3.668</td>\n",
       "      <td>3.662</td>\n",
       "      <td>3.663</td>\n",
       "      <td>3.623</td>\n",
       "      <td>...</td>\n",
       "      <td>3.69</td>\n",
       "      <td>3.64</td>\n",
       "      <td>3.54</td>\n",
       "      <td>3.6</td>\n",
       "      <td>3.57</td>\n",
       "      <td>3.59</td>\n",
       "      <td>3.58</td>\n",
       "      <td>3.50</td>\n",
       "      <td>3.5</td>\n",
       "      <td>3.50</td>\n",
       "    </tr>\n",
       "  </tbody>\n",
       "</table>\n",
       "<p>2 rows × 2973 columns</p>\n",
       "</div>"
      ],
      "text/plain": [
       "                 통계표             계정항목  단위   변환  2022/12/30  2022/12/29  \\\n",
       "0  1.3.2.1. 시장금리(일별)    콜금리(1일, 전체거래)  연%  원자료       3.380       3.212   \n",
       "1  1.3.2.1. 시장금리(일별)          국고채(3년)  연%  원자료       3.722       3.719   \n",
       "\n",
       "   2022/12/28  2022/12/27  2022/12/26  2022/12/23  ...  2011/01/14  \\\n",
       "0       3.187       3.252       3.269       3.244  ...        2.74   \n",
       "1       3.668       3.662       3.663       3.623  ...        3.69   \n",
       "\n",
       "   2011/01/13  2011/01/12  2011/01/11  2011/01/10  2011/01/07  2011/01/06  \\\n",
       "0        2.74        2.50         2.5        2.49        2.49        2.49   \n",
       "1        3.64        3.54         3.6        3.57        3.59        3.58   \n",
       "\n",
       "   2011/01/05  2011/01/04  2011/01/03  \n",
       "0        2.49         2.5        2.49  \n",
       "1        3.50         3.5        3.50  \n",
       "\n",
       "[2 rows x 2973 columns]"
      ]
     },
     "execution_count": 136,
     "metadata": {},
     "output_type": "execute_result"
    }
   ],
   "source": [
    "df_1"
   ]
  },
  {
   "cell_type": "code",
   "execution_count": 137,
   "metadata": {},
   "outputs": [],
   "source": [
    "# 인덱스 & 컬럼 정리 \n",
    "df = df_1.transpose().drop(['단위', '변환', '통계표'], axis=0)\n",
    "header = df.iloc[0]\n",
    "df = df[1:]\n",
    "df.rename(columns=header, inplace=True)"
   ]
  },
  {
   "cell_type": "code",
   "execution_count": 141,
   "metadata": {},
   "outputs": [],
   "source": [
    "df = df.sort_index()"
   ]
  },
  {
   "cell_type": "code",
   "execution_count": 142,
   "metadata": {},
   "outputs": [
    {
     "data": {
      "text/html": [
       "<div>\n",
       "<style scoped>\n",
       "    .dataframe tbody tr th:only-of-type {\n",
       "        vertical-align: middle;\n",
       "    }\n",
       "\n",
       "    .dataframe tbody tr th {\n",
       "        vertical-align: top;\n",
       "    }\n",
       "\n",
       "    .dataframe thead th {\n",
       "        text-align: right;\n",
       "    }\n",
       "</style>\n",
       "<table border=\"1\" class=\"dataframe\">\n",
       "  <thead>\n",
       "    <tr style=\"text-align: right;\">\n",
       "      <th></th>\n",
       "      <th>콜금리(1일, 전체거래)</th>\n",
       "      <th>국고채(3년)</th>\n",
       "    </tr>\n",
       "  </thead>\n",
       "  <tbody>\n",
       "    <tr>\n",
       "      <th>2011/01/03</th>\n",
       "      <td>2.49</td>\n",
       "      <td>3.5</td>\n",
       "    </tr>\n",
       "    <tr>\n",
       "      <th>2011/01/04</th>\n",
       "      <td>2.5</td>\n",
       "      <td>3.5</td>\n",
       "    </tr>\n",
       "    <tr>\n",
       "      <th>2011/01/05</th>\n",
       "      <td>2.49</td>\n",
       "      <td>3.5</td>\n",
       "    </tr>\n",
       "    <tr>\n",
       "      <th>2011/01/06</th>\n",
       "      <td>2.49</td>\n",
       "      <td>3.58</td>\n",
       "    </tr>\n",
       "    <tr>\n",
       "      <th>2011/01/07</th>\n",
       "      <td>2.49</td>\n",
       "      <td>3.59</td>\n",
       "    </tr>\n",
       "    <tr>\n",
       "      <th>...</th>\n",
       "      <td>...</td>\n",
       "      <td>...</td>\n",
       "    </tr>\n",
       "    <tr>\n",
       "      <th>2022/12/26</th>\n",
       "      <td>3.269</td>\n",
       "      <td>3.663</td>\n",
       "    </tr>\n",
       "    <tr>\n",
       "      <th>2022/12/27</th>\n",
       "      <td>3.252</td>\n",
       "      <td>3.662</td>\n",
       "    </tr>\n",
       "    <tr>\n",
       "      <th>2022/12/28</th>\n",
       "      <td>3.187</td>\n",
       "      <td>3.668</td>\n",
       "    </tr>\n",
       "    <tr>\n",
       "      <th>2022/12/29</th>\n",
       "      <td>3.212</td>\n",
       "      <td>3.719</td>\n",
       "    </tr>\n",
       "    <tr>\n",
       "      <th>2022/12/30</th>\n",
       "      <td>3.38</td>\n",
       "      <td>3.722</td>\n",
       "    </tr>\n",
       "  </tbody>\n",
       "</table>\n",
       "<p>2969 rows × 2 columns</p>\n",
       "</div>"
      ],
      "text/plain": [
       "             콜금리(1일, 전체거래) 국고채(3년)\n",
       "2011/01/03            2.49     3.5\n",
       "2011/01/04             2.5     3.5\n",
       "2011/01/05            2.49     3.5\n",
       "2011/01/06            2.49    3.58\n",
       "2011/01/07            2.49    3.59\n",
       "...                    ...     ...\n",
       "2022/12/26           3.269   3.663\n",
       "2022/12/27           3.252   3.662\n",
       "2022/12/28           3.187   3.668\n",
       "2022/12/29           3.212   3.719\n",
       "2022/12/30            3.38   3.722\n",
       "\n",
       "[2969 rows x 2 columns]"
      ]
     },
     "execution_count": 142,
     "metadata": {},
     "output_type": "execute_result"
    }
   ],
   "source": [
    "df"
   ]
  },
  {
   "cell_type": "code",
   "execution_count": 143,
   "metadata": {},
   "outputs": [],
   "source": [
    "df['date'] = df.index"
   ]
  },
  {
   "cell_type": "code",
   "execution_count": 144,
   "metadata": {},
   "outputs": [],
   "source": [
    "index = pd.to_datetime(df.index)"
   ]
  },
  {
   "cell_type": "code",
   "execution_count": 145,
   "metadata": {},
   "outputs": [],
   "source": [
    "df = df.set_index(index)"
   ]
  },
  {
   "cell_type": "code",
   "execution_count": 148,
   "metadata": {},
   "outputs": [],
   "source": [
    "df['year'] = df['date'].apply(lambda x : x.split('/')[0])"
   ]
  },
  {
   "cell_type": "code",
   "execution_count": 149,
   "metadata": {},
   "outputs": [
    {
     "name": "stderr",
     "output_type": "stream",
     "text": [
      "C:\\Users\\zino0\\AppData\\Local\\Temp\\ipykernel_27532\\3588360298.py:1: FutureWarning: The default value of numeric_only in DataFrameGroupBy.mean is deprecated. In a future version, numeric_only will default to False. Either specify numeric_only or select only columns which should be valid for the function.\n",
      "  df_1 = df.groupby('year').mean()\n"
     ]
    }
   ],
   "source": [
    "# 연평균\n",
    "df_1 = df.groupby('year').mean()"
   ]
  },
  {
   "cell_type": "code",
   "execution_count": 150,
   "metadata": {},
   "outputs": [],
   "source": [
    "# 장단기금리차 계산\n",
    "df_1['spread(%)'] = df_1['국고채(3년)']- df_1['  콜금리(1일, 전체거래)']"
   ]
  },
  {
   "cell_type": "code",
   "execution_count": 151,
   "metadata": {},
   "outputs": [],
   "source": [
    "df_1.index.name = ''"
   ]
  },
  {
   "cell_type": "code",
   "execution_count": 152,
   "metadata": {},
   "outputs": [
    {
     "data": {
      "text/html": [
       "<div>\n",
       "<style scoped>\n",
       "    .dataframe tbody tr th:only-of-type {\n",
       "        vertical-align: middle;\n",
       "    }\n",
       "\n",
       "    .dataframe tbody tr th {\n",
       "        vertical-align: top;\n",
       "    }\n",
       "\n",
       "    .dataframe thead th {\n",
       "        text-align: right;\n",
       "    }\n",
       "</style>\n",
       "<table border=\"1\" class=\"dataframe\">\n",
       "  <thead>\n",
       "    <tr style=\"text-align: right;\">\n",
       "      <th></th>\n",
       "      <th>콜금리(1일, 전체거래)</th>\n",
       "      <th>국고채(3년)</th>\n",
       "      <th>spread(%)</th>\n",
       "    </tr>\n",
       "    <tr>\n",
       "      <th></th>\n",
       "      <th></th>\n",
       "      <th></th>\n",
       "      <th></th>\n",
       "    </tr>\n",
       "  </thead>\n",
       "  <tbody>\n",
       "    <tr>\n",
       "      <th>2011</th>\n",
       "      <td>3.097430</td>\n",
       "      <td>3.615542</td>\n",
       "      <td>0.518112</td>\n",
       "    </tr>\n",
       "    <tr>\n",
       "      <th>2012</th>\n",
       "      <td>3.077390</td>\n",
       "      <td>3.131928</td>\n",
       "      <td>0.054538</td>\n",
       "    </tr>\n",
       "    <tr>\n",
       "      <th>2013</th>\n",
       "      <td>2.584637</td>\n",
       "      <td>2.792887</td>\n",
       "      <td>0.208250</td>\n",
       "    </tr>\n",
       "    <tr>\n",
       "      <th>2014</th>\n",
       "      <td>2.335244</td>\n",
       "      <td>2.588907</td>\n",
       "      <td>0.253663</td>\n",
       "    </tr>\n",
       "    <tr>\n",
       "      <th>2015</th>\n",
       "      <td>1.639639</td>\n",
       "      <td>1.793807</td>\n",
       "      <td>0.154169</td>\n",
       "    </tr>\n",
       "    <tr>\n",
       "      <th>2016</th>\n",
       "      <td>1.340283</td>\n",
       "      <td>1.441587</td>\n",
       "      <td>0.101304</td>\n",
       "    </tr>\n",
       "    <tr>\n",
       "      <th>2017</th>\n",
       "      <td>1.260123</td>\n",
       "      <td>1.801025</td>\n",
       "      <td>0.540902</td>\n",
       "    </tr>\n",
       "    <tr>\n",
       "      <th>2018</th>\n",
       "      <td>1.518612</td>\n",
       "      <td>2.099396</td>\n",
       "      <td>0.580784</td>\n",
       "    </tr>\n",
       "    <tr>\n",
       "      <th>2019</th>\n",
       "      <td>1.589879</td>\n",
       "      <td>1.529211</td>\n",
       "      <td>-0.060668</td>\n",
       "    </tr>\n",
       "    <tr>\n",
       "      <th>2020</th>\n",
       "      <td>0.695301</td>\n",
       "      <td>0.987598</td>\n",
       "      <td>0.292297</td>\n",
       "    </tr>\n",
       "    <tr>\n",
       "      <th>2021</th>\n",
       "      <td>0.619618</td>\n",
       "      <td>1.391807</td>\n",
       "      <td>0.772189</td>\n",
       "    </tr>\n",
       "    <tr>\n",
       "      <th>2022</th>\n",
       "      <td>2.044462</td>\n",
       "      <td>3.199453</td>\n",
       "      <td>1.154992</td>\n",
       "    </tr>\n",
       "  </tbody>\n",
       "</table>\n",
       "</div>"
      ],
      "text/plain": [
       "        콜금리(1일, 전체거래)   국고채(3년)  spread(%)\n",
       "                                          \n",
       "2011         3.097430  3.615542   0.518112\n",
       "2012         3.077390  3.131928   0.054538\n",
       "2013         2.584637  2.792887   0.208250\n",
       "2014         2.335244  2.588907   0.253663\n",
       "2015         1.639639  1.793807   0.154169\n",
       "2016         1.340283  1.441587   0.101304\n",
       "2017         1.260123  1.801025   0.540902\n",
       "2018         1.518612  2.099396   0.580784\n",
       "2019         1.589879  1.529211  -0.060668\n",
       "2020         0.695301  0.987598   0.292297\n",
       "2021         0.619618  1.391807   0.772189\n",
       "2022         2.044462  3.199453   1.154992"
      ]
     },
     "execution_count": 152,
     "metadata": {},
     "output_type": "execute_result"
    }
   ],
   "source": [
    "df_1"
   ]
  },
  {
   "cell_type": "markdown",
   "metadata": {},
   "source": [
    "## 2. PMI (생산자물가지수)"
   ]
  },
  {
   "cell_type": "code",
   "execution_count": 153,
   "metadata": {},
   "outputs": [
    {
     "data": {
      "text/html": [
       "<div>\n",
       "<style scoped>\n",
       "    .dataframe tbody tr th:only-of-type {\n",
       "        vertical-align: middle;\n",
       "    }\n",
       "\n",
       "    .dataframe tbody tr th {\n",
       "        vertical-align: top;\n",
       "    }\n",
       "\n",
       "    .dataframe thead th {\n",
       "        text-align: right;\n",
       "    }\n",
       "</style>\n",
       "<table border=\"1\" class=\"dataframe\">\n",
       "  <thead>\n",
       "    <tr style=\"text-align: right;\">\n",
       "      <th></th>\n",
       "      <th>통계표</th>\n",
       "      <th>계정코드</th>\n",
       "      <th>단위</th>\n",
       "      <th>가중치</th>\n",
       "      <th>변환</th>\n",
       "      <th>2022</th>\n",
       "      <th>2021</th>\n",
       "      <th>2020</th>\n",
       "      <th>2019</th>\n",
       "      <th>2018</th>\n",
       "      <th>2017</th>\n",
       "      <th>2016</th>\n",
       "      <th>2015</th>\n",
       "      <th>2014</th>\n",
       "      <th>2013</th>\n",
       "      <th>2012</th>\n",
       "      <th>2011</th>\n",
       "    </tr>\n",
       "  </thead>\n",
       "  <tbody>\n",
       "    <tr>\n",
       "      <th>0</th>\n",
       "      <td>4.1.1.1. 생산자물가지수(기본분류)</td>\n",
       "      <td>총지수</td>\n",
       "      <td>2015=100</td>\n",
       "      <td>1000.0</td>\n",
       "      <td>원자료</td>\n",
       "      <td>118.78</td>\n",
       "      <td>109.6</td>\n",
       "      <td>103.03</td>\n",
       "      <td>103.5</td>\n",
       "      <td>103.48</td>\n",
       "      <td>101.57</td>\n",
       "      <td>98.18</td>\n",
       "      <td>100.0</td>\n",
       "      <td>104.18</td>\n",
       "      <td>104.74</td>\n",
       "      <td>106.44</td>\n",
       "      <td>105.71</td>\n",
       "    </tr>\n",
       "  </tbody>\n",
       "</table>\n",
       "</div>"
      ],
      "text/plain": [
       "                      통계표 계정코드        단위     가중치   변환    2022   2021    2020  \\\n",
       "0  4.1.1.1. 생산자물가지수(기본분류)  총지수  2015=100  1000.0  원자료  118.78  109.6  103.03   \n",
       "\n",
       "    2019    2018    2017   2016   2015    2014    2013    2012    2011  \n",
       "0  103.5  103.48  101.57  98.18  100.0  104.18  104.74  106.44  105.71  "
      ]
     },
     "execution_count": 153,
     "metadata": {},
     "output_type": "execute_result"
    }
   ],
   "source": [
    "df_2"
   ]
  },
  {
   "cell_type": "code",
   "execution_count": 154,
   "metadata": {},
   "outputs": [],
   "source": [
    "df = df_2.transpose().drop(['단위', '변환', '통계표'], axis=0)\n",
    "header = df.iloc[0]\n",
    "df.rename(columns=header, inplace=True)\n",
    "df = df.sort_index()"
   ]
  },
  {
   "cell_type": "code",
   "execution_count": 155,
   "metadata": {},
   "outputs": [],
   "source": [
    "df.drop(['가중치', '계정코드'], axis=0, inplace=True)"
   ]
  },
  {
   "cell_type": "code",
   "execution_count": 156,
   "metadata": {},
   "outputs": [],
   "source": [
    "df_2 = df.rename(columns={'총지수':'PMI(2015기준)'})"
   ]
  },
  {
   "cell_type": "code",
   "execution_count": 157,
   "metadata": {},
   "outputs": [
    {
     "data": {
      "text/html": [
       "<div>\n",
       "<style scoped>\n",
       "    .dataframe tbody tr th:only-of-type {\n",
       "        vertical-align: middle;\n",
       "    }\n",
       "\n",
       "    .dataframe tbody tr th {\n",
       "        vertical-align: top;\n",
       "    }\n",
       "\n",
       "    .dataframe thead th {\n",
       "        text-align: right;\n",
       "    }\n",
       "</style>\n",
       "<table border=\"1\" class=\"dataframe\">\n",
       "  <thead>\n",
       "    <tr style=\"text-align: right;\">\n",
       "      <th></th>\n",
       "      <th>PMI(2015기준)</th>\n",
       "    </tr>\n",
       "  </thead>\n",
       "  <tbody>\n",
       "    <tr>\n",
       "      <th>2011</th>\n",
       "      <td>105.71</td>\n",
       "    </tr>\n",
       "    <tr>\n",
       "      <th>2012</th>\n",
       "      <td>106.44</td>\n",
       "    </tr>\n",
       "    <tr>\n",
       "      <th>2013</th>\n",
       "      <td>104.74</td>\n",
       "    </tr>\n",
       "    <tr>\n",
       "      <th>2014</th>\n",
       "      <td>104.18</td>\n",
       "    </tr>\n",
       "    <tr>\n",
       "      <th>2015</th>\n",
       "      <td>100.0</td>\n",
       "    </tr>\n",
       "    <tr>\n",
       "      <th>2016</th>\n",
       "      <td>98.18</td>\n",
       "    </tr>\n",
       "    <tr>\n",
       "      <th>2017</th>\n",
       "      <td>101.57</td>\n",
       "    </tr>\n",
       "    <tr>\n",
       "      <th>2018</th>\n",
       "      <td>103.48</td>\n",
       "    </tr>\n",
       "    <tr>\n",
       "      <th>2019</th>\n",
       "      <td>103.5</td>\n",
       "    </tr>\n",
       "    <tr>\n",
       "      <th>2020</th>\n",
       "      <td>103.03</td>\n",
       "    </tr>\n",
       "    <tr>\n",
       "      <th>2021</th>\n",
       "      <td>109.6</td>\n",
       "    </tr>\n",
       "    <tr>\n",
       "      <th>2022</th>\n",
       "      <td>118.78</td>\n",
       "    </tr>\n",
       "  </tbody>\n",
       "</table>\n",
       "</div>"
      ],
      "text/plain": [
       "     PMI(2015기준)\n",
       "2011      105.71\n",
       "2012      106.44\n",
       "2013      104.74\n",
       "2014      104.18\n",
       "2015       100.0\n",
       "2016       98.18\n",
       "2017      101.57\n",
       "2018      103.48\n",
       "2019       103.5\n",
       "2020      103.03\n",
       "2021       109.6\n",
       "2022      118.78"
      ]
     },
     "execution_count": 157,
     "metadata": {},
     "output_type": "execute_result"
    }
   ],
   "source": [
    "df_2"
   ]
  },
  {
   "cell_type": "markdown",
   "metadata": {},
   "source": [
    "## 3. 실질 GDP 성장률"
   ]
  },
  {
   "cell_type": "code",
   "execution_count": 158,
   "metadata": {},
   "outputs": [
    {
     "data": {
      "text/html": [
       "<div>\n",
       "<style scoped>\n",
       "    .dataframe tbody tr th:only-of-type {\n",
       "        vertical-align: middle;\n",
       "    }\n",
       "\n",
       "    .dataframe tbody tr th {\n",
       "        vertical-align: top;\n",
       "    }\n",
       "\n",
       "    .dataframe thead th {\n",
       "        text-align: right;\n",
       "    }\n",
       "</style>\n",
       "<table border=\"1\" class=\"dataframe\">\n",
       "  <thead>\n",
       "    <tr style=\"text-align: right;\">\n",
       "      <th></th>\n",
       "      <th>통계표</th>\n",
       "      <th>계정항목</th>\n",
       "      <th>단위</th>\n",
       "      <th>변환</th>\n",
       "      <th>2022</th>\n",
       "      <th>2021</th>\n",
       "      <th>2020</th>\n",
       "      <th>2019</th>\n",
       "      <th>2018</th>\n",
       "      <th>2017</th>\n",
       "      <th>2016</th>\n",
       "      <th>2015</th>\n",
       "      <th>2014</th>\n",
       "      <th>2013</th>\n",
       "      <th>2012</th>\n",
       "      <th>2011</th>\n",
       "    </tr>\n",
       "  </thead>\n",
       "  <tbody>\n",
       "    <tr>\n",
       "      <th>0</th>\n",
       "      <td>2.1.2.1.4. 경제활동별 GDP 및 GNI(원계열, 실질, 분기 및 연간)</td>\n",
       "      <td>국내총생산(시장가격, GDP)</td>\n",
       "      <td>%</td>\n",
       "      <td>전년말대비증감률</td>\n",
       "      <td>2.6</td>\n",
       "      <td>4.3</td>\n",
       "      <td>-0.7</td>\n",
       "      <td>2.2</td>\n",
       "      <td>2.9</td>\n",
       "      <td>3.2</td>\n",
       "      <td>2.9</td>\n",
       "      <td>2.8</td>\n",
       "      <td>3.2</td>\n",
       "      <td>3.2</td>\n",
       "      <td>2.4</td>\n",
       "      <td>3.7</td>\n",
       "    </tr>\n",
       "  </tbody>\n",
       "</table>\n",
       "</div>"
      ],
      "text/plain": [
       "                                            통계표              계정항목 단위  \\\n",
       "0  2.1.2.1.4. 경제활동별 GDP 및 GNI(원계열, 실질, 분기 및 연간)  국내총생산(시장가격, GDP)  %   \n",
       "\n",
       "         변환  2022  2021  2020  2019  2018  2017  2016  2015  2014  2013  2012  \\\n",
       "0  전년말대비증감률   2.6   4.3  -0.7   2.2   2.9   3.2   2.9   2.8   3.2   3.2   2.4   \n",
       "\n",
       "   2011  \n",
       "0   3.7  "
      ]
     },
     "execution_count": 158,
     "metadata": {},
     "output_type": "execute_result"
    }
   ],
   "source": [
    "df_3"
   ]
  },
  {
   "cell_type": "code",
   "execution_count": 159,
   "metadata": {},
   "outputs": [],
   "source": [
    "df = df_3.transpose().drop(['단위', '변환', '통계표'], axis=0)\n",
    "header = df.iloc[0]\n",
    "df.rename(columns=header, inplace=True)\n",
    "df = df.sort_index()"
   ]
  },
  {
   "cell_type": "code",
   "execution_count": 160,
   "metadata": {},
   "outputs": [],
   "source": [
    "df.drop('계정항목', axis=0, inplace=True)"
   ]
  },
  {
   "cell_type": "code",
   "execution_count": 161,
   "metadata": {},
   "outputs": [],
   "source": [
    "df_3 = df.rename(columns={'국내총생산(시장가격, GDP)':'실질GDP성장률(%)'})"
   ]
  },
  {
   "cell_type": "markdown",
   "metadata": {},
   "source": [
    "# 거시경제Features -> dataframe 합치기"
   ]
  },
  {
   "cell_type": "code",
   "execution_count": 164,
   "metadata": {},
   "outputs": [],
   "source": [
    "df = pd.concat([df_1,df_2,df_3], axis=1)"
   ]
  },
  {
   "cell_type": "code",
   "execution_count": 173,
   "metadata": {},
   "outputs": [],
   "source": [
    "df.drop(['  콜금리(1일, 전체거래)', '국고채(3년)'], axis=1,inplace=True)"
   ]
  },
  {
   "cell_type": "code",
   "execution_count": 174,
   "metadata": {},
   "outputs": [
    {
     "data": {
      "text/html": [
       "<div>\n",
       "<style scoped>\n",
       "    .dataframe tbody tr th:only-of-type {\n",
       "        vertical-align: middle;\n",
       "    }\n",
       "\n",
       "    .dataframe tbody tr th {\n",
       "        vertical-align: top;\n",
       "    }\n",
       "\n",
       "    .dataframe thead th {\n",
       "        text-align: right;\n",
       "    }\n",
       "</style>\n",
       "<table border=\"1\" class=\"dataframe\">\n",
       "  <thead>\n",
       "    <tr style=\"text-align: right;\">\n",
       "      <th></th>\n",
       "      <th>spread(%)</th>\n",
       "      <th>PMI(2015기준)</th>\n",
       "      <th>실질GDP성장률(%)</th>\n",
       "    </tr>\n",
       "  </thead>\n",
       "  <tbody>\n",
       "    <tr>\n",
       "      <th>2011</th>\n",
       "      <td>0.518112</td>\n",
       "      <td>105.71</td>\n",
       "      <td>3.7</td>\n",
       "    </tr>\n",
       "    <tr>\n",
       "      <th>2012</th>\n",
       "      <td>0.054538</td>\n",
       "      <td>106.44</td>\n",
       "      <td>2.4</td>\n",
       "    </tr>\n",
       "    <tr>\n",
       "      <th>2013</th>\n",
       "      <td>0.208250</td>\n",
       "      <td>104.74</td>\n",
       "      <td>3.2</td>\n",
       "    </tr>\n",
       "    <tr>\n",
       "      <th>2014</th>\n",
       "      <td>0.253663</td>\n",
       "      <td>104.18</td>\n",
       "      <td>3.2</td>\n",
       "    </tr>\n",
       "    <tr>\n",
       "      <th>2015</th>\n",
       "      <td>0.154169</td>\n",
       "      <td>100.0</td>\n",
       "      <td>2.8</td>\n",
       "    </tr>\n",
       "    <tr>\n",
       "      <th>2016</th>\n",
       "      <td>0.101304</td>\n",
       "      <td>98.18</td>\n",
       "      <td>2.9</td>\n",
       "    </tr>\n",
       "    <tr>\n",
       "      <th>2017</th>\n",
       "      <td>0.540902</td>\n",
       "      <td>101.57</td>\n",
       "      <td>3.2</td>\n",
       "    </tr>\n",
       "    <tr>\n",
       "      <th>2018</th>\n",
       "      <td>0.580784</td>\n",
       "      <td>103.48</td>\n",
       "      <td>2.9</td>\n",
       "    </tr>\n",
       "    <tr>\n",
       "      <th>2019</th>\n",
       "      <td>-0.060668</td>\n",
       "      <td>103.5</td>\n",
       "      <td>2.2</td>\n",
       "    </tr>\n",
       "    <tr>\n",
       "      <th>2020</th>\n",
       "      <td>0.292297</td>\n",
       "      <td>103.03</td>\n",
       "      <td>-0.7</td>\n",
       "    </tr>\n",
       "    <tr>\n",
       "      <th>2021</th>\n",
       "      <td>0.772189</td>\n",
       "      <td>109.6</td>\n",
       "      <td>4.3</td>\n",
       "    </tr>\n",
       "    <tr>\n",
       "      <th>2022</th>\n",
       "      <td>1.154992</td>\n",
       "      <td>118.78</td>\n",
       "      <td>2.6</td>\n",
       "    </tr>\n",
       "  </tbody>\n",
       "</table>\n",
       "</div>"
      ],
      "text/plain": [
       "      spread(%) PMI(2015기준) 실질GDP성장률(%)\n",
       "2011   0.518112      105.71         3.7\n",
       "2012   0.054538      106.44         2.4\n",
       "2013   0.208250      104.74         3.2\n",
       "2014   0.253663      104.18         3.2\n",
       "2015   0.154169       100.0         2.8\n",
       "2016   0.101304       98.18         2.9\n",
       "2017   0.540902      101.57         3.2\n",
       "2018   0.580784      103.48         2.9\n",
       "2019  -0.060668       103.5         2.2\n",
       "2020   0.292297      103.03        -0.7\n",
       "2021   0.772189       109.6         4.3\n",
       "2022   1.154992      118.78         2.6"
      ]
     },
     "execution_count": 174,
     "metadata": {},
     "output_type": "execute_result"
    }
   ],
   "source": [
    "df"
   ]
  },
  {
   "cell_type": "markdown",
   "metadata": {},
   "source": [
    "# Excel 파일 저장"
   ]
  },
  {
   "cell_type": "code",
   "execution_count": 176,
   "metadata": {},
   "outputs": [],
   "source": [
    "df.to_excel('./macro_df.xlsx')"
   ]
  },
  {
   "cell_type": "code",
   "execution_count": null,
   "metadata": {},
   "outputs": [],
   "source": []
  }
 ],
 "metadata": {
  "kernelspec": {
   "display_name": "Python 3",
   "language": "python",
   "name": "python3"
  },
  "language_info": {
   "codemirror_mode": {
    "name": "ipython",
    "version": 3
   },
   "file_extension": ".py",
   "mimetype": "text/x-python",
   "name": "python",
   "nbconvert_exporter": "python",
   "pygments_lexer": "ipython3",
   "version": "3.11.2"
  },
  "orig_nbformat": 4
 },
 "nbformat": 4,
 "nbformat_minor": 2
}
