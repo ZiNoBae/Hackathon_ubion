{
 "cells": [
  {
   "cell_type": "code",
   "execution_count": 304,
   "metadata": {},
   "outputs": [],
   "source": [
    "import pandas as pd\n",
    "import numpy as np"
   ]
  },
  {
   "cell_type": "markdown",
   "metadata": {},
   "source": [
    "# Altman Z-Score\n",
    "1. Features \n",
    "    - log총자산(단위사용)\n",
    "    - log(매출액/총자산)   (= 총자산회전율)\n",
    "    - 이익잉여금/총자산\n",
    "    - 자기자본시장가격/총부채\n",
    "\n",
    "2. 범위별 판단\n",
    "    - k2 < - 2.3 : 부실가능성 심각\n",
    "    - -2.3 < k2 < 0.75 : 판정보류\n",
    "    - k2 > 0.75 : 건전판정\n",
    "\n",
    "    "
   ]
  },
  {
   "cell_type": "markdown",
   "metadata": {},
   "source": [
    "# I. DF"
   ]
  },
  {
   "cell_type": "markdown",
   "metadata": {},
   "source": [
    "## I-I. DF 불러오기"
   ]
  },
  {
   "cell_type": "code",
   "execution_count": 247,
   "metadata": {},
   "outputs": [],
   "source": [
    "# 연결 ALE\n",
    "df_a = pd.read_excel('./dataset_2nd/z_score_asset.xlsx')\n",
    "df_l = pd.read_excel('./dataset_2nd/z_score_liability.xlsx')\n",
    "df_e = pd.read_excel('./dataset_2nd/z_score_equity.xlsx')\n",
    "\n",
    "df_ale = pd.concat([df_a, df_l, df_e], axis=1) # 회사명, 거래소코드, 회계년도 제거 필요 \n",
    "\n",
    "# 연결 Sales & R/E\n",
    "df_sre = pd.read_excel('./dataset_2nd/z_score_sales_retainedearning.xlsx')\n",
    "\n",
    "# 개별 ALE\n",
    "df_ale_each = pd.read_excel('./dataset_2nd/z_score_ALE_each.xlsx')\n",
    "\n",
    "# 개별 Sales & R/E\n",
    "df_sre_each = pd.read_excel('./dataset_2nd/z_score_salesRE_each.xlsx')\n",
    "\n",
    "# 주가 & 발행주식수\n",
    "df_price = pd.read_excel('./dataset_2nd/z_score_price.xlsx')\n",
    "df_num_share = pd.read_excel('./dataset_2nd/z_score_sharesnumber.xlsx') # 중복 제거 필요\n",
    "\n",
    "\n"
   ]
  },
  {
   "cell_type": "code",
   "execution_count": 332,
   "metadata": {},
   "outputs": [],
   "source": [
    "df_share = pd.read_excel('./dataset_2nd/z_score_share.xlsx')"
   ]
  },
  {
   "cell_type": "markdown",
   "metadata": {},
   "source": [
    "---"
   ]
  },
  {
   "cell_type": "code",
   "execution_count": 333,
   "metadata": {},
   "outputs": [
    {
     "data": {
      "text/plain": [
       "회사명                                0\n",
       "거래소코드                              0\n",
       "회계년도                               0\n",
       "[제조]* 발행한 주식총수(*)(IFRS연결)(주)    6048\n",
       "[제조]   보통주(IFRS연결)(주)           6048\n",
       "[제조]   우선주(IFRS연결)(천원)          6048\n",
       "[제조]* 발행한 주식총수(*)(IFRS)(천원)     1993\n",
       "[제조]   보통주(IFRS)(주)             1993\n",
       "[제조]   우선주(IFRS)(주)             1993\n",
       "종가(원)                           3237\n",
       "dtype: int64"
      ]
     },
     "execution_count": 333,
     "metadata": {},
     "output_type": "execute_result"
    }
   ],
   "source": [
    "df_share"
   ]
  },
  {
   "cell_type": "markdown",
   "metadata": {},
   "source": [
    "---"
   ]
  },
  {
   "cell_type": "code",
   "execution_count": 248,
   "metadata": {},
   "outputs": [
    {
     "data": {
      "text/html": [
       "<div>\n",
       "<style scoped>\n",
       "    .dataframe tbody tr th:only-of-type {\n",
       "        vertical-align: middle;\n",
       "    }\n",
       "\n",
       "    .dataframe tbody tr th {\n",
       "        vertical-align: top;\n",
       "    }\n",
       "\n",
       "    .dataframe thead th {\n",
       "        text-align: right;\n",
       "    }\n",
       "</style>\n",
       "<table border=\"1\" class=\"dataframe\">\n",
       "  <thead>\n",
       "    <tr style=\"text-align: right;\">\n",
       "      <th></th>\n",
       "      <th>회사명</th>\n",
       "      <th>거래소코드</th>\n",
       "      <th>회계년도</th>\n",
       "      <th>[제조]      이익잉여금(결손금)(*)(IFRS연결)(천원)</th>\n",
       "      <th>[제조]매출액(수익)(*)(IFRS연결)(천원)</th>\n",
       "    </tr>\n",
       "  </thead>\n",
       "  <tbody>\n",
       "    <tr>\n",
       "      <th>0</th>\n",
       "      <td>(주)CMG제약</td>\n",
       "      <td>58820</td>\n",
       "      <td>2011/12</td>\n",
       "      <td>-45215050.0</td>\n",
       "      <td>17751704.0</td>\n",
       "    </tr>\n",
       "    <tr>\n",
       "      <th>1</th>\n",
       "      <td>(주)CMG제약</td>\n",
       "      <td>58820</td>\n",
       "      <td>2012/12</td>\n",
       "      <td>-52379991.0</td>\n",
       "      <td>16255389.0</td>\n",
       "    </tr>\n",
       "    <tr>\n",
       "      <th>2</th>\n",
       "      <td>(주)CMG제약</td>\n",
       "      <td>58820</td>\n",
       "      <td>2013/12</td>\n",
       "      <td>-52201720.0</td>\n",
       "      <td>20402140.0</td>\n",
       "    </tr>\n",
       "    <tr>\n",
       "      <th>3</th>\n",
       "      <td>(주)CMG제약</td>\n",
       "      <td>58820</td>\n",
       "      <td>2014/12</td>\n",
       "      <td>-52393918.0</td>\n",
       "      <td>22752584.0</td>\n",
       "    </tr>\n",
       "    <tr>\n",
       "      <th>4</th>\n",
       "      <td>(주)CMG제약</td>\n",
       "      <td>58820</td>\n",
       "      <td>2015/12</td>\n",
       "      <td>-56413575.0</td>\n",
       "      <td>27041894.0</td>\n",
       "    </tr>\n",
       "    <tr>\n",
       "      <th>...</th>\n",
       "      <td>...</td>\n",
       "      <td>...</td>\n",
       "      <td>...</td>\n",
       "      <td>...</td>\n",
       "      <td>...</td>\n",
       "    </tr>\n",
       "    <tr>\n",
       "      <th>17482</th>\n",
       "      <td>흥구석유(주)</td>\n",
       "      <td>24060</td>\n",
       "      <td>2018/12</td>\n",
       "      <td>NaN</td>\n",
       "      <td>NaN</td>\n",
       "    </tr>\n",
       "    <tr>\n",
       "      <th>17483</th>\n",
       "      <td>흥구석유(주)</td>\n",
       "      <td>24060</td>\n",
       "      <td>2019/12</td>\n",
       "      <td>NaN</td>\n",
       "      <td>NaN</td>\n",
       "    </tr>\n",
       "    <tr>\n",
       "      <th>17484</th>\n",
       "      <td>흥구석유(주)</td>\n",
       "      <td>24060</td>\n",
       "      <td>2020/12</td>\n",
       "      <td>NaN</td>\n",
       "      <td>NaN</td>\n",
       "    </tr>\n",
       "    <tr>\n",
       "      <th>17485</th>\n",
       "      <td>흥구석유(주)</td>\n",
       "      <td>24060</td>\n",
       "      <td>2021/12</td>\n",
       "      <td>NaN</td>\n",
       "      <td>NaN</td>\n",
       "    </tr>\n",
       "    <tr>\n",
       "      <th>17486</th>\n",
       "      <td>흥구석유(주)</td>\n",
       "      <td>24060</td>\n",
       "      <td>2022/12</td>\n",
       "      <td>NaN</td>\n",
       "      <td>NaN</td>\n",
       "    </tr>\n",
       "  </tbody>\n",
       "</table>\n",
       "<p>17487 rows × 5 columns</p>\n",
       "</div>"
      ],
      "text/plain": [
       "            회사명  거래소코드     회계년도  [제조]      이익잉여금(결손금)(*)(IFRS연결)(천원)  \\\n",
       "0      (주)CMG제약  58820  2011/12                          -45215050.0   \n",
       "1      (주)CMG제약  58820  2012/12                          -52379991.0   \n",
       "2      (주)CMG제약  58820  2013/12                          -52201720.0   \n",
       "3      (주)CMG제약  58820  2014/12                          -52393918.0   \n",
       "4      (주)CMG제약  58820  2015/12                          -56413575.0   \n",
       "...         ...    ...      ...                                  ...   \n",
       "17482   흥구석유(주)  24060  2018/12                                  NaN   \n",
       "17483   흥구석유(주)  24060  2019/12                                  NaN   \n",
       "17484   흥구석유(주)  24060  2020/12                                  NaN   \n",
       "17485   흥구석유(주)  24060  2021/12                                  NaN   \n",
       "17486   흥구석유(주)  24060  2022/12                                  NaN   \n",
       "\n",
       "       [제조]매출액(수익)(*)(IFRS연결)(천원)  \n",
       "0                      17751704.0  \n",
       "1                      16255389.0  \n",
       "2                      20402140.0  \n",
       "3                      22752584.0  \n",
       "4                      27041894.0  \n",
       "...                           ...  \n",
       "17482                         NaN  \n",
       "17483                         NaN  \n",
       "17484                         NaN  \n",
       "17485                         NaN  \n",
       "17486                         NaN  \n",
       "\n",
       "[17487 rows x 5 columns]"
      ]
     },
     "execution_count": 248,
     "metadata": {},
     "output_type": "execute_result"
    }
   ],
   "source": [
    "df_sre"
   ]
  },
  {
   "cell_type": "markdown",
   "metadata": {},
   "source": [
    "## I-II. 발행주식수 DF 중복 제거 \n",
    "    - row수 : 36297 -> 17487"
   ]
  },
  {
   "cell_type": "code",
   "execution_count": 249,
   "metadata": {},
   "outputs": [],
   "source": [
    "df_copy = df_num_share.copy()"
   ]
  },
  {
   "cell_type": "code",
   "execution_count": 250,
   "metadata": {},
   "outputs": [
    {
     "data": {
      "text/html": [
       "<div>\n",
       "<style scoped>\n",
       "    .dataframe tbody tr th:only-of-type {\n",
       "        vertical-align: middle;\n",
       "    }\n",
       "\n",
       "    .dataframe tbody tr th {\n",
       "        vertical-align: top;\n",
       "    }\n",
       "\n",
       "    .dataframe thead th {\n",
       "        text-align: right;\n",
       "    }\n",
       "</style>\n",
       "<table border=\"1\" class=\"dataframe\">\n",
       "  <thead>\n",
       "    <tr style=\"text-align: right;\">\n",
       "      <th></th>\n",
       "      <th>회사명</th>\n",
       "      <th>거래소코드</th>\n",
       "      <th>회계년도</th>\n",
       "      <th>발행주식의 총수 (현재 발행한 주식수 - 현재 감소한 주식수)(주)</th>\n",
       "    </tr>\n",
       "  </thead>\n",
       "  <tbody>\n",
       "    <tr>\n",
       "      <th>0</th>\n",
       "      <td>(주)CMG제약</td>\n",
       "      <td>58820</td>\n",
       "      <td>2011/12</td>\n",
       "      <td>43693200.0</td>\n",
       "    </tr>\n",
       "    <tr>\n",
       "      <th>1</th>\n",
       "      <td>(주)CMG제약</td>\n",
       "      <td>58820</td>\n",
       "      <td>2011/12</td>\n",
       "      <td>43693200.0</td>\n",
       "    </tr>\n",
       "    <tr>\n",
       "      <th>2</th>\n",
       "      <td>(주)CMG제약</td>\n",
       "      <td>58820</td>\n",
       "      <td>2012/12</td>\n",
       "      <td>66025540.0</td>\n",
       "    </tr>\n",
       "    <tr>\n",
       "      <th>3</th>\n",
       "      <td>(주)CMG제약</td>\n",
       "      <td>58820</td>\n",
       "      <td>2012/12</td>\n",
       "      <td>66025540.0</td>\n",
       "    </tr>\n",
       "    <tr>\n",
       "      <th>4</th>\n",
       "      <td>(주)CMG제약</td>\n",
       "      <td>58820</td>\n",
       "      <td>2013/12</td>\n",
       "      <td>86626866.0</td>\n",
       "    </tr>\n",
       "    <tr>\n",
       "      <th>...</th>\n",
       "      <td>...</td>\n",
       "      <td>...</td>\n",
       "      <td>...</td>\n",
       "      <td>...</td>\n",
       "    </tr>\n",
       "    <tr>\n",
       "      <th>36292</th>\n",
       "      <td>흥구석유(주)</td>\n",
       "      <td>24060</td>\n",
       "      <td>2020/12</td>\n",
       "      <td>15000000.0</td>\n",
       "    </tr>\n",
       "    <tr>\n",
       "      <th>36293</th>\n",
       "      <td>흥구석유(주)</td>\n",
       "      <td>24060</td>\n",
       "      <td>2021/12</td>\n",
       "      <td>15000000.0</td>\n",
       "    </tr>\n",
       "    <tr>\n",
       "      <th>36294</th>\n",
       "      <td>흥구석유(주)</td>\n",
       "      <td>24060</td>\n",
       "      <td>2021/12</td>\n",
       "      <td>15000000.0</td>\n",
       "    </tr>\n",
       "    <tr>\n",
       "      <th>36295</th>\n",
       "      <td>흥구석유(주)</td>\n",
       "      <td>24060</td>\n",
       "      <td>2022/12</td>\n",
       "      <td>15000000.0</td>\n",
       "    </tr>\n",
       "    <tr>\n",
       "      <th>36296</th>\n",
       "      <td>흥구석유(주)</td>\n",
       "      <td>24060</td>\n",
       "      <td>2022/12</td>\n",
       "      <td>15000000.0</td>\n",
       "    </tr>\n",
       "  </tbody>\n",
       "</table>\n",
       "<p>36297 rows × 4 columns</p>\n",
       "</div>"
      ],
      "text/plain": [
       "            회사명  거래소코드     회계년도  발행주식의 총수 (현재 발행한 주식수 - 현재 감소한 주식수)(주)\n",
       "0      (주)CMG제약  58820  2011/12                             43693200.0\n",
       "1      (주)CMG제약  58820  2011/12                             43693200.0\n",
       "2      (주)CMG제약  58820  2012/12                             66025540.0\n",
       "3      (주)CMG제약  58820  2012/12                             66025540.0\n",
       "4      (주)CMG제약  58820  2013/12                             86626866.0\n",
       "...         ...    ...      ...                                    ...\n",
       "36292   흥구석유(주)  24060  2020/12                             15000000.0\n",
       "36293   흥구석유(주)  24060  2021/12                             15000000.0\n",
       "36294   흥구석유(주)  24060  2021/12                             15000000.0\n",
       "36295   흥구석유(주)  24060  2022/12                             15000000.0\n",
       "36296   흥구석유(주)  24060  2022/12                             15000000.0\n",
       "\n",
       "[36297 rows x 4 columns]"
      ]
     },
     "execution_count": 250,
     "metadata": {},
     "output_type": "execute_result"
    }
   ],
   "source": [
    "df_copy"
   ]
  },
  {
   "cell_type": "code",
   "execution_count": 251,
   "metadata": {},
   "outputs": [],
   "source": [
    "df_num_share_5 = pd.pivot_table(df_copy, index=[\"회사명\",\"거래소코드\",\"회계년도\"], values='발행주식의 총수 (현재 발행한 주식수 - 현재 감소한 주식수)(주)', aggfunc=['count','sum','mean'])[[( 'mean', '발행주식의 총수 (현재 발행한 주식수 - 현재 감소한 주식수)(주)')]].reset_index()"
   ]
  },
  {
   "cell_type": "code",
   "execution_count": 252,
   "metadata": {},
   "outputs": [],
   "source": [
    "df_num_share_5.columns = ['회사명','거래소코드','회계년도', '발행주식의 총수 (현재 발행한 주식수 - 현재 감소한 주식수)(주)']"
   ]
  },
  {
   "cell_type": "code",
   "execution_count": 253,
   "metadata": {},
   "outputs": [],
   "source": [
    "df_num_share = df_num_share_5"
   ]
  },
  {
   "cell_type": "markdown",
   "metadata": {},
   "source": [
    "---"
   ]
  },
  {
   "cell_type": "markdown",
   "metadata": {},
   "source": [
    "## I-III. 개별 ALE DF 정리"
   ]
  },
  {
   "cell_type": "code",
   "execution_count": 254,
   "metadata": {},
   "outputs": [
    {
     "data": {
      "text/plain": [
       "Index(['회사명', '거래소코드', '회계년도', '[제조]자산(*)(IFRS연결)', '회사명', '거래소코드', '회계년도',\n",
       "       '[제조]부채(*)(IFRS연결)', '회사명', '거래소코드', '회계년도', '[제조]자본(*)(IFRS연결)(천원)'],\n",
       "      dtype='object')"
      ]
     },
     "execution_count": 254,
     "metadata": {},
     "output_type": "execute_result"
    }
   ],
   "source": [
    "df_ale.columns"
   ]
  },
  {
   "cell_type": "code",
   "execution_count": 255,
   "metadata": {},
   "outputs": [],
   "source": [
    "df_ale.columns = ['회사명', '거래소코드', '회계년도', '[제조]자산(*)(IFRS연결)', '회사명2', '거래소코드2', '회계년도2',\\\n",
    "       '[제조]부채(*)(IFRS연결)', '회사명3', '거래소코드3', '회계년도3', '[제조]자본(*)(IFRS연결)(천원)']"
   ]
  },
  {
   "cell_type": "code",
   "execution_count": 256,
   "metadata": {},
   "outputs": [],
   "source": [
    "df_ale.drop(['회사명2', '거래소코드2', '회계년도2','회사명3', '거래소코드3', '회계년도3'], axis = 1, inplace = True)"
   ]
  },
  {
   "cell_type": "markdown",
   "metadata": {},
   "source": [
    "## I-IV. DF 통합"
   ]
  },
  {
   "cell_type": "code",
   "execution_count": 257,
   "metadata": {},
   "outputs": [],
   "source": [
    "# 중복 컬럼 제거\n",
    "df_sre.drop(['회사명','거래소코드', '회계년도'], axis = 1, inplace = True)\n",
    "df_ale_each.drop(['회사명','거래소코드', '회계년도'], axis = 1, inplace = True)\n",
    "df_sre_each.drop(['회사명','거래소코드', '회계년도'], axis = 1, inplace = True)\n",
    "df_price.drop(['회사명','거래소코드', '회계년도'], axis = 1, inplace = True)\n",
    "df_num_share.drop(['회사명','거래소코드', '회계년도'], axis = 1, inplace = True)"
   ]
  },
  {
   "cell_type": "code",
   "execution_count": 258,
   "metadata": {},
   "outputs": [],
   "source": [
    "# concat\n",
    "df = pd.concat([df_ale, df_ale_each, df_sre, df_sre_each, df_price, df_num_share], axis = 1)"
   ]
  },
  {
   "cell_type": "markdown",
   "metadata": {},
   "source": [
    "---"
   ]
  },
  {
   "cell_type": "markdown",
   "metadata": {},
   "source": [
    "# II. 연결&개별 합쳐서 결측치 문제 해결"
   ]
  },
  {
   "cell_type": "markdown",
   "metadata": {},
   "source": [
    "## II-I.연결 결측치에 개별 값으로 대체"
   ]
  },
  {
   "cell_type": "markdown",
   "metadata": {},
   "source": [
    "### 1. 연+개_자산"
   ]
  },
  {
   "cell_type": "code",
   "execution_count": 259,
   "metadata": {},
   "outputs": [],
   "source": [
    "df_copy = df.copy()\n",
    "# df = df_copy.copy()"
   ]
  },
  {
   "cell_type": "code",
   "execution_count": 261,
   "metadata": {},
   "outputs": [
    {
     "data": {
      "text/plain": [
       "Index(['회사명', '거래소코드', '회계년도', '[제조]자산(*)(IFRS연결)', '[제조]부채(*)(IFRS연결)',\n",
       "       '[제조]자본(*)(IFRS연결)(천원)', '[제조]자산(*)(IFRS)(천원)', '[제조]부채(*)(IFRS)(천원)',\n",
       "       '[제조]자본(*)(IFRS)(천원)', '[제조]      이익잉여금(결손금)(*)(IFRS연결)(천원)',\n",
       "       '[제조]매출액(수익)(*)(IFRS연결)(천원)', '[제조]   이익잉여금(결손금)(*)(IFRS)(천원)',\n",
       "       '[제조]매출액(수익)(*)(IFRS)(천원)', '종가(원)',\n",
       "       '발행주식의 총수 (현재 발행한 주식수 - 현재 감소한 주식수)(주)'],\n",
       "      dtype='object')"
      ]
     },
     "execution_count": 261,
     "metadata": {},
     "output_type": "execute_result"
    }
   ],
   "source": [
    "df.columns"
   ]
  },
  {
   "cell_type": "code",
   "execution_count": 262,
   "metadata": {},
   "outputs": [],
   "source": [
    "# 컬럼 제목 정리\n",
    "df.columns = ['회사명', '거래소코드', '회계년도', \n",
    "       '[제조]자산(*)(IFRS연결)(천원)', '[제조]부채(*)(IFRS연결)(천원)','[제조]자본(*)(IFRS연결)(천원)',\n",
    "       '[제조]자산(*)(IFRS)(천원)', '[제조]부채(*)(IFRS)(천원)','[제조]자본(*)(IFRS)(천원)',\n",
    "       '[제조]      이익잉여금(결손금)(*)(IFRS연결)(천원)','[제조]매출액(수익)(*)(IFRS연결)(천원)',\n",
    "       '[제조]   이익잉여금(결손금)(*)(IFRS)(천원)','[제조]매출액(수익)(*)(IFRS)(천원)',\n",
    "       '종가(원)', '발행주식의 총수 (현재 발행한 주식수 - 현재 감소한 주식수)(주)']"
   ]
  },
  {
   "cell_type": "code",
   "execution_count": 263,
   "metadata": {},
   "outputs": [
    {
     "data": {
      "text/html": [
       "<div>\n",
       "<style scoped>\n",
       "    .dataframe tbody tr th:only-of-type {\n",
       "        vertical-align: middle;\n",
       "    }\n",
       "\n",
       "    .dataframe tbody tr th {\n",
       "        vertical-align: top;\n",
       "    }\n",
       "\n",
       "    .dataframe thead th {\n",
       "        text-align: right;\n",
       "    }\n",
       "</style>\n",
       "<table border=\"1\" class=\"dataframe\">\n",
       "  <thead>\n",
       "    <tr style=\"text-align: right;\">\n",
       "      <th></th>\n",
       "      <th>회사명</th>\n",
       "      <th>거래소코드</th>\n",
       "      <th>회계년도</th>\n",
       "      <th>[제조]자산(*)(IFRS)(천원)</th>\n",
       "      <th>[제조]자산(*)(IFRS연결)(천원)</th>\n",
       "    </tr>\n",
       "  </thead>\n",
       "  <tbody>\n",
       "    <tr>\n",
       "      <th>9</th>\n",
       "      <td>(주)CMG제약</td>\n",
       "      <td>58820</td>\n",
       "      <td>2020/12</td>\n",
       "      <td>195355583.0</td>\n",
       "      <td>NaN</td>\n",
       "    </tr>\n",
       "    <tr>\n",
       "      <th>10</th>\n",
       "      <td>(주)CMG제약</td>\n",
       "      <td>58820</td>\n",
       "      <td>2021/12</td>\n",
       "      <td>199174593.0</td>\n",
       "      <td>NaN</td>\n",
       "    </tr>\n",
       "    <tr>\n",
       "      <th>11</th>\n",
       "      <td>(주)CMG제약</td>\n",
       "      <td>58820</td>\n",
       "      <td>2022/12</td>\n",
       "      <td>213260376.0</td>\n",
       "      <td>NaN</td>\n",
       "    </tr>\n",
       "    <tr>\n",
       "      <th>36</th>\n",
       "      <td>(주)가온칩스</td>\n",
       "      <td>399720</td>\n",
       "      <td>2018/12</td>\n",
       "      <td>NaN</td>\n",
       "      <td>NaN</td>\n",
       "    </tr>\n",
       "    <tr>\n",
       "      <th>37</th>\n",
       "      <td>(주)가온칩스</td>\n",
       "      <td>399720</td>\n",
       "      <td>2019/12</td>\n",
       "      <td>NaN</td>\n",
       "      <td>NaN</td>\n",
       "    </tr>\n",
       "    <tr>\n",
       "      <th>...</th>\n",
       "      <td>...</td>\n",
       "      <td>...</td>\n",
       "      <td>...</td>\n",
       "      <td>...</td>\n",
       "      <td>...</td>\n",
       "    </tr>\n",
       "    <tr>\n",
       "      <th>17482</th>\n",
       "      <td>흥구석유(주)</td>\n",
       "      <td>24060</td>\n",
       "      <td>2018/12</td>\n",
       "      <td>75205581.0</td>\n",
       "      <td>NaN</td>\n",
       "    </tr>\n",
       "    <tr>\n",
       "      <th>17483</th>\n",
       "      <td>흥구석유(주)</td>\n",
       "      <td>24060</td>\n",
       "      <td>2019/12</td>\n",
       "      <td>83661499.0</td>\n",
       "      <td>NaN</td>\n",
       "    </tr>\n",
       "    <tr>\n",
       "      <th>17484</th>\n",
       "      <td>흥구석유(주)</td>\n",
       "      <td>24060</td>\n",
       "      <td>2020/12</td>\n",
       "      <td>83721348.0</td>\n",
       "      <td>NaN</td>\n",
       "    </tr>\n",
       "    <tr>\n",
       "      <th>17485</th>\n",
       "      <td>흥구석유(주)</td>\n",
       "      <td>24060</td>\n",
       "      <td>2021/12</td>\n",
       "      <td>82647109.0</td>\n",
       "      <td>NaN</td>\n",
       "    </tr>\n",
       "    <tr>\n",
       "      <th>17486</th>\n",
       "      <td>흥구석유(주)</td>\n",
       "      <td>24060</td>\n",
       "      <td>2022/12</td>\n",
       "      <td>93934616.0</td>\n",
       "      <td>NaN</td>\n",
       "    </tr>\n",
       "  </tbody>\n",
       "</table>\n",
       "<p>6048 rows × 5 columns</p>\n",
       "</div>"
      ],
      "text/plain": [
       "            회사명   거래소코드     회계년도  [제조]자산(*)(IFRS)(천원)  [제조]자산(*)(IFRS연결)(천원)\n",
       "9      (주)CMG제약   58820  2020/12          195355583.0                    NaN\n",
       "10     (주)CMG제약   58820  2021/12          199174593.0                    NaN\n",
       "11     (주)CMG제약   58820  2022/12          213260376.0                    NaN\n",
       "36      (주)가온칩스  399720  2018/12                  NaN                    NaN\n",
       "37      (주)가온칩스  399720  2019/12                  NaN                    NaN\n",
       "...         ...     ...      ...                  ...                    ...\n",
       "17482   흥구석유(주)   24060  2018/12           75205581.0                    NaN\n",
       "17483   흥구석유(주)   24060  2019/12           83661499.0                    NaN\n",
       "17484   흥구석유(주)   24060  2020/12           83721348.0                    NaN\n",
       "17485   흥구석유(주)   24060  2021/12           82647109.0                    NaN\n",
       "17486   흥구석유(주)   24060  2022/12           93934616.0                    NaN\n",
       "\n",
       "[6048 rows x 5 columns]"
      ]
     },
     "execution_count": 263,
     "metadata": {},
     "output_type": "execute_result"
    }
   ],
   "source": [
    "df.loc[df['[제조]자산(*)(IFRS연결)(천원)'].isna(), ['회사명','거래소코드','회계년도','[제조]자산(*)(IFRS)(천원)','[제조]자산(*)(IFRS연결)(천원)']]"
   ]
  },
  {
   "cell_type": "code",
   "execution_count": 264,
   "metadata": {},
   "outputs": [],
   "source": [
    "a = df.loc[df['[제조]자산(*)(IFRS연결)(천원)'].isna(), ['회사명','거래소코드','회계년도','[제조]자산(*)(IFRS)(천원)','[제조]자산(*)(IFRS연결)(천원)']]['[제조]자산(*)(IFRS)(천원)']"
   ]
  },
  {
   "cell_type": "code",
   "execution_count": 266,
   "metadata": {},
   "outputs": [],
   "source": [
    "df.loc[df['[제조]자산(*)(IFRS연결)(천원)'].isna(),'[제조]자산(*)(IFRS연결)(천원)'] = a\n"
   ]
  },
  {
   "cell_type": "code",
   "execution_count": 267,
   "metadata": {},
   "outputs": [
    {
     "data": {
      "text/plain": [
       "1868"
      ]
     },
     "execution_count": 267,
     "metadata": {},
     "output_type": "execute_result"
    }
   ],
   "source": [
    "df['[제조]자산(*)(IFRS연결)(천원)'].isna().sum()"
   ]
  },
  {
   "cell_type": "markdown",
   "metadata": {},
   "source": [
    "- 연결과 개별 둘다 Nan 인 경우 -> 1868"
   ]
  },
  {
   "cell_type": "markdown",
   "metadata": {},
   "source": [
    "### 2. 연+개_매출액"
   ]
  },
  {
   "cell_type": "code",
   "execution_count": 268,
   "metadata": {},
   "outputs": [],
   "source": [
    "b = df.loc[df['[제조]매출액(수익)(*)(IFRS연결)(천원)'].isna(), '[제조]매출액(수익)(*)(IFRS)(천원)']"
   ]
  },
  {
   "cell_type": "code",
   "execution_count": 269,
   "metadata": {},
   "outputs": [
    {
     "data": {
      "text/plain": [
       "6048"
      ]
     },
     "execution_count": 269,
     "metadata": {},
     "output_type": "execute_result"
    }
   ],
   "source": [
    "df['[제조]매출액(수익)(*)(IFRS연결)(천원)'].isna().sum()"
   ]
  },
  {
   "cell_type": "code",
   "execution_count": 270,
   "metadata": {},
   "outputs": [],
   "source": [
    "df.loc[df['[제조]매출액(수익)(*)(IFRS연결)(천원)'].isna(),'[제조]매출액(수익)(*)(IFRS연결)(천원)'] = b"
   ]
  },
  {
   "cell_type": "code",
   "execution_count": 271,
   "metadata": {},
   "outputs": [
    {
     "data": {
      "text/plain": [
       "1864"
      ]
     },
     "execution_count": 271,
     "metadata": {},
     "output_type": "execute_result"
    }
   ],
   "source": [
    "df['[제조]매출액(수익)(*)(IFRS연결)(천원)'].isna().sum()"
   ]
  },
  {
   "cell_type": "markdown",
   "metadata": {},
   "source": [
    "### 3. 연+개_이익잉여금"
   ]
  },
  {
   "cell_type": "code",
   "execution_count": 273,
   "metadata": {},
   "outputs": [
    {
     "data": {
      "text/plain": [
       "Index(['회사명', '거래소코드', '회계년도', '[제조]자산(*)(IFRS연결)(천원)',\n",
       "       '[제조]부채(*)(IFRS연결)(천원)', '[제조]자본(*)(IFRS연결)(천원)', '[제조]자산(*)(IFRS)(천원)',\n",
       "       '[제조]부채(*)(IFRS)(천원)', '[제조]자본(*)(IFRS)(천원)',\n",
       "       '[제조]      이익잉여금(결손금)(*)(IFRS연결)(천원)', '[제조]매출액(수익)(*)(IFRS연결)(천원)',\n",
       "       '[제조]   이익잉여금(결손금)(*)(IFRS)(천원)', '[제조]매출액(수익)(*)(IFRS)(천원)', '종가(원)',\n",
       "       '발행주식의 총수 (현재 발행한 주식수 - 현재 감소한 주식수)(주)'],\n",
       "      dtype='object')"
      ]
     },
     "execution_count": 273,
     "metadata": {},
     "output_type": "execute_result"
    }
   ],
   "source": [
    "df.columns"
   ]
  },
  {
   "cell_type": "code",
   "execution_count": 275,
   "metadata": {},
   "outputs": [],
   "source": [
    "c = df.loc[df['[제조]      이익잉여금(결손금)(*)(IFRS연결)(천원)'].isna(), '[제조]   이익잉여금(결손금)(*)(IFRS)(천원)']"
   ]
  },
  {
   "cell_type": "code",
   "execution_count": 276,
   "metadata": {},
   "outputs": [],
   "source": [
    "df.loc[df['[제조]      이익잉여금(결손금)(*)(IFRS연결)(천원)'].isna(),'[제조]      이익잉여금(결손금)(*)(IFRS연결)(천원)'] = c"
   ]
  },
  {
   "cell_type": "code",
   "execution_count": 277,
   "metadata": {},
   "outputs": [
    {
     "data": {
      "text/plain": [
       "1864"
      ]
     },
     "execution_count": 277,
     "metadata": {},
     "output_type": "execute_result"
    }
   ],
   "source": [
    "df['[제조]      이익잉여금(결손금)(*)(IFRS연결)(천원)'].isna().sum()"
   ]
  },
  {
   "cell_type": "markdown",
   "metadata": {},
   "source": [
    "### 4. 연+개_자본"
   ]
  },
  {
   "cell_type": "code",
   "execution_count": 279,
   "metadata": {},
   "outputs": [],
   "source": [
    "d = df.loc[df['[제조]자본(*)(IFRS연결)(천원)'].isna(), '[제조]자본(*)(IFRS)(천원)']\n"
   ]
  },
  {
   "cell_type": "code",
   "execution_count": 280,
   "metadata": {},
   "outputs": [],
   "source": [
    "df.loc[df['[제조]자본(*)(IFRS연결)(천원)'].isna(), '[제조]자본(*)(IFRS연결)(천원)'] = d"
   ]
  },
  {
   "cell_type": "code",
   "execution_count": 281,
   "metadata": {},
   "outputs": [
    {
     "data": {
      "text/plain": [
       "1868"
      ]
     },
     "execution_count": 281,
     "metadata": {},
     "output_type": "execute_result"
    }
   ],
   "source": [
    "df['[제조]자본(*)(IFRS연결)(천원)'].isna().sum()"
   ]
  },
  {
   "cell_type": "markdown",
   "metadata": {},
   "source": [
    "### 5. 연+개_부채"
   ]
  },
  {
   "cell_type": "code",
   "execution_count": 283,
   "metadata": {},
   "outputs": [],
   "source": [
    "e = df.loc[df['[제조]부채(*)(IFRS연결)(천원)'].isna(), '[제조]부채(*)(IFRS)(천원)']"
   ]
  },
  {
   "cell_type": "code",
   "execution_count": 284,
   "metadata": {},
   "outputs": [],
   "source": [
    "df.loc[df['[제조]부채(*)(IFRS연결)(천원)'].isna(),'[제조]부채(*)(IFRS연결)(천원)'] = e"
   ]
  },
  {
   "cell_type": "code",
   "execution_count": 285,
   "metadata": {},
   "outputs": [
    {
     "data": {
      "text/plain": [
       "1868"
      ]
     },
     "execution_count": 285,
     "metadata": {},
     "output_type": "execute_result"
    }
   ],
   "source": [
    "df['[제조]부채(*)(IFRS연결)(천원)'].isna().sum()"
   ]
  },
  {
   "cell_type": "code",
   "execution_count": 286,
   "metadata": {},
   "outputs": [
    {
     "data": {
      "text/html": [
       "<div>\n",
       "<style scoped>\n",
       "    .dataframe tbody tr th:only-of-type {\n",
       "        vertical-align: middle;\n",
       "    }\n",
       "\n",
       "    .dataframe tbody tr th {\n",
       "        vertical-align: top;\n",
       "    }\n",
       "\n",
       "    .dataframe thead th {\n",
       "        text-align: right;\n",
       "    }\n",
       "</style>\n",
       "<table border=\"1\" class=\"dataframe\">\n",
       "  <thead>\n",
       "    <tr style=\"text-align: right;\">\n",
       "      <th></th>\n",
       "      <th>회사명</th>\n",
       "      <th>거래소코드</th>\n",
       "      <th>회계년도</th>\n",
       "      <th>[제조]자산(*)(IFRS연결)(천원)</th>\n",
       "      <th>[제조]부채(*)(IFRS연결)(천원)</th>\n",
       "      <th>[제조]자본(*)(IFRS연결)(천원)</th>\n",
       "      <th>[제조]자산(*)(IFRS)(천원)</th>\n",
       "      <th>[제조]부채(*)(IFRS)(천원)</th>\n",
       "      <th>[제조]자본(*)(IFRS)(천원)</th>\n",
       "      <th>[제조]      이익잉여금(결손금)(*)(IFRS연결)(천원)</th>\n",
       "      <th>[제조]매출액(수익)(*)(IFRS연결)(천원)</th>\n",
       "      <th>[제조]   이익잉여금(결손금)(*)(IFRS)(천원)</th>\n",
       "      <th>[제조]매출액(수익)(*)(IFRS)(천원)</th>\n",
       "      <th>종가(원)</th>\n",
       "      <th>발행주식의 총수 (현재 발행한 주식수 - 현재 감소한 주식수)(주)</th>\n",
       "    </tr>\n",
       "  </thead>\n",
       "  <tbody>\n",
       "    <tr>\n",
       "      <th>0</th>\n",
       "      <td>(주)CMG제약</td>\n",
       "      <td>58820</td>\n",
       "      <td>2011/12</td>\n",
       "      <td>27305198.0</td>\n",
       "      <td>9270949.0</td>\n",
       "      <td>18034249.0</td>\n",
       "      <td>27548539.0</td>\n",
       "      <td>9257624.0</td>\n",
       "      <td>18290915.0</td>\n",
       "      <td>-45215050.0</td>\n",
       "      <td>17751704.0</td>\n",
       "      <td>-44971257.0</td>\n",
       "      <td>17751704.0</td>\n",
       "      <td>785.0</td>\n",
       "      <td>43693200.0</td>\n",
       "    </tr>\n",
       "    <tr>\n",
       "      <th>1</th>\n",
       "      <td>(주)CMG제약</td>\n",
       "      <td>58820</td>\n",
       "      <td>2012/12</td>\n",
       "      <td>57108035.0</td>\n",
       "      <td>25517350.0</td>\n",
       "      <td>31590685.0</td>\n",
       "      <td>56988604.0</td>\n",
       "      <td>25386064.0</td>\n",
       "      <td>31602540.0</td>\n",
       "      <td>-52379991.0</td>\n",
       "      <td>16255389.0</td>\n",
       "      <td>-52368787.0</td>\n",
       "      <td>16255389.0</td>\n",
       "      <td>1330.0</td>\n",
       "      <td>66025540.0</td>\n",
       "    </tr>\n",
       "    <tr>\n",
       "      <th>2</th>\n",
       "      <td>(주)CMG제약</td>\n",
       "      <td>58820</td>\n",
       "      <td>2013/12</td>\n",
       "      <td>55912563.0</td>\n",
       "      <td>6915281.0</td>\n",
       "      <td>48997281.0</td>\n",
       "      <td>55961620.0</td>\n",
       "      <td>6913407.0</td>\n",
       "      <td>49048213.0</td>\n",
       "      <td>-52201720.0</td>\n",
       "      <td>20402140.0</td>\n",
       "      <td>-52151440.0</td>\n",
       "      <td>20322140.0</td>\n",
       "      <td>932.0</td>\n",
       "      <td>86626866.0</td>\n",
       "    </tr>\n",
       "    <tr>\n",
       "      <th>3</th>\n",
       "      <td>(주)CMG제약</td>\n",
       "      <td>58820</td>\n",
       "      <td>2014/12</td>\n",
       "      <td>58068326.0</td>\n",
       "      <td>9065682.0</td>\n",
       "      <td>49002644.0</td>\n",
       "      <td>58127098.0</td>\n",
       "      <td>9060059.0</td>\n",
       "      <td>49067039.0</td>\n",
       "      <td>-52393918.0</td>\n",
       "      <td>22752584.0</td>\n",
       "      <td>-52330174.0</td>\n",
       "      <td>22752584.0</td>\n",
       "      <td>912.0</td>\n",
       "      <td>57751244.0</td>\n",
       "    </tr>\n",
       "    <tr>\n",
       "      <th>4</th>\n",
       "      <td>(주)CMG제약</td>\n",
       "      <td>58820</td>\n",
       "      <td>2015/12</td>\n",
       "      <td>56532821.0</td>\n",
       "      <td>9725933.0</td>\n",
       "      <td>46806888.0</td>\n",
       "      <td>56591972.0</td>\n",
       "      <td>9719267.0</td>\n",
       "      <td>46872705.0</td>\n",
       "      <td>-56413575.0</td>\n",
       "      <td>27041894.0</td>\n",
       "      <td>-56348409.0</td>\n",
       "      <td>27041894.0</td>\n",
       "      <td>2110.0</td>\n",
       "      <td>88297244.0</td>\n",
       "    </tr>\n",
       "    <tr>\n",
       "      <th>...</th>\n",
       "      <td>...</td>\n",
       "      <td>...</td>\n",
       "      <td>...</td>\n",
       "      <td>...</td>\n",
       "      <td>...</td>\n",
       "      <td>...</td>\n",
       "      <td>...</td>\n",
       "      <td>...</td>\n",
       "      <td>...</td>\n",
       "      <td>...</td>\n",
       "      <td>...</td>\n",
       "      <td>...</td>\n",
       "      <td>...</td>\n",
       "      <td>...</td>\n",
       "      <td>...</td>\n",
       "    </tr>\n",
       "    <tr>\n",
       "      <th>17482</th>\n",
       "      <td>흥구석유(주)</td>\n",
       "      <td>24060</td>\n",
       "      <td>2018/12</td>\n",
       "      <td>75205581.0</td>\n",
       "      <td>4763313.0</td>\n",
       "      <td>70442269.0</td>\n",
       "      <td>75205581.0</td>\n",
       "      <td>4763313.0</td>\n",
       "      <td>70442269.0</td>\n",
       "      <td>34090738.0</td>\n",
       "      <td>166208303.0</td>\n",
       "      <td>34090738.0</td>\n",
       "      <td>166208303.0</td>\n",
       "      <td>2705.0</td>\n",
       "      <td>15000000.0</td>\n",
       "    </tr>\n",
       "    <tr>\n",
       "      <th>17483</th>\n",
       "      <td>흥구석유(주)</td>\n",
       "      <td>24060</td>\n",
       "      <td>2019/12</td>\n",
       "      <td>83661499.0</td>\n",
       "      <td>6660240.0</td>\n",
       "      <td>77001259.0</td>\n",
       "      <td>83661499.0</td>\n",
       "      <td>6660240.0</td>\n",
       "      <td>77001259.0</td>\n",
       "      <td>40649728.0</td>\n",
       "      <td>150668735.0</td>\n",
       "      <td>40649728.0</td>\n",
       "      <td>150668735.0</td>\n",
       "      <td>5360.0</td>\n",
       "      <td>15000000.0</td>\n",
       "    </tr>\n",
       "    <tr>\n",
       "      <th>17484</th>\n",
       "      <td>흥구석유(주)</td>\n",
       "      <td>24060</td>\n",
       "      <td>2020/12</td>\n",
       "      <td>83721348.0</td>\n",
       "      <td>4121163.0</td>\n",
       "      <td>79600184.0</td>\n",
       "      <td>83721348.0</td>\n",
       "      <td>4121163.0</td>\n",
       "      <td>79600184.0</td>\n",
       "      <td>43248653.0</td>\n",
       "      <td>114843735.0</td>\n",
       "      <td>43248653.0</td>\n",
       "      <td>114843735.0</td>\n",
       "      <td>7220.0</td>\n",
       "      <td>15000000.0</td>\n",
       "    </tr>\n",
       "    <tr>\n",
       "      <th>17485</th>\n",
       "      <td>흥구석유(주)</td>\n",
       "      <td>24060</td>\n",
       "      <td>2021/12</td>\n",
       "      <td>82647109.0</td>\n",
       "      <td>3751076.0</td>\n",
       "      <td>78896033.0</td>\n",
       "      <td>82647109.0</td>\n",
       "      <td>3751076.0</td>\n",
       "      <td>78896033.0</td>\n",
       "      <td>42544502.0</td>\n",
       "      <td>132213730.0</td>\n",
       "      <td>42544502.0</td>\n",
       "      <td>132213730.0</td>\n",
       "      <td>7160.0</td>\n",
       "      <td>15000000.0</td>\n",
       "    </tr>\n",
       "    <tr>\n",
       "      <th>17486</th>\n",
       "      <td>흥구석유(주)</td>\n",
       "      <td>24060</td>\n",
       "      <td>2022/12</td>\n",
       "      <td>93934616.0</td>\n",
       "      <td>13848317.0</td>\n",
       "      <td>80086299.0</td>\n",
       "      <td>93934616.0</td>\n",
       "      <td>13848317.0</td>\n",
       "      <td>80086299.0</td>\n",
       "      <td>43734768.0</td>\n",
       "      <td>146717690.0</td>\n",
       "      <td>43734768.0</td>\n",
       "      <td>146717690.0</td>\n",
       "      <td>5680.0</td>\n",
       "      <td>15000000.0</td>\n",
       "    </tr>\n",
       "  </tbody>\n",
       "</table>\n",
       "<p>17487 rows × 15 columns</p>\n",
       "</div>"
      ],
      "text/plain": [
       "            회사명  거래소코드     회계년도  [제조]자산(*)(IFRS연결)(천원)  [제조]부채(*)(IFRS연결)(천원)  \\\n",
       "0      (주)CMG제약  58820  2011/12             27305198.0              9270949.0   \n",
       "1      (주)CMG제약  58820  2012/12             57108035.0             25517350.0   \n",
       "2      (주)CMG제약  58820  2013/12             55912563.0              6915281.0   \n",
       "3      (주)CMG제약  58820  2014/12             58068326.0              9065682.0   \n",
       "4      (주)CMG제약  58820  2015/12             56532821.0              9725933.0   \n",
       "...         ...    ...      ...                    ...                    ...   \n",
       "17482   흥구석유(주)  24060  2018/12             75205581.0              4763313.0   \n",
       "17483   흥구석유(주)  24060  2019/12             83661499.0              6660240.0   \n",
       "17484   흥구석유(주)  24060  2020/12             83721348.0              4121163.0   \n",
       "17485   흥구석유(주)  24060  2021/12             82647109.0              3751076.0   \n",
       "17486   흥구석유(주)  24060  2022/12             93934616.0             13848317.0   \n",
       "\n",
       "       [제조]자본(*)(IFRS연결)(천원)  [제조]자산(*)(IFRS)(천원)  [제조]부채(*)(IFRS)(천원)  \\\n",
       "0                 18034249.0           27548539.0            9257624.0   \n",
       "1                 31590685.0           56988604.0           25386064.0   \n",
       "2                 48997281.0           55961620.0            6913407.0   \n",
       "3                 49002644.0           58127098.0            9060059.0   \n",
       "4                 46806888.0           56591972.0            9719267.0   \n",
       "...                      ...                  ...                  ...   \n",
       "17482             70442269.0           75205581.0            4763313.0   \n",
       "17483             77001259.0           83661499.0            6660240.0   \n",
       "17484             79600184.0           83721348.0            4121163.0   \n",
       "17485             78896033.0           82647109.0            3751076.0   \n",
       "17486             80086299.0           93934616.0           13848317.0   \n",
       "\n",
       "       [제조]자본(*)(IFRS)(천원)  [제조]      이익잉여금(결손금)(*)(IFRS연결)(천원)  \\\n",
       "0               18290915.0                          -45215050.0   \n",
       "1               31602540.0                          -52379991.0   \n",
       "2               49048213.0                          -52201720.0   \n",
       "3               49067039.0                          -52393918.0   \n",
       "4               46872705.0                          -56413575.0   \n",
       "...                    ...                                  ...   \n",
       "17482           70442269.0                           34090738.0   \n",
       "17483           77001259.0                           40649728.0   \n",
       "17484           79600184.0                           43248653.0   \n",
       "17485           78896033.0                           42544502.0   \n",
       "17486           80086299.0                           43734768.0   \n",
       "\n",
       "       [제조]매출액(수익)(*)(IFRS연결)(천원)  [제조]   이익잉여금(결손금)(*)(IFRS)(천원)  \\\n",
       "0                      17751704.0                     -44971257.0   \n",
       "1                      16255389.0                     -52368787.0   \n",
       "2                      20402140.0                     -52151440.0   \n",
       "3                      22752584.0                     -52330174.0   \n",
       "4                      27041894.0                     -56348409.0   \n",
       "...                           ...                             ...   \n",
       "17482                 166208303.0                      34090738.0   \n",
       "17483                 150668735.0                      40649728.0   \n",
       "17484                 114843735.0                      43248653.0   \n",
       "17485                 132213730.0                      42544502.0   \n",
       "17486                 146717690.0                      43734768.0   \n",
       "\n",
       "       [제조]매출액(수익)(*)(IFRS)(천원)   종가(원)  발행주식의 총수 (현재 발행한 주식수 - 현재 감소한 주식수)(주)  \n",
       "0                    17751704.0   785.0                             43693200.0  \n",
       "1                    16255389.0  1330.0                             66025540.0  \n",
       "2                    20322140.0   932.0                             86626866.0  \n",
       "3                    22752584.0   912.0                             57751244.0  \n",
       "4                    27041894.0  2110.0                             88297244.0  \n",
       "...                         ...     ...                                    ...  \n",
       "17482               166208303.0  2705.0                             15000000.0  \n",
       "17483               150668735.0  5360.0                             15000000.0  \n",
       "17484               114843735.0  7220.0                             15000000.0  \n",
       "17485               132213730.0  7160.0                             15000000.0  \n",
       "17486               146717690.0  5680.0                             15000000.0  \n",
       "\n",
       "[17487 rows x 15 columns]"
      ]
     },
     "execution_count": 286,
     "metadata": {},
     "output_type": "execute_result"
    }
   ],
   "source": [
    "df"
   ]
  },
  {
   "cell_type": "markdown",
   "metadata": {},
   "source": [
    "---"
   ]
  },
  {
   "cell_type": "markdown",
   "metadata": {},
   "source": [
    "## II-II. 연결 & 개별 Both 결측치인 경우 -> 오뜨카지.."
   ]
  },
  {
   "cell_type": "markdown",
   "metadata": {},
   "source": [
    "### 1. 갯수확인"
   ]
  },
  {
   "cell_type": "code",
   "execution_count": 296,
   "metadata": {},
   "outputs": [
    {
     "data": {
      "text/plain": [
       "Index(['회사명', '거래소코드', '회계년도', '[제조]자산(*)(IFRS연결)(천원)',\n",
       "       '[제조]부채(*)(IFRS연결)(천원)', '[제조]자본(*)(IFRS연결)(천원)', '[제조]자산(*)(IFRS)(천원)',\n",
       "       '[제조]부채(*)(IFRS)(천원)', '[제조]자본(*)(IFRS)(천원)',\n",
       "       '[제조]      이익잉여금(결손금)(*)(IFRS연결)(천원)', '[제조]매출액(수익)(*)(IFRS연결)(천원)',\n",
       "       '[제조]   이익잉여금(결손금)(*)(IFRS)(천원)', '[제조]매출액(수익)(*)(IFRS)(천원)', '종가(원)',\n",
       "       '발행주식의 총수 (현재 발행한 주식수 - 현재 감소한 주식수)(주)'],\n",
       "      dtype='object')"
      ]
     },
     "execution_count": 296,
     "metadata": {},
     "output_type": "execute_result"
    }
   ],
   "source": [
    "df.columns"
   ]
  },
  {
   "cell_type": "code",
   "execution_count": 299,
   "metadata": {},
   "outputs": [
    {
     "name": "stdout",
     "output_type": "stream",
     "text": [
      "1868\n",
      "1868\n",
      "1868\n",
      "1864\n",
      "1864\n"
     ]
    }
   ],
   "source": [
    "# 연결 & 개별 모두 결측치인 row 수\n",
    "\n",
    "    # ALE\n",
    "print(((df['[제조]자산(*)(IFRS연결)(천원)'].isna()) & (df['[제조]자산(*)(IFRS)(천원)'].isna())).sum())\n",
    "print(((df['[제조]부채(*)(IFRS연결)(천원)'].isna()) & (df['[제조]부채(*)(IFRS)(천원)'].isna())).sum())\n",
    "print(((df['[제조]자본(*)(IFRS연결)(천원)'].isna()) & (df['[제조]자본(*)(IFRS)(천원)'].isna())).sum())\n",
    "    # Sales & R/E\n",
    "print(((df['[제조]매출액(수익)(*)(IFRS연결)(천원)'].isna()) & (df['[제조]매출액(수익)(*)(IFRS)(천원)'].isna())).sum())\n",
    "print(((df['[제조]      이익잉여금(결손금)(*)(IFRS연결)(천원)'].isna()) & (df['[제조]   이익잉여금(결손금)(*)(IFRS)(천원)'].isna())).sum())\n"
   ]
  },
  {
   "cell_type": "markdown",
   "metadata": {},
   "source": [
    "# III. Altman_K2-Score\n",
    "- 한국기업 대상으로 도산예측모형\n",
    "- K2_score : 상장기업 적용 모형 \n",
    "    - 자기자본 시장가격 : '시가총액'으로 대체 "
   ]
  },
  {
   "cell_type": "code",
   "execution_count": 311,
   "metadata": {},
   "outputs": [],
   "source": [
    "altman = df.iloc[:, 0:3]"
   ]
  },
  {
   "cell_type": "code",
   "execution_count": 309,
   "metadata": {},
   "outputs": [],
   "source": [
    "df_copy2 = df.copy()\n",
    "# df = df_copy2.copy()"
   ]
  },
  {
   "cell_type": "markdown",
   "metadata": {},
   "source": [
    "## III-I. 변수 확보 "
   ]
  },
  {
   "cell_type": "markdown",
   "metadata": {},
   "source": [
    "### 1. 기업규모: log(총자산)"
   ]
  },
  {
   "cell_type": "code",
   "execution_count": 312,
   "metadata": {},
   "outputs": [
    {
     "name": "stderr",
     "output_type": "stream",
     "text": [
      "c:\\Users\\zino0\\AppData\\Local\\Programs\\Python\\Python311\\Lib\\site-packages\\pandas\\core\\arraylike.py:402: RuntimeWarning: divide by zero encountered in log\n",
      "  result = getattr(ufunc, method)(*inputs, **kwargs)\n"
     ]
    }
   ],
   "source": [
    "altman['총자산(log)'] = np.log(df['[제조]자산(*)(IFRS연결)(천원)'])"
   ]
  },
  {
   "cell_type": "markdown",
   "metadata": {},
   "source": [
    "### 2. 총자산회전율 : log(매출액/총자산) "
   ]
  },
  {
   "cell_type": "code",
   "execution_count": 318,
   "metadata": {},
   "outputs": [
    {
     "name": "stderr",
     "output_type": "stream",
     "text": [
      "c:\\Users\\zino0\\AppData\\Local\\Programs\\Python\\Python311\\Lib\\site-packages\\pandas\\core\\arraylike.py:402: RuntimeWarning: divide by zero encountered in log\n",
      "  result = getattr(ufunc, method)(*inputs, **kwargs)\n"
     ]
    }
   ],
   "source": [
    "altman['총자산회전율(log)'] = np.log(df['[제조]매출액(수익)(*)(IFRS연결)(천원)']/df['[제조]자산(*)(IFRS연결)(천원)'])"
   ]
  },
  {
   "cell_type": "markdown",
   "metadata": {},
   "source": [
    "### 3. 누적수익성 : 이익잉여금/총자산 "
   ]
  },
  {
   "cell_type": "code",
   "execution_count": 321,
   "metadata": {},
   "outputs": [],
   "source": [
    "altman['누적수익성'] = df['[제조]      이익잉여금(결손금)(*)(IFRS연결)(천원)']/df['[제조]자산(*)(IFRS연결)(천원)']"
   ]
  },
  {
   "cell_type": "markdown",
   "metadata": {},
   "source": [
    "### 4. 재무구조 : 자기자본 시장가격/총부채 "
   ]
  },
  {
   "cell_type": "markdown",
   "metadata": {},
   "source": [
    "### share DF \n",
    "1. 연결 주식총수 = Nan 일 때, 개별 주식총수로 대체\n",
    "2. 우선주 + 보통주 = 주식총수 True 여부 확인\n",
    "3. 종가 결측치 확인 \n",
    "4. 주식총수 x 종가    "
   ]
  },
  {
   "cell_type": "code",
   "execution_count": 353,
   "metadata": {},
   "outputs": [
    {
     "data": {
      "text/plain": [
       "회사명                                0\n",
       "거래소코드                              0\n",
       "회계년도                               0\n",
       "[제조]* 발행한 주식총수(*)(IFRS연결)(주)    6048\n",
       "[제조]   보통주(IFRS연결)(주)           6048\n",
       "[제조]   우선주(IFRS연결)(천원)          6048\n",
       "[제조]* 발행한 주식총수(*)(IFRS)(천원)     1993\n",
       "[제조]   보통주(IFRS)(주)             1993\n",
       "[제조]   우선주(IFRS)(주)             1993\n",
       "종가(원)                           3237\n",
       "dtype: int64"
      ]
     },
     "execution_count": 353,
     "metadata": {},
     "output_type": "execute_result"
    }
   ],
   "source": [
    "df_share.isna().sum()"
   ]
  },
  {
   "cell_type": "code",
   "execution_count": 352,
   "metadata": {},
   "outputs": [],
   "source": [
    "# 1. 연결 주식총수 nan값 개별로 대체\n",
    "f = df_share.loc[df_share['[제조]* 발행한 주식총수(*)(IFRS연결)(주)'].isna()]['[제조]* 발행한 주식총수(*)(IFRS)(천원)']"
   ]
  },
  {
   "cell_type": "code",
   "execution_count": 358,
   "metadata": {},
   "outputs": [],
   "source": [
    "df_share.loc[df_share['[제조]* 발행한 주식총수(*)(IFRS연결)(주)'].isna(),'[제조]* 발행한 주식총수(*)(IFRS연결)(주)'] = f"
   ]
  },
  {
   "cell_type": "code",
   "execution_count": 359,
   "metadata": {},
   "outputs": [
    {
     "data": {
      "text/plain": [
       "회사명                                0\n",
       "거래소코드                              0\n",
       "회계년도                               0\n",
       "[제조]* 발행한 주식총수(*)(IFRS연결)(주)    1875\n",
       "[제조]   보통주(IFRS연결)(주)           6048\n",
       "[제조]   우선주(IFRS연결)(천원)          6048\n",
       "[제조]* 발행한 주식총수(*)(IFRS)(천원)     1993\n",
       "[제조]   보통주(IFRS)(주)             1993\n",
       "[제조]   우선주(IFRS)(주)             1993\n",
       "종가(원)                           3237\n",
       "dtype: int64"
      ]
     },
     "execution_count": 359,
     "metadata": {},
     "output_type": "execute_result"
    }
   ],
   "source": [
    "df_share.isna().sum()"
   ]
  },
  {
   "cell_type": "code",
   "execution_count": 361,
   "metadata": {},
   "outputs": [
    {
     "data": {
      "text/plain": [
       "Index(['회사명', '거래소코드', '회계년도', '[제조]* 발행한 주식총수(*)(IFRS연결)(주)',\n",
       "       '[제조]   보통주(IFRS연결)(주)', '[제조]   우선주(IFRS연결)(천원)',\n",
       "       '[제조]* 발행한 주식총수(*)(IFRS)(천원)', '[제조]   보통주(IFRS)(주)',\n",
       "       '[제조]   우선주(IFRS)(주)', '종가(원)'],\n",
       "      dtype='object')"
      ]
     },
     "execution_count": 361,
     "metadata": {},
     "output_type": "execute_result"
    }
   ],
   "source": [
    "df_share.columns"
   ]
  },
  {
   "cell_type": "code",
   "execution_count": 380,
   "metadata": {},
   "outputs": [],
   "source": [
    "# 2. 우선주 + 보통주 = 주식총수 True 여부 확인\n",
    "    # 연결 개별 합친 후 주식총수 총합 오류 있는지 여부 확인 \n",
    "    \n",
    "share_a = df_share.loc[(df_share['[제조]   보통주(IFRS연결)(주)'] + df_share['[제조]   우선주(IFRS연결)(천원)'] != df_share['[제조]* 발행한 주식총수(*)(IFRS연결)(주)'])\\\n",
    "    &(df_share['[제조]   보통주(IFRS)(주)'] + df_share['[제조]   우선주(IFRS)(주)'] != df_share['[제조]* 발행한 주식총수(*)(IFRS)(천원)'])].index"
   ]
  },
  {
   "cell_type": "code",
   "execution_count": 381,
   "metadata": {},
   "outputs": [],
   "source": [
    "    # 연결 - 결측치 Index\n",
    "share_b = df_share.loc[df_share['[제조]* 발행한 주식총수(*)(IFRS연결)(주)'].isna()].index"
   ]
  },
  {
   "cell_type": "code",
   "execution_count": 383,
   "metadata": {},
   "outputs": [
    {
     "data": {
      "text/plain": [
       "0"
      ]
     },
     "execution_count": 383,
     "metadata": {},
     "output_type": "execute_result"
    }
   ],
   "source": [
    "(share_a != share_b).sum()"
   ]
  },
  {
   "cell_type": "markdown",
   "metadata": {},
   "source": [
    "> 주식총수(연결)의 결측치 자체가 주식총합(!= 보통주 + 우선주)인 이유\n",
    "\n",
    "- Anyway, 연결_주식총수로 시가총액 계산이 최선 "
   ]
  },
  {
   "cell_type": "code",
   "execution_count": 364,
   "metadata": {},
   "outputs": [
    {
     "data": {
      "text/plain": [
       "3237"
      ]
     },
     "execution_count": 364,
     "metadata": {},
     "output_type": "execute_result"
    }
   ],
   "source": [
    "# 3. 종가 결측치 \n",
    "df_share['종가(원)'].isna().sum()"
   ]
  },
  {
   "cell_type": "code",
   "execution_count": 394,
   "metadata": {},
   "outputs": [
    {
     "data": {
      "text/plain": [
       "Index(['회사명', '거래소코드', '회계년도', '[제조]* 발행한 주식총수(*)(IFRS연결)(주)',\n",
       "       '[제조]   보통주(IFRS연결)(주)', '[제조]   우선주(IFRS연결)(천원)',\n",
       "       '[제조]* 발행한 주식총수(*)(IFRS)(천원)', '[제조]   보통주(IFRS)(주)',\n",
       "       '[제조]   우선주(IFRS)(주)', '종가(원)'],\n",
       "      dtype='object')"
      ]
     },
     "execution_count": 394,
     "metadata": {},
     "output_type": "execute_result"
    }
   ],
   "source": [
    "df_share.columns"
   ]
  },
  {
   "cell_type": "code",
   "execution_count": 399,
   "metadata": {},
   "outputs": [],
   "source": [
    "df_share['시가총액'] = df_share['[제조]* 발행한 주식총수(*)(IFRS연결)(주)']* df_share['종가(원)']"
   ]
  },
  {
   "cell_type": "code",
   "execution_count": 406,
   "metadata": {},
   "outputs": [],
   "source": [
    "altman['재무구조'] = df_share['시가총액'] / df['[제조]부채(*)(IFRS연결)(천원)']"
   ]
  },
  {
   "cell_type": "code",
   "execution_count": 420,
   "metadata": {},
   "outputs": [
    {
     "name": "stdout",
     "output_type": "stream",
     "text": [
      "시가총액 0인 row수 : 2\n",
      "부채 0인 row수 : 1\n"
     ]
    },
    {
     "data": {
      "text/plain": [
       "회사명               0\n",
       "거래소코드             0\n",
       "회계년도              0\n",
       "총자산(log)       1868\n",
       "총자산회전율(log)    1880\n",
       "누적수익성          1880\n",
       "재무구조           3998\n",
       "dtype: int64"
      ]
     },
     "execution_count": 420,
     "metadata": {},
     "output_type": "execute_result"
    }
   ],
   "source": [
    "# 시가총액 계산시 0 인 값 확인할 것\n",
    "print(f'시가총액 0인 row수 : {(df_share[\"시가총액\"] == 0).sum()}') \n",
    "print(f'부채 0인 row수 : {(df[\"[제조]부채(*)(IFRS연결)(천원)\"] == 0).sum()}')\n",
    "\n",
    "# 시가총액 결측치 확인할 것\n",
    "altman.isna().sum()\n"
   ]
  },
  {
   "cell_type": "markdown",
   "metadata": {},
   "source": [
    "## III-II. K2 Score 적용\n",
    "k2_score = -18.696 + 1.501 X1 + 2.706 X2 + 19.760 X3 + 1.146 X4\n",
    "\n",
    "1. X1 : 기업규모 = log(총자산)\n",
    "2. X2 : 총자산회전율 = log(매출액/총자산)\n",
    "3. X3 : 누적수익성 = 이익잉여금 / 총자산\n",
    "4. X4 : 재무구조 = 자기자본 시장가격 / 총부채\n",
    "---\n",
    "- i) K2 < -2.30 : 부실가능성 심각\n",
    "- ii) -2.3 < K2 < 0.75 : 판정보류\n",
    "- iii) K2 > 0.75 : 건전판정\n",
    "---"
   ]
  },
  {
   "cell_type": "code",
   "execution_count": 424,
   "metadata": {},
   "outputs": [
    {
     "data": {
      "text/plain": [
       "Index(['회사명', '거래소코드', '회계년도', '총자산(log)', '총자산회전율(log)', '누적수익성', '재무구조'], dtype='object')"
      ]
     },
     "execution_count": 424,
     "metadata": {},
     "output_type": "execute_result"
    }
   ],
   "source": [
    "altman.columns"
   ]
  },
  {
   "cell_type": "code",
   "execution_count": 426,
   "metadata": {},
   "outputs": [],
   "source": [
    "k2_series = -18.696 + 1.501*altman['총자산(log)'] + 2.706*altman['총자산회전율(log)'] + 19.760*altman['누적수익성'] + 1.146*altman['재무구조'] "
   ]
  },
  {
   "cell_type": "code",
   "execution_count": 429,
   "metadata": {},
   "outputs": [],
   "source": [
    "altman['K2_score'] = k2_series"
   ]
  },
  {
   "cell_type": "code",
   "execution_count": 430,
   "metadata": {},
   "outputs": [
    {
     "data": {
      "text/html": [
       "<div>\n",
       "<style scoped>\n",
       "    .dataframe tbody tr th:only-of-type {\n",
       "        vertical-align: middle;\n",
       "    }\n",
       "\n",
       "    .dataframe tbody tr th {\n",
       "        vertical-align: top;\n",
       "    }\n",
       "\n",
       "    .dataframe thead th {\n",
       "        text-align: right;\n",
       "    }\n",
       "</style>\n",
       "<table border=\"1\" class=\"dataframe\">\n",
       "  <thead>\n",
       "    <tr style=\"text-align: right;\">\n",
       "      <th></th>\n",
       "      <th>회사명</th>\n",
       "      <th>거래소코드</th>\n",
       "      <th>회계년도</th>\n",
       "      <th>총자산(log)</th>\n",
       "      <th>총자산회전율(log)</th>\n",
       "      <th>누적수익성</th>\n",
       "      <th>재무구조</th>\n",
       "      <th>K2_score</th>\n",
       "    </tr>\n",
       "  </thead>\n",
       "  <tbody>\n",
       "    <tr>\n",
       "      <th>0</th>\n",
       "      <td>(주)CMG제약</td>\n",
       "      <td>58820</td>\n",
       "      <td>2011/12</td>\n",
       "      <td>17.122588</td>\n",
       "      <td>-0.430596</td>\n",
       "      <td>-1.655914</td>\n",
       "      <td>8521.641290</td>\n",
       "      <td>9738.919877</td>\n",
       "    </tr>\n",
       "    <tr>\n",
       "      <th>1</th>\n",
       "      <td>(주)CMG제약</td>\n",
       "      <td>58820</td>\n",
       "      <td>2012/12</td>\n",
       "      <td>17.860455</td>\n",
       "      <td>-1.256520</td>\n",
       "      <td>-0.917209</td>\n",
       "      <td>18071.526955</td>\n",
       "      <td>20696.558244</td>\n",
       "    </tr>\n",
       "    <tr>\n",
       "      <th>2</th>\n",
       "      <td>(주)CMG제약</td>\n",
       "      <td>58820</td>\n",
       "      <td>2013/12</td>\n",
       "      <td>17.839300</td>\n",
       "      <td>-1.008149</td>\n",
       "      <td>-0.933631</td>\n",
       "      <td>85360.527938</td>\n",
       "      <td>97810.069199</td>\n",
       "    </tr>\n",
       "    <tr>\n",
       "      <th>3</th>\n",
       "      <td>(주)CMG제약</td>\n",
       "      <td>58820</td>\n",
       "      <td>2014/12</td>\n",
       "      <td>17.877131</td>\n",
       "      <td>-0.936942</td>\n",
       "      <td>-0.902280</td>\n",
       "      <td>88553.422712</td>\n",
       "      <td>101469.995575</td>\n",
       "    </tr>\n",
       "    <tr>\n",
       "      <th>4</th>\n",
       "      <td>(주)CMG제약</td>\n",
       "      <td>58820</td>\n",
       "      <td>2015/12</td>\n",
       "      <td>17.850332</td>\n",
       "      <td>-0.737434</td>\n",
       "      <td>-0.997891</td>\n",
       "      <td>69860.279992</td>\n",
       "      <td>80046.264402</td>\n",
       "    </tr>\n",
       "    <tr>\n",
       "      <th>...</th>\n",
       "      <td>...</td>\n",
       "      <td>...</td>\n",
       "      <td>...</td>\n",
       "      <td>...</td>\n",
       "      <td>...</td>\n",
       "      <td>...</td>\n",
       "      <td>...</td>\n",
       "      <td>...</td>\n",
       "    </tr>\n",
       "    <tr>\n",
       "      <th>17482</th>\n",
       "      <td>흥구석유(주)</td>\n",
       "      <td>24060</td>\n",
       "      <td>2018/12</td>\n",
       "      <td>18.135736</td>\n",
       "      <td>0.793016</td>\n",
       "      <td>0.453301</td>\n",
       "      <td>17886.710363</td>\n",
       "      <td>20517.798939</td>\n",
       "    </tr>\n",
       "    <tr>\n",
       "      <th>17483</th>\n",
       "      <td>흥구석유(주)</td>\n",
       "      <td>24060</td>\n",
       "      <td>2019/12</td>\n",
       "      <td>18.242289</td>\n",
       "      <td>0.588305</td>\n",
       "      <td>0.485883</td>\n",
       "      <td>4504.342186</td>\n",
       "      <td>5181.854829</td>\n",
       "    </tr>\n",
       "    <tr>\n",
       "      <th>17484</th>\n",
       "      <td>흥구석유(주)</td>\n",
       "      <td>24060</td>\n",
       "      <td>2020/12</td>\n",
       "      <td>18.243005</td>\n",
       "      <td>0.316078</td>\n",
       "      <td>0.516579</td>\n",
       "      <td>9845.521762</td>\n",
       "      <td>11302.717589</td>\n",
       "    </tr>\n",
       "    <tr>\n",
       "      <th>17485</th>\n",
       "      <td>흥구석유(주)</td>\n",
       "      <td>24060</td>\n",
       "      <td>2021/12</td>\n",
       "      <td>18.230090</td>\n",
       "      <td>0.469840</td>\n",
       "      <td>0.514773</td>\n",
       "      <td>13696.070141</td>\n",
       "      <td>15715.807049</td>\n",
       "    </tr>\n",
       "    <tr>\n",
       "      <th>17486</th>\n",
       "      <td>흥구석유(주)</td>\n",
       "      <td>24060</td>\n",
       "      <td>2022/12</td>\n",
       "      <td>18.358110</td>\n",
       "      <td>0.445911</td>\n",
       "      <td>0.465587</td>\n",
       "      <td>3292.818904</td>\n",
       "      <td>3792.836628</td>\n",
       "    </tr>\n",
       "  </tbody>\n",
       "</table>\n",
       "<p>17487 rows × 8 columns</p>\n",
       "</div>"
      ],
      "text/plain": [
       "            회사명  거래소코드     회계년도   총자산(log)  총자산회전율(log)     누적수익성  \\\n",
       "0      (주)CMG제약  58820  2011/12  17.122588    -0.430596 -1.655914   \n",
       "1      (주)CMG제약  58820  2012/12  17.860455    -1.256520 -0.917209   \n",
       "2      (주)CMG제약  58820  2013/12  17.839300    -1.008149 -0.933631   \n",
       "3      (주)CMG제약  58820  2014/12  17.877131    -0.936942 -0.902280   \n",
       "4      (주)CMG제약  58820  2015/12  17.850332    -0.737434 -0.997891   \n",
       "...         ...    ...      ...        ...          ...       ...   \n",
       "17482   흥구석유(주)  24060  2018/12  18.135736     0.793016  0.453301   \n",
       "17483   흥구석유(주)  24060  2019/12  18.242289     0.588305  0.485883   \n",
       "17484   흥구석유(주)  24060  2020/12  18.243005     0.316078  0.516579   \n",
       "17485   흥구석유(주)  24060  2021/12  18.230090     0.469840  0.514773   \n",
       "17486   흥구석유(주)  24060  2022/12  18.358110     0.445911  0.465587   \n",
       "\n",
       "               재무구조       K2_score  \n",
       "0       8521.641290    9738.919877  \n",
       "1      18071.526955   20696.558244  \n",
       "2      85360.527938   97810.069199  \n",
       "3      88553.422712  101469.995575  \n",
       "4      69860.279992   80046.264402  \n",
       "...             ...            ...  \n",
       "17482  17886.710363   20517.798939  \n",
       "17483   4504.342186    5181.854829  \n",
       "17484   9845.521762   11302.717589  \n",
       "17485  13696.070141   15715.807049  \n",
       "17486   3292.818904    3792.836628  \n",
       "\n",
       "[17487 rows x 8 columns]"
      ]
     },
     "execution_count": 430,
     "metadata": {},
     "output_type": "execute_result"
    }
   ],
   "source": [
    "altman"
   ]
  },
  {
   "cell_type": "code",
   "execution_count": 431,
   "metadata": {},
   "outputs": [],
   "source": [
    "# altman.to_excel('./dataset_2nd/altman_k2score.xlsx')"
   ]
  },
  {
   "cell_type": "code",
   "execution_count": null,
   "metadata": {},
   "outputs": [],
   "source": []
  }
 ],
 "metadata": {
  "kernelspec": {
   "display_name": "Python 3",
   "language": "python",
   "name": "python3"
  },
  "language_info": {
   "codemirror_mode": {
    "name": "ipython",
    "version": 3
   },
   "file_extension": ".py",
   "mimetype": "text/x-python",
   "name": "python",
   "nbconvert_exporter": "python",
   "pygments_lexer": "ipython3",
   "version": "3.11.2"
  },
  "orig_nbformat": 4
 },
 "nbformat": 4,
 "nbformat_minor": 2
}
