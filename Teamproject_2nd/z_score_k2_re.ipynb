{
 "cells": [
  {
   "cell_type": "code",
   "execution_count": 1,
   "metadata": {},
   "outputs": [],
   "source": [
    "import pandas as pd\n",
    "import numpy as np"
   ]
  },
  {
   "cell_type": "markdown",
   "metadata": {},
   "source": [
    "# Altman Z-Score\n",
    "1. Features \n",
    "    - log총자산(단위사용)\n",
    "    - log(매출액/총자산)   (= 총자산회전율)\n",
    "    - 이익잉여금/총자산\n",
    "    - 자기자본시장가격/총부채\n",
    "\n",
    "2. 범위별 판단\n",
    "    - k2 < - 2.3 : 부실가능성 심각\n",
    "    - -2.3 < k2 < 0.75 : 판정보류\n",
    "    - k2 > 0.75 : 건전판정\n",
    "\n",
    "    "
   ]
  },
  {
   "cell_type": "markdown",
   "metadata": {},
   "source": [
    "# I. DF"
   ]
  },
  {
   "cell_type": "markdown",
   "metadata": {},
   "source": [
    "## I-I. DF 불러오기"
   ]
  },
  {
   "cell_type": "code",
   "execution_count": 2,
   "metadata": {},
   "outputs": [],
   "source": [
    "# 연결 ALE\n",
    "df_a = pd.read_excel('./dataset_2nd/z_score_asset.xlsx')\n",
    "df_l = pd.read_excel('./dataset_2nd/z_score_liability.xlsx')\n",
    "df_e = pd.read_excel('./dataset_2nd/z_score_equity.xlsx')\n",
    "\n",
    "df_ale = pd.concat([df_a, df_l, df_e], axis=1) # 회사명, 거래소코드, 회계년도 제거 필요 \n",
    "\n",
    "# 연결 Sales & R/E\n",
    "df_sre = pd.read_excel('./dataset_2nd/z_score_sales_retainedearning.xlsx')\n",
    "\n",
    "# 개별 ALE\n",
    "df_ale_each = pd.read_excel('./dataset_2nd/z_score_ALE_each.xlsx')\n",
    "\n",
    "# 개별 Sales & R/E\n",
    "df_sre_each = pd.read_excel('./dataset_2nd/z_score_salesRE_each.xlsx')\n",
    "\n",
    "# 주가 & 발행주식수\n",
    "df_price = pd.read_excel('./dataset_2nd/z_score_price.xlsx')\n",
    "df_num_share = pd.read_excel('./dataset_2nd/z_score_sharesnumber.xlsx') # 중복 제거 필요\n",
    "\n",
    "\n"
   ]
  },
  {
   "cell_type": "code",
   "execution_count": 3,
   "metadata": {},
   "outputs": [],
   "source": [
    "df_share = pd.read_excel('./dataset_2nd/z_score_share.xlsx')"
   ]
  },
  {
   "cell_type": "markdown",
   "metadata": {},
   "source": [
    "---"
   ]
  },
  {
   "cell_type": "code",
   "execution_count": 4,
   "metadata": {},
   "outputs": [
    {
     "data": {
      "text/html": [
       "<div>\n",
       "<style scoped>\n",
       "    .dataframe tbody tr th:only-of-type {\n",
       "        vertical-align: middle;\n",
       "    }\n",
       "\n",
       "    .dataframe tbody tr th {\n",
       "        vertical-align: top;\n",
       "    }\n",
       "\n",
       "    .dataframe thead th {\n",
       "        text-align: right;\n",
       "    }\n",
       "</style>\n",
       "<table border=\"1\" class=\"dataframe\">\n",
       "  <thead>\n",
       "    <tr style=\"text-align: right;\">\n",
       "      <th></th>\n",
       "      <th>회사명</th>\n",
       "      <th>거래소코드</th>\n",
       "      <th>회계년도</th>\n",
       "      <th>[제조]* 발행한 주식총수(*)(IFRS연결)(주)</th>\n",
       "      <th>[제조]   보통주(IFRS연결)(주)</th>\n",
       "      <th>[제조]   우선주(IFRS연결)(천원)</th>\n",
       "      <th>[제조]* 발행한 주식총수(*)(IFRS)(천원)</th>\n",
       "      <th>[제조]   보통주(IFRS)(주)</th>\n",
       "      <th>[제조]   우선주(IFRS)(주)</th>\n",
       "      <th>종가(원)</th>\n",
       "    </tr>\n",
       "  </thead>\n",
       "  <tbody>\n",
       "    <tr>\n",
       "      <th>0</th>\n",
       "      <td>(주)CMG제약</td>\n",
       "      <td>58820</td>\n",
       "      <td>2014/12</td>\n",
       "      <td>86626866.0</td>\n",
       "      <td>86626866.0</td>\n",
       "      <td>0.0</td>\n",
       "      <td>86626866.0</td>\n",
       "      <td>86626866.0</td>\n",
       "      <td>0.0</td>\n",
       "      <td>912.0</td>\n",
       "    </tr>\n",
       "    <tr>\n",
       "      <th>1</th>\n",
       "      <td>(주)CMG제약</td>\n",
       "      <td>58820</td>\n",
       "      <td>2018/12</td>\n",
       "      <td>108887244.0</td>\n",
       "      <td>108887244.0</td>\n",
       "      <td>0.0</td>\n",
       "      <td>108887244.0</td>\n",
       "      <td>108887244.0</td>\n",
       "      <td>0.0</td>\n",
       "      <td>4235.0</td>\n",
       "    </tr>\n",
       "    <tr>\n",
       "      <th>2</th>\n",
       "      <td>(주)CMG제약</td>\n",
       "      <td>58820</td>\n",
       "      <td>2019/12</td>\n",
       "      <td>138892244.0</td>\n",
       "      <td>138892244.0</td>\n",
       "      <td>0.0</td>\n",
       "      <td>138892244.0</td>\n",
       "      <td>138892244.0</td>\n",
       "      <td>0.0</td>\n",
       "      <td>4250.0</td>\n",
       "    </tr>\n",
       "    <tr>\n",
       "      <th>3</th>\n",
       "      <td>(주)CMG제약</td>\n",
       "      <td>58820</td>\n",
       "      <td>2020/12</td>\n",
       "      <td>NaN</td>\n",
       "      <td>NaN</td>\n",
       "      <td>NaN</td>\n",
       "      <td>138892244.0</td>\n",
       "      <td>138892244.0</td>\n",
       "      <td>0.0</td>\n",
       "      <td>5780.0</td>\n",
       "    </tr>\n",
       "    <tr>\n",
       "      <th>4</th>\n",
       "      <td>(주)CMG제약</td>\n",
       "      <td>58820</td>\n",
       "      <td>2017/12</td>\n",
       "      <td>108887244.0</td>\n",
       "      <td>108887244.0</td>\n",
       "      <td>0.0</td>\n",
       "      <td>108887244.0</td>\n",
       "      <td>108887244.0</td>\n",
       "      <td>0.0</td>\n",
       "      <td>6240.0</td>\n",
       "    </tr>\n",
       "    <tr>\n",
       "      <th>...</th>\n",
       "      <td>...</td>\n",
       "      <td>...</td>\n",
       "      <td>...</td>\n",
       "      <td>...</td>\n",
       "      <td>...</td>\n",
       "      <td>...</td>\n",
       "      <td>...</td>\n",
       "      <td>...</td>\n",
       "      <td>...</td>\n",
       "      <td>...</td>\n",
       "    </tr>\n",
       "    <tr>\n",
       "      <th>17482</th>\n",
       "      <td>흥구석유(주)</td>\n",
       "      <td>24060</td>\n",
       "      <td>2022/12</td>\n",
       "      <td>NaN</td>\n",
       "      <td>NaN</td>\n",
       "      <td>NaN</td>\n",
       "      <td>15000000.0</td>\n",
       "      <td>15000000.0</td>\n",
       "      <td>0.0</td>\n",
       "      <td>5680.0</td>\n",
       "    </tr>\n",
       "    <tr>\n",
       "      <th>17483</th>\n",
       "      <td>흥구석유(주)</td>\n",
       "      <td>24060</td>\n",
       "      <td>2013/12</td>\n",
       "      <td>NaN</td>\n",
       "      <td>NaN</td>\n",
       "      <td>NaN</td>\n",
       "      <td>15000000.0</td>\n",
       "      <td>15000000.0</td>\n",
       "      <td>0.0</td>\n",
       "      <td>2000.0</td>\n",
       "    </tr>\n",
       "    <tr>\n",
       "      <th>17484</th>\n",
       "      <td>흥구석유(주)</td>\n",
       "      <td>24060</td>\n",
       "      <td>2018/12</td>\n",
       "      <td>NaN</td>\n",
       "      <td>NaN</td>\n",
       "      <td>NaN</td>\n",
       "      <td>15000000.0</td>\n",
       "      <td>15000000.0</td>\n",
       "      <td>0.0</td>\n",
       "      <td>2705.0</td>\n",
       "    </tr>\n",
       "    <tr>\n",
       "      <th>17485</th>\n",
       "      <td>흥구석유(주)</td>\n",
       "      <td>24060</td>\n",
       "      <td>2016/12</td>\n",
       "      <td>NaN</td>\n",
       "      <td>NaN</td>\n",
       "      <td>NaN</td>\n",
       "      <td>15000000.0</td>\n",
       "      <td>15000000.0</td>\n",
       "      <td>0.0</td>\n",
       "      <td>3425.0</td>\n",
       "    </tr>\n",
       "    <tr>\n",
       "      <th>17486</th>\n",
       "      <td>흥구석유(주)</td>\n",
       "      <td>24060</td>\n",
       "      <td>2015/12</td>\n",
       "      <td>NaN</td>\n",
       "      <td>NaN</td>\n",
       "      <td>NaN</td>\n",
       "      <td>15000000.0</td>\n",
       "      <td>15000000.0</td>\n",
       "      <td>0.0</td>\n",
       "      <td>3040.0</td>\n",
       "    </tr>\n",
       "  </tbody>\n",
       "</table>\n",
       "<p>17487 rows × 10 columns</p>\n",
       "</div>"
      ],
      "text/plain": [
       "            회사명  거래소코드     회계년도  [제조]* 발행한 주식총수(*)(IFRS연결)(주)  \\\n",
       "0      (주)CMG제약  58820  2014/12                    86626866.0   \n",
       "1      (주)CMG제약  58820  2018/12                   108887244.0   \n",
       "2      (주)CMG제약  58820  2019/12                   138892244.0   \n",
       "3      (주)CMG제약  58820  2020/12                           NaN   \n",
       "4      (주)CMG제약  58820  2017/12                   108887244.0   \n",
       "...         ...    ...      ...                           ...   \n",
       "17482   흥구석유(주)  24060  2022/12                           NaN   \n",
       "17483   흥구석유(주)  24060  2013/12                           NaN   \n",
       "17484   흥구석유(주)  24060  2018/12                           NaN   \n",
       "17485   흥구석유(주)  24060  2016/12                           NaN   \n",
       "17486   흥구석유(주)  24060  2015/12                           NaN   \n",
       "\n",
       "       [제조]   보통주(IFRS연결)(주)  [제조]   우선주(IFRS연결)(천원)  \\\n",
       "0                 86626866.0                     0.0   \n",
       "1                108887244.0                     0.0   \n",
       "2                138892244.0                     0.0   \n",
       "3                        NaN                     NaN   \n",
       "4                108887244.0                     0.0   \n",
       "...                      ...                     ...   \n",
       "17482                    NaN                     NaN   \n",
       "17483                    NaN                     NaN   \n",
       "17484                    NaN                     NaN   \n",
       "17485                    NaN                     NaN   \n",
       "17486                    NaN                     NaN   \n",
       "\n",
       "       [제조]* 발행한 주식총수(*)(IFRS)(천원)  [제조]   보통주(IFRS)(주)  [제조]   우선주(IFRS)(주)  \\\n",
       "0                       86626866.0           86626866.0                  0.0   \n",
       "1                      108887244.0          108887244.0                  0.0   \n",
       "2                      138892244.0          138892244.0                  0.0   \n",
       "3                      138892244.0          138892244.0                  0.0   \n",
       "4                      108887244.0          108887244.0                  0.0   \n",
       "...                            ...                  ...                  ...   \n",
       "17482                   15000000.0           15000000.0                  0.0   \n",
       "17483                   15000000.0           15000000.0                  0.0   \n",
       "17484                   15000000.0           15000000.0                  0.0   \n",
       "17485                   15000000.0           15000000.0                  0.0   \n",
       "17486                   15000000.0           15000000.0                  0.0   \n",
       "\n",
       "        종가(원)  \n",
       "0       912.0  \n",
       "1      4235.0  \n",
       "2      4250.0  \n",
       "3      5780.0  \n",
       "4      6240.0  \n",
       "...       ...  \n",
       "17482  5680.0  \n",
       "17483  2000.0  \n",
       "17484  2705.0  \n",
       "17485  3425.0  \n",
       "17486  3040.0  \n",
       "\n",
       "[17487 rows x 10 columns]"
      ]
     },
     "execution_count": 4,
     "metadata": {},
     "output_type": "execute_result"
    }
   ],
   "source": [
    "df_share"
   ]
  },
  {
   "cell_type": "markdown",
   "metadata": {},
   "source": [
    "---"
   ]
  },
  {
   "cell_type": "code",
   "execution_count": 5,
   "metadata": {},
   "outputs": [
    {
     "data": {
      "text/html": [
       "<div>\n",
       "<style scoped>\n",
       "    .dataframe tbody tr th:only-of-type {\n",
       "        vertical-align: middle;\n",
       "    }\n",
       "\n",
       "    .dataframe tbody tr th {\n",
       "        vertical-align: top;\n",
       "    }\n",
       "\n",
       "    .dataframe thead th {\n",
       "        text-align: right;\n",
       "    }\n",
       "</style>\n",
       "<table border=\"1\" class=\"dataframe\">\n",
       "  <thead>\n",
       "    <tr style=\"text-align: right;\">\n",
       "      <th></th>\n",
       "      <th>회사명</th>\n",
       "      <th>거래소코드</th>\n",
       "      <th>회계년도</th>\n",
       "      <th>[제조]      이익잉여금(결손금)(*)(IFRS연결)(천원)</th>\n",
       "      <th>[제조]매출액(수익)(*)(IFRS연결)(천원)</th>\n",
       "    </tr>\n",
       "  </thead>\n",
       "  <tbody>\n",
       "    <tr>\n",
       "      <th>0</th>\n",
       "      <td>(주)CMG제약</td>\n",
       "      <td>58820</td>\n",
       "      <td>2011/12</td>\n",
       "      <td>-45215050.0</td>\n",
       "      <td>17751704.0</td>\n",
       "    </tr>\n",
       "    <tr>\n",
       "      <th>1</th>\n",
       "      <td>(주)CMG제약</td>\n",
       "      <td>58820</td>\n",
       "      <td>2012/12</td>\n",
       "      <td>-52379991.0</td>\n",
       "      <td>16255389.0</td>\n",
       "    </tr>\n",
       "    <tr>\n",
       "      <th>2</th>\n",
       "      <td>(주)CMG제약</td>\n",
       "      <td>58820</td>\n",
       "      <td>2013/12</td>\n",
       "      <td>-52201720.0</td>\n",
       "      <td>20402140.0</td>\n",
       "    </tr>\n",
       "    <tr>\n",
       "      <th>3</th>\n",
       "      <td>(주)CMG제약</td>\n",
       "      <td>58820</td>\n",
       "      <td>2014/12</td>\n",
       "      <td>-52393918.0</td>\n",
       "      <td>22752584.0</td>\n",
       "    </tr>\n",
       "    <tr>\n",
       "      <th>4</th>\n",
       "      <td>(주)CMG제약</td>\n",
       "      <td>58820</td>\n",
       "      <td>2015/12</td>\n",
       "      <td>-56413575.0</td>\n",
       "      <td>27041894.0</td>\n",
       "    </tr>\n",
       "    <tr>\n",
       "      <th>...</th>\n",
       "      <td>...</td>\n",
       "      <td>...</td>\n",
       "      <td>...</td>\n",
       "      <td>...</td>\n",
       "      <td>...</td>\n",
       "    </tr>\n",
       "    <tr>\n",
       "      <th>17482</th>\n",
       "      <td>흥구석유(주)</td>\n",
       "      <td>24060</td>\n",
       "      <td>2018/12</td>\n",
       "      <td>NaN</td>\n",
       "      <td>NaN</td>\n",
       "    </tr>\n",
       "    <tr>\n",
       "      <th>17483</th>\n",
       "      <td>흥구석유(주)</td>\n",
       "      <td>24060</td>\n",
       "      <td>2019/12</td>\n",
       "      <td>NaN</td>\n",
       "      <td>NaN</td>\n",
       "    </tr>\n",
       "    <tr>\n",
       "      <th>17484</th>\n",
       "      <td>흥구석유(주)</td>\n",
       "      <td>24060</td>\n",
       "      <td>2020/12</td>\n",
       "      <td>NaN</td>\n",
       "      <td>NaN</td>\n",
       "    </tr>\n",
       "    <tr>\n",
       "      <th>17485</th>\n",
       "      <td>흥구석유(주)</td>\n",
       "      <td>24060</td>\n",
       "      <td>2021/12</td>\n",
       "      <td>NaN</td>\n",
       "      <td>NaN</td>\n",
       "    </tr>\n",
       "    <tr>\n",
       "      <th>17486</th>\n",
       "      <td>흥구석유(주)</td>\n",
       "      <td>24060</td>\n",
       "      <td>2022/12</td>\n",
       "      <td>NaN</td>\n",
       "      <td>NaN</td>\n",
       "    </tr>\n",
       "  </tbody>\n",
       "</table>\n",
       "<p>17487 rows × 5 columns</p>\n",
       "</div>"
      ],
      "text/plain": [
       "            회사명  거래소코드     회계년도  [제조]      이익잉여금(결손금)(*)(IFRS연결)(천원)  \\\n",
       "0      (주)CMG제약  58820  2011/12                          -45215050.0   \n",
       "1      (주)CMG제약  58820  2012/12                          -52379991.0   \n",
       "2      (주)CMG제약  58820  2013/12                          -52201720.0   \n",
       "3      (주)CMG제약  58820  2014/12                          -52393918.0   \n",
       "4      (주)CMG제약  58820  2015/12                          -56413575.0   \n",
       "...         ...    ...      ...                                  ...   \n",
       "17482   흥구석유(주)  24060  2018/12                                  NaN   \n",
       "17483   흥구석유(주)  24060  2019/12                                  NaN   \n",
       "17484   흥구석유(주)  24060  2020/12                                  NaN   \n",
       "17485   흥구석유(주)  24060  2021/12                                  NaN   \n",
       "17486   흥구석유(주)  24060  2022/12                                  NaN   \n",
       "\n",
       "       [제조]매출액(수익)(*)(IFRS연결)(천원)  \n",
       "0                      17751704.0  \n",
       "1                      16255389.0  \n",
       "2                      20402140.0  \n",
       "3                      22752584.0  \n",
       "4                      27041894.0  \n",
       "...                           ...  \n",
       "17482                         NaN  \n",
       "17483                         NaN  \n",
       "17484                         NaN  \n",
       "17485                         NaN  \n",
       "17486                         NaN  \n",
       "\n",
       "[17487 rows x 5 columns]"
      ]
     },
     "execution_count": 5,
     "metadata": {},
     "output_type": "execute_result"
    }
   ],
   "source": [
    "df_sre"
   ]
  },
  {
   "cell_type": "markdown",
   "metadata": {},
   "source": [
    "## I-II. 발행주식수 DF 중복 제거 \n",
    "    - row수 : 36297 -> 17487"
   ]
  },
  {
   "cell_type": "code",
   "execution_count": 6,
   "metadata": {},
   "outputs": [],
   "source": [
    "df_copy = df_num_share.copy()"
   ]
  },
  {
   "cell_type": "code",
   "execution_count": 7,
   "metadata": {},
   "outputs": [
    {
     "data": {
      "text/html": [
       "<div>\n",
       "<style scoped>\n",
       "    .dataframe tbody tr th:only-of-type {\n",
       "        vertical-align: middle;\n",
       "    }\n",
       "\n",
       "    .dataframe tbody tr th {\n",
       "        vertical-align: top;\n",
       "    }\n",
       "\n",
       "    .dataframe thead th {\n",
       "        text-align: right;\n",
       "    }\n",
       "</style>\n",
       "<table border=\"1\" class=\"dataframe\">\n",
       "  <thead>\n",
       "    <tr style=\"text-align: right;\">\n",
       "      <th></th>\n",
       "      <th>회사명</th>\n",
       "      <th>거래소코드</th>\n",
       "      <th>회계년도</th>\n",
       "      <th>발행주식의 총수 (현재 발행한 주식수 - 현재 감소한 주식수)(주)</th>\n",
       "    </tr>\n",
       "  </thead>\n",
       "  <tbody>\n",
       "    <tr>\n",
       "      <th>0</th>\n",
       "      <td>(주)CMG제약</td>\n",
       "      <td>58820</td>\n",
       "      <td>2011/12</td>\n",
       "      <td>43693200.0</td>\n",
       "    </tr>\n",
       "    <tr>\n",
       "      <th>1</th>\n",
       "      <td>(주)CMG제약</td>\n",
       "      <td>58820</td>\n",
       "      <td>2011/12</td>\n",
       "      <td>43693200.0</td>\n",
       "    </tr>\n",
       "    <tr>\n",
       "      <th>2</th>\n",
       "      <td>(주)CMG제약</td>\n",
       "      <td>58820</td>\n",
       "      <td>2012/12</td>\n",
       "      <td>66025540.0</td>\n",
       "    </tr>\n",
       "    <tr>\n",
       "      <th>3</th>\n",
       "      <td>(주)CMG제약</td>\n",
       "      <td>58820</td>\n",
       "      <td>2012/12</td>\n",
       "      <td>66025540.0</td>\n",
       "    </tr>\n",
       "    <tr>\n",
       "      <th>4</th>\n",
       "      <td>(주)CMG제약</td>\n",
       "      <td>58820</td>\n",
       "      <td>2013/12</td>\n",
       "      <td>86626866.0</td>\n",
       "    </tr>\n",
       "    <tr>\n",
       "      <th>...</th>\n",
       "      <td>...</td>\n",
       "      <td>...</td>\n",
       "      <td>...</td>\n",
       "      <td>...</td>\n",
       "    </tr>\n",
       "    <tr>\n",
       "      <th>36292</th>\n",
       "      <td>흥구석유(주)</td>\n",
       "      <td>24060</td>\n",
       "      <td>2020/12</td>\n",
       "      <td>15000000.0</td>\n",
       "    </tr>\n",
       "    <tr>\n",
       "      <th>36293</th>\n",
       "      <td>흥구석유(주)</td>\n",
       "      <td>24060</td>\n",
       "      <td>2021/12</td>\n",
       "      <td>15000000.0</td>\n",
       "    </tr>\n",
       "    <tr>\n",
       "      <th>36294</th>\n",
       "      <td>흥구석유(주)</td>\n",
       "      <td>24060</td>\n",
       "      <td>2021/12</td>\n",
       "      <td>15000000.0</td>\n",
       "    </tr>\n",
       "    <tr>\n",
       "      <th>36295</th>\n",
       "      <td>흥구석유(주)</td>\n",
       "      <td>24060</td>\n",
       "      <td>2022/12</td>\n",
       "      <td>15000000.0</td>\n",
       "    </tr>\n",
       "    <tr>\n",
       "      <th>36296</th>\n",
       "      <td>흥구석유(주)</td>\n",
       "      <td>24060</td>\n",
       "      <td>2022/12</td>\n",
       "      <td>15000000.0</td>\n",
       "    </tr>\n",
       "  </tbody>\n",
       "</table>\n",
       "<p>36297 rows × 4 columns</p>\n",
       "</div>"
      ],
      "text/plain": [
       "            회사명  거래소코드     회계년도  발행주식의 총수 (현재 발행한 주식수 - 현재 감소한 주식수)(주)\n",
       "0      (주)CMG제약  58820  2011/12                             43693200.0\n",
       "1      (주)CMG제약  58820  2011/12                             43693200.0\n",
       "2      (주)CMG제약  58820  2012/12                             66025540.0\n",
       "3      (주)CMG제약  58820  2012/12                             66025540.0\n",
       "4      (주)CMG제약  58820  2013/12                             86626866.0\n",
       "...         ...    ...      ...                                    ...\n",
       "36292   흥구석유(주)  24060  2020/12                             15000000.0\n",
       "36293   흥구석유(주)  24060  2021/12                             15000000.0\n",
       "36294   흥구석유(주)  24060  2021/12                             15000000.0\n",
       "36295   흥구석유(주)  24060  2022/12                             15000000.0\n",
       "36296   흥구석유(주)  24060  2022/12                             15000000.0\n",
       "\n",
       "[36297 rows x 4 columns]"
      ]
     },
     "execution_count": 7,
     "metadata": {},
     "output_type": "execute_result"
    }
   ],
   "source": [
    "df_copy"
   ]
  },
  {
   "cell_type": "code",
   "execution_count": 8,
   "metadata": {},
   "outputs": [],
   "source": [
    "df_num_share_5 = pd.pivot_table(df_copy, index=[\"회사명\",\"거래소코드\",\"회계년도\"], values='발행주식의 총수 (현재 발행한 주식수 - 현재 감소한 주식수)(주)', aggfunc=['count','sum','mean'])[[( 'mean', '발행주식의 총수 (현재 발행한 주식수 - 현재 감소한 주식수)(주)')]].reset_index()"
   ]
  },
  {
   "cell_type": "code",
   "execution_count": 9,
   "metadata": {},
   "outputs": [],
   "source": [
    "df_num_share_5.columns = ['회사명','거래소코드','회계년도', '발행주식의 총수 (현재 발행한 주식수 - 현재 감소한 주식수)(주)']"
   ]
  },
  {
   "cell_type": "code",
   "execution_count": 10,
   "metadata": {},
   "outputs": [],
   "source": [
    "df_num_share = df_num_share_5"
   ]
  },
  {
   "cell_type": "markdown",
   "metadata": {},
   "source": [
    "---"
   ]
  },
  {
   "cell_type": "markdown",
   "metadata": {},
   "source": [
    "## I-III. 개별 ALE DF 정리"
   ]
  },
  {
   "cell_type": "code",
   "execution_count": 11,
   "metadata": {},
   "outputs": [
    {
     "data": {
      "text/plain": [
       "Index(['회사명', '거래소코드', '회계년도', '[제조]자산(*)(IFRS연결)', '회사명', '거래소코드', '회계년도',\n",
       "       '[제조]부채(*)(IFRS연결)', '회사명', '거래소코드', '회계년도', '[제조]자본(*)(IFRS연결)(천원)'],\n",
       "      dtype='object')"
      ]
     },
     "execution_count": 11,
     "metadata": {},
     "output_type": "execute_result"
    }
   ],
   "source": [
    "df_ale.columns"
   ]
  },
  {
   "cell_type": "code",
   "execution_count": 12,
   "metadata": {},
   "outputs": [],
   "source": [
    "df_ale.columns = ['회사명', '거래소코드', '회계년도', '[제조]자산(*)(IFRS연결)', '회사명2', '거래소코드2', '회계년도2',\\\n",
    "       '[제조]부채(*)(IFRS연결)', '회사명3', '거래소코드3', '회계년도3', '[제조]자본(*)(IFRS연결)(천원)']"
   ]
  },
  {
   "cell_type": "code",
   "execution_count": 13,
   "metadata": {},
   "outputs": [],
   "source": [
    "df_ale.drop(['회사명2', '거래소코드2', '회계년도2','회사명3', '거래소코드3', '회계년도3'], axis = 1, inplace = True)"
   ]
  },
  {
   "cell_type": "markdown",
   "metadata": {},
   "source": [
    "## I-IV. DF 통합"
   ]
  },
  {
   "cell_type": "code",
   "execution_count": 14,
   "metadata": {},
   "outputs": [],
   "source": [
    "# 중복 컬럼 제거\n",
    "df_sre.drop(['회사명','거래소코드', '회계년도'], axis = 1, inplace = True)\n",
    "df_ale_each.drop(['회사명','거래소코드', '회계년도'], axis = 1, inplace = True)\n",
    "df_sre_each.drop(['회사명','거래소코드', '회계년도'], axis = 1, inplace = True)\n",
    "df_price.drop(['회사명','거래소코드', '회계년도'], axis = 1, inplace = True)\n",
    "df_num_share.drop(['회사명','거래소코드', '회계년도'], axis = 1, inplace = True)"
   ]
  },
  {
   "cell_type": "code",
   "execution_count": 15,
   "metadata": {},
   "outputs": [],
   "source": [
    "# concat\n",
    "df = pd.concat([df_ale, df_ale_each, df_sre, df_sre_each, df_price, df_num_share], axis = 1)"
   ]
  },
  {
   "cell_type": "markdown",
   "metadata": {},
   "source": [
    "---"
   ]
  },
  {
   "cell_type": "markdown",
   "metadata": {},
   "source": [
    "# II. 연결&개별 합쳐서 결측치 문제 해결"
   ]
  },
  {
   "cell_type": "markdown",
   "metadata": {},
   "source": [
    "## II-I.연결 결측치에 개별 값으로 대체"
   ]
  },
  {
   "cell_type": "markdown",
   "metadata": {},
   "source": [
    "### 1. 연+개_자산"
   ]
  },
  {
   "cell_type": "code",
   "execution_count": 16,
   "metadata": {},
   "outputs": [],
   "source": [
    "df_copy = df.copy()\n",
    "# df = df_copy.copy()"
   ]
  },
  {
   "cell_type": "code",
   "execution_count": 17,
   "metadata": {},
   "outputs": [
    {
     "data": {
      "text/plain": [
       "Index(['회사명', '거래소코드', '회계년도', '[제조]자산(*)(IFRS연결)', '[제조]부채(*)(IFRS연결)',\n",
       "       '[제조]자본(*)(IFRS연결)(천원)', '[제조]자산(*)(IFRS)(천원)', '[제조]부채(*)(IFRS)(천원)',\n",
       "       '[제조]자본(*)(IFRS)(천원)', '[제조]      이익잉여금(결손금)(*)(IFRS연결)(천원)',\n",
       "       '[제조]매출액(수익)(*)(IFRS연결)(천원)', '[제조]   이익잉여금(결손금)(*)(IFRS)(천원)',\n",
       "       '[제조]매출액(수익)(*)(IFRS)(천원)', '종가(원)',\n",
       "       '발행주식의 총수 (현재 발행한 주식수 - 현재 감소한 주식수)(주)'],\n",
       "      dtype='object')"
      ]
     },
     "execution_count": 17,
     "metadata": {},
     "output_type": "execute_result"
    }
   ],
   "source": [
    "df.columns"
   ]
  },
  {
   "cell_type": "code",
   "execution_count": 18,
   "metadata": {},
   "outputs": [],
   "source": [
    "# 컬럼 제목 정리\n",
    "df.columns = ['회사명', '거래소코드', '회계년도', \n",
    "       '[제조]자산(*)(IFRS연결)(천원)', '[제조]부채(*)(IFRS연결)(천원)','[제조]자본(*)(IFRS연결)(천원)',\n",
    "       '[제조]자산(*)(IFRS)(천원)', '[제조]부채(*)(IFRS)(천원)','[제조]자본(*)(IFRS)(천원)',\n",
    "       '[제조]      이익잉여금(결손금)(*)(IFRS연결)(천원)','[제조]매출액(수익)(*)(IFRS연결)(천원)',\n",
    "       '[제조]   이익잉여금(결손금)(*)(IFRS)(천원)','[제조]매출액(수익)(*)(IFRS)(천원)',\n",
    "       '종가(원)', '발행주식의 총수 (현재 발행한 주식수 - 현재 감소한 주식수)(주)']"
   ]
  },
  {
   "cell_type": "code",
   "execution_count": 19,
   "metadata": {},
   "outputs": [
    {
     "data": {
      "text/html": [
       "<div>\n",
       "<style scoped>\n",
       "    .dataframe tbody tr th:only-of-type {\n",
       "        vertical-align: middle;\n",
       "    }\n",
       "\n",
       "    .dataframe tbody tr th {\n",
       "        vertical-align: top;\n",
       "    }\n",
       "\n",
       "    .dataframe thead th {\n",
       "        text-align: right;\n",
       "    }\n",
       "</style>\n",
       "<table border=\"1\" class=\"dataframe\">\n",
       "  <thead>\n",
       "    <tr style=\"text-align: right;\">\n",
       "      <th></th>\n",
       "      <th>회사명</th>\n",
       "      <th>거래소코드</th>\n",
       "      <th>회계년도</th>\n",
       "      <th>[제조]자산(*)(IFRS)(천원)</th>\n",
       "      <th>[제조]자산(*)(IFRS연결)(천원)</th>\n",
       "    </tr>\n",
       "  </thead>\n",
       "  <tbody>\n",
       "    <tr>\n",
       "      <th>9</th>\n",
       "      <td>(주)CMG제약</td>\n",
       "      <td>58820</td>\n",
       "      <td>2020/12</td>\n",
       "      <td>195355583.0</td>\n",
       "      <td>NaN</td>\n",
       "    </tr>\n",
       "    <tr>\n",
       "      <th>10</th>\n",
       "      <td>(주)CMG제약</td>\n",
       "      <td>58820</td>\n",
       "      <td>2021/12</td>\n",
       "      <td>199174593.0</td>\n",
       "      <td>NaN</td>\n",
       "    </tr>\n",
       "    <tr>\n",
       "      <th>11</th>\n",
       "      <td>(주)CMG제약</td>\n",
       "      <td>58820</td>\n",
       "      <td>2022/12</td>\n",
       "      <td>213260376.0</td>\n",
       "      <td>NaN</td>\n",
       "    </tr>\n",
       "    <tr>\n",
       "      <th>36</th>\n",
       "      <td>(주)가온칩스</td>\n",
       "      <td>399720</td>\n",
       "      <td>2018/12</td>\n",
       "      <td>NaN</td>\n",
       "      <td>NaN</td>\n",
       "    </tr>\n",
       "    <tr>\n",
       "      <th>37</th>\n",
       "      <td>(주)가온칩스</td>\n",
       "      <td>399720</td>\n",
       "      <td>2019/12</td>\n",
       "      <td>NaN</td>\n",
       "      <td>NaN</td>\n",
       "    </tr>\n",
       "    <tr>\n",
       "      <th>...</th>\n",
       "      <td>...</td>\n",
       "      <td>...</td>\n",
       "      <td>...</td>\n",
       "      <td>...</td>\n",
       "      <td>...</td>\n",
       "    </tr>\n",
       "    <tr>\n",
       "      <th>17482</th>\n",
       "      <td>흥구석유(주)</td>\n",
       "      <td>24060</td>\n",
       "      <td>2018/12</td>\n",
       "      <td>75205581.0</td>\n",
       "      <td>NaN</td>\n",
       "    </tr>\n",
       "    <tr>\n",
       "      <th>17483</th>\n",
       "      <td>흥구석유(주)</td>\n",
       "      <td>24060</td>\n",
       "      <td>2019/12</td>\n",
       "      <td>83661499.0</td>\n",
       "      <td>NaN</td>\n",
       "    </tr>\n",
       "    <tr>\n",
       "      <th>17484</th>\n",
       "      <td>흥구석유(주)</td>\n",
       "      <td>24060</td>\n",
       "      <td>2020/12</td>\n",
       "      <td>83721348.0</td>\n",
       "      <td>NaN</td>\n",
       "    </tr>\n",
       "    <tr>\n",
       "      <th>17485</th>\n",
       "      <td>흥구석유(주)</td>\n",
       "      <td>24060</td>\n",
       "      <td>2021/12</td>\n",
       "      <td>82647109.0</td>\n",
       "      <td>NaN</td>\n",
       "    </tr>\n",
       "    <tr>\n",
       "      <th>17486</th>\n",
       "      <td>흥구석유(주)</td>\n",
       "      <td>24060</td>\n",
       "      <td>2022/12</td>\n",
       "      <td>93934616.0</td>\n",
       "      <td>NaN</td>\n",
       "    </tr>\n",
       "  </tbody>\n",
       "</table>\n",
       "<p>6048 rows × 5 columns</p>\n",
       "</div>"
      ],
      "text/plain": [
       "            회사명   거래소코드     회계년도  [제조]자산(*)(IFRS)(천원)  [제조]자산(*)(IFRS연결)(천원)\n",
       "9      (주)CMG제약   58820  2020/12          195355583.0                    NaN\n",
       "10     (주)CMG제약   58820  2021/12          199174593.0                    NaN\n",
       "11     (주)CMG제약   58820  2022/12          213260376.0                    NaN\n",
       "36      (주)가온칩스  399720  2018/12                  NaN                    NaN\n",
       "37      (주)가온칩스  399720  2019/12                  NaN                    NaN\n",
       "...         ...     ...      ...                  ...                    ...\n",
       "17482   흥구석유(주)   24060  2018/12           75205581.0                    NaN\n",
       "17483   흥구석유(주)   24060  2019/12           83661499.0                    NaN\n",
       "17484   흥구석유(주)   24060  2020/12           83721348.0                    NaN\n",
       "17485   흥구석유(주)   24060  2021/12           82647109.0                    NaN\n",
       "17486   흥구석유(주)   24060  2022/12           93934616.0                    NaN\n",
       "\n",
       "[6048 rows x 5 columns]"
      ]
     },
     "execution_count": 19,
     "metadata": {},
     "output_type": "execute_result"
    }
   ],
   "source": [
    "df.loc[df['[제조]자산(*)(IFRS연결)(천원)'].isna(), ['회사명','거래소코드','회계년도','[제조]자산(*)(IFRS)(천원)','[제조]자산(*)(IFRS연결)(천원)']]"
   ]
  },
  {
   "cell_type": "code",
   "execution_count": 20,
   "metadata": {},
   "outputs": [],
   "source": [
    "a = df.loc[df['[제조]자산(*)(IFRS연결)(천원)'].isna(), ['회사명','거래소코드','회계년도','[제조]자산(*)(IFRS)(천원)','[제조]자산(*)(IFRS연결)(천원)']]['[제조]자산(*)(IFRS)(천원)']"
   ]
  },
  {
   "cell_type": "code",
   "execution_count": 21,
   "metadata": {},
   "outputs": [],
   "source": [
    "df.loc[df['[제조]자산(*)(IFRS연결)(천원)'].isna(),'[제조]자산(*)(IFRS연결)(천원)'] = a\n"
   ]
  },
  {
   "cell_type": "code",
   "execution_count": 22,
   "metadata": {},
   "outputs": [
    {
     "data": {
      "text/plain": [
       "1868"
      ]
     },
     "execution_count": 22,
     "metadata": {},
     "output_type": "execute_result"
    }
   ],
   "source": [
    "df['[제조]자산(*)(IFRS연결)(천원)'].isna().sum()"
   ]
  },
  {
   "cell_type": "markdown",
   "metadata": {},
   "source": [
    "- 연결과 개별 둘다 Nan 인 경우 -> 1868"
   ]
  },
  {
   "cell_type": "markdown",
   "metadata": {},
   "source": [
    "### 2. 연+개_매출액"
   ]
  },
  {
   "cell_type": "code",
   "execution_count": 23,
   "metadata": {},
   "outputs": [],
   "source": [
    "b = df.loc[df['[제조]매출액(수익)(*)(IFRS연결)(천원)'].isna(), '[제조]매출액(수익)(*)(IFRS)(천원)']"
   ]
  },
  {
   "cell_type": "code",
   "execution_count": 24,
   "metadata": {},
   "outputs": [
    {
     "data": {
      "text/plain": [
       "6048"
      ]
     },
     "execution_count": 24,
     "metadata": {},
     "output_type": "execute_result"
    }
   ],
   "source": [
    "df['[제조]매출액(수익)(*)(IFRS연결)(천원)'].isna().sum()"
   ]
  },
  {
   "cell_type": "code",
   "execution_count": 25,
   "metadata": {},
   "outputs": [],
   "source": [
    "df.loc[df['[제조]매출액(수익)(*)(IFRS연결)(천원)'].isna(),'[제조]매출액(수익)(*)(IFRS연결)(천원)'] = b"
   ]
  },
  {
   "cell_type": "code",
   "execution_count": 26,
   "metadata": {},
   "outputs": [
    {
     "data": {
      "text/plain": [
       "1864"
      ]
     },
     "execution_count": 26,
     "metadata": {},
     "output_type": "execute_result"
    }
   ],
   "source": [
    "df['[제조]매출액(수익)(*)(IFRS연결)(천원)'].isna().sum()"
   ]
  },
  {
   "cell_type": "markdown",
   "metadata": {},
   "source": [
    "### 3. 연+개_이익잉여금"
   ]
  },
  {
   "cell_type": "code",
   "execution_count": 27,
   "metadata": {},
   "outputs": [
    {
     "data": {
      "text/plain": [
       "Index(['회사명', '거래소코드', '회계년도', '[제조]자산(*)(IFRS연결)(천원)',\n",
       "       '[제조]부채(*)(IFRS연결)(천원)', '[제조]자본(*)(IFRS연결)(천원)', '[제조]자산(*)(IFRS)(천원)',\n",
       "       '[제조]부채(*)(IFRS)(천원)', '[제조]자본(*)(IFRS)(천원)',\n",
       "       '[제조]      이익잉여금(결손금)(*)(IFRS연결)(천원)', '[제조]매출액(수익)(*)(IFRS연결)(천원)',\n",
       "       '[제조]   이익잉여금(결손금)(*)(IFRS)(천원)', '[제조]매출액(수익)(*)(IFRS)(천원)', '종가(원)',\n",
       "       '발행주식의 총수 (현재 발행한 주식수 - 현재 감소한 주식수)(주)'],\n",
       "      dtype='object')"
      ]
     },
     "execution_count": 27,
     "metadata": {},
     "output_type": "execute_result"
    }
   ],
   "source": [
    "df.columns"
   ]
  },
  {
   "cell_type": "code",
   "execution_count": 28,
   "metadata": {},
   "outputs": [],
   "source": [
    "c = df.loc[df['[제조]      이익잉여금(결손금)(*)(IFRS연결)(천원)'].isna(), '[제조]   이익잉여금(결손금)(*)(IFRS)(천원)']"
   ]
  },
  {
   "cell_type": "code",
   "execution_count": 29,
   "metadata": {},
   "outputs": [],
   "source": [
    "df.loc[df['[제조]      이익잉여금(결손금)(*)(IFRS연결)(천원)'].isna(),'[제조]      이익잉여금(결손금)(*)(IFRS연결)(천원)'] = c"
   ]
  },
  {
   "cell_type": "code",
   "execution_count": 30,
   "metadata": {},
   "outputs": [
    {
     "data": {
      "text/plain": [
       "1864"
      ]
     },
     "execution_count": 30,
     "metadata": {},
     "output_type": "execute_result"
    }
   ],
   "source": [
    "df['[제조]      이익잉여금(결손금)(*)(IFRS연결)(천원)'].isna().sum()"
   ]
  },
  {
   "cell_type": "markdown",
   "metadata": {},
   "source": [
    "### 4. 연+개_자본"
   ]
  },
  {
   "cell_type": "code",
   "execution_count": 31,
   "metadata": {},
   "outputs": [],
   "source": [
    "d = df.loc[df['[제조]자본(*)(IFRS연결)(천원)'].isna(), '[제조]자본(*)(IFRS)(천원)']\n"
   ]
  },
  {
   "cell_type": "code",
   "execution_count": 32,
   "metadata": {},
   "outputs": [],
   "source": [
    "df.loc[df['[제조]자본(*)(IFRS연결)(천원)'].isna(), '[제조]자본(*)(IFRS연결)(천원)'] = d"
   ]
  },
  {
   "cell_type": "code",
   "execution_count": 33,
   "metadata": {},
   "outputs": [
    {
     "data": {
      "text/plain": [
       "1868"
      ]
     },
     "execution_count": 33,
     "metadata": {},
     "output_type": "execute_result"
    }
   ],
   "source": [
    "df['[제조]자본(*)(IFRS연결)(천원)'].isna().sum()"
   ]
  },
  {
   "cell_type": "markdown",
   "metadata": {},
   "source": [
    "### 5. 연+개_부채"
   ]
  },
  {
   "cell_type": "code",
   "execution_count": 34,
   "metadata": {},
   "outputs": [],
   "source": [
    "e = df.loc[df['[제조]부채(*)(IFRS연결)(천원)'].isna(), '[제조]부채(*)(IFRS)(천원)']"
   ]
  },
  {
   "cell_type": "code",
   "execution_count": 35,
   "metadata": {},
   "outputs": [],
   "source": [
    "df.loc[df['[제조]부채(*)(IFRS연결)(천원)'].isna(),'[제조]부채(*)(IFRS연결)(천원)'] = e"
   ]
  },
  {
   "cell_type": "code",
   "execution_count": 36,
   "metadata": {},
   "outputs": [
    {
     "data": {
      "text/plain": [
       "1868"
      ]
     },
     "execution_count": 36,
     "metadata": {},
     "output_type": "execute_result"
    }
   ],
   "source": [
    "df['[제조]부채(*)(IFRS연결)(천원)'].isna().sum()"
   ]
  },
  {
   "cell_type": "code",
   "execution_count": 37,
   "metadata": {},
   "outputs": [
    {
     "data": {
      "text/html": [
       "<div>\n",
       "<style scoped>\n",
       "    .dataframe tbody tr th:only-of-type {\n",
       "        vertical-align: middle;\n",
       "    }\n",
       "\n",
       "    .dataframe tbody tr th {\n",
       "        vertical-align: top;\n",
       "    }\n",
       "\n",
       "    .dataframe thead th {\n",
       "        text-align: right;\n",
       "    }\n",
       "</style>\n",
       "<table border=\"1\" class=\"dataframe\">\n",
       "  <thead>\n",
       "    <tr style=\"text-align: right;\">\n",
       "      <th></th>\n",
       "      <th>회사명</th>\n",
       "      <th>거래소코드</th>\n",
       "      <th>회계년도</th>\n",
       "      <th>[제조]자산(*)(IFRS연결)(천원)</th>\n",
       "      <th>[제조]부채(*)(IFRS연결)(천원)</th>\n",
       "      <th>[제조]자본(*)(IFRS연결)(천원)</th>\n",
       "      <th>[제조]자산(*)(IFRS)(천원)</th>\n",
       "      <th>[제조]부채(*)(IFRS)(천원)</th>\n",
       "      <th>[제조]자본(*)(IFRS)(천원)</th>\n",
       "      <th>[제조]      이익잉여금(결손금)(*)(IFRS연결)(천원)</th>\n",
       "      <th>[제조]매출액(수익)(*)(IFRS연결)(천원)</th>\n",
       "      <th>[제조]   이익잉여금(결손금)(*)(IFRS)(천원)</th>\n",
       "      <th>[제조]매출액(수익)(*)(IFRS)(천원)</th>\n",
       "      <th>종가(원)</th>\n",
       "      <th>발행주식의 총수 (현재 발행한 주식수 - 현재 감소한 주식수)(주)</th>\n",
       "    </tr>\n",
       "  </thead>\n",
       "  <tbody>\n",
       "    <tr>\n",
       "      <th>0</th>\n",
       "      <td>(주)CMG제약</td>\n",
       "      <td>58820</td>\n",
       "      <td>2011/12</td>\n",
       "      <td>27305198.0</td>\n",
       "      <td>9270949.0</td>\n",
       "      <td>18034249.0</td>\n",
       "      <td>27548539.0</td>\n",
       "      <td>9257624.0</td>\n",
       "      <td>18290915.0</td>\n",
       "      <td>-45215050.0</td>\n",
       "      <td>17751704.0</td>\n",
       "      <td>-44971257.0</td>\n",
       "      <td>17751704.0</td>\n",
       "      <td>785.0</td>\n",
       "      <td>43693200.0</td>\n",
       "    </tr>\n",
       "    <tr>\n",
       "      <th>1</th>\n",
       "      <td>(주)CMG제약</td>\n",
       "      <td>58820</td>\n",
       "      <td>2012/12</td>\n",
       "      <td>57108035.0</td>\n",
       "      <td>25517350.0</td>\n",
       "      <td>31590685.0</td>\n",
       "      <td>56988604.0</td>\n",
       "      <td>25386064.0</td>\n",
       "      <td>31602540.0</td>\n",
       "      <td>-52379991.0</td>\n",
       "      <td>16255389.0</td>\n",
       "      <td>-52368787.0</td>\n",
       "      <td>16255389.0</td>\n",
       "      <td>1330.0</td>\n",
       "      <td>66025540.0</td>\n",
       "    </tr>\n",
       "    <tr>\n",
       "      <th>2</th>\n",
       "      <td>(주)CMG제약</td>\n",
       "      <td>58820</td>\n",
       "      <td>2013/12</td>\n",
       "      <td>55912563.0</td>\n",
       "      <td>6915281.0</td>\n",
       "      <td>48997281.0</td>\n",
       "      <td>55961620.0</td>\n",
       "      <td>6913407.0</td>\n",
       "      <td>49048213.0</td>\n",
       "      <td>-52201720.0</td>\n",
       "      <td>20402140.0</td>\n",
       "      <td>-52151440.0</td>\n",
       "      <td>20322140.0</td>\n",
       "      <td>932.0</td>\n",
       "      <td>86626866.0</td>\n",
       "    </tr>\n",
       "    <tr>\n",
       "      <th>3</th>\n",
       "      <td>(주)CMG제약</td>\n",
       "      <td>58820</td>\n",
       "      <td>2014/12</td>\n",
       "      <td>58068326.0</td>\n",
       "      <td>9065682.0</td>\n",
       "      <td>49002644.0</td>\n",
       "      <td>58127098.0</td>\n",
       "      <td>9060059.0</td>\n",
       "      <td>49067039.0</td>\n",
       "      <td>-52393918.0</td>\n",
       "      <td>22752584.0</td>\n",
       "      <td>-52330174.0</td>\n",
       "      <td>22752584.0</td>\n",
       "      <td>912.0</td>\n",
       "      <td>57751244.0</td>\n",
       "    </tr>\n",
       "    <tr>\n",
       "      <th>4</th>\n",
       "      <td>(주)CMG제약</td>\n",
       "      <td>58820</td>\n",
       "      <td>2015/12</td>\n",
       "      <td>56532821.0</td>\n",
       "      <td>9725933.0</td>\n",
       "      <td>46806888.0</td>\n",
       "      <td>56591972.0</td>\n",
       "      <td>9719267.0</td>\n",
       "      <td>46872705.0</td>\n",
       "      <td>-56413575.0</td>\n",
       "      <td>27041894.0</td>\n",
       "      <td>-56348409.0</td>\n",
       "      <td>27041894.0</td>\n",
       "      <td>2110.0</td>\n",
       "      <td>88297244.0</td>\n",
       "    </tr>\n",
       "    <tr>\n",
       "      <th>...</th>\n",
       "      <td>...</td>\n",
       "      <td>...</td>\n",
       "      <td>...</td>\n",
       "      <td>...</td>\n",
       "      <td>...</td>\n",
       "      <td>...</td>\n",
       "      <td>...</td>\n",
       "      <td>...</td>\n",
       "      <td>...</td>\n",
       "      <td>...</td>\n",
       "      <td>...</td>\n",
       "      <td>...</td>\n",
       "      <td>...</td>\n",
       "      <td>...</td>\n",
       "      <td>...</td>\n",
       "    </tr>\n",
       "    <tr>\n",
       "      <th>17482</th>\n",
       "      <td>흥구석유(주)</td>\n",
       "      <td>24060</td>\n",
       "      <td>2018/12</td>\n",
       "      <td>75205581.0</td>\n",
       "      <td>4763313.0</td>\n",
       "      <td>70442269.0</td>\n",
       "      <td>75205581.0</td>\n",
       "      <td>4763313.0</td>\n",
       "      <td>70442269.0</td>\n",
       "      <td>34090738.0</td>\n",
       "      <td>166208303.0</td>\n",
       "      <td>34090738.0</td>\n",
       "      <td>166208303.0</td>\n",
       "      <td>2705.0</td>\n",
       "      <td>15000000.0</td>\n",
       "    </tr>\n",
       "    <tr>\n",
       "      <th>17483</th>\n",
       "      <td>흥구석유(주)</td>\n",
       "      <td>24060</td>\n",
       "      <td>2019/12</td>\n",
       "      <td>83661499.0</td>\n",
       "      <td>6660240.0</td>\n",
       "      <td>77001259.0</td>\n",
       "      <td>83661499.0</td>\n",
       "      <td>6660240.0</td>\n",
       "      <td>77001259.0</td>\n",
       "      <td>40649728.0</td>\n",
       "      <td>150668735.0</td>\n",
       "      <td>40649728.0</td>\n",
       "      <td>150668735.0</td>\n",
       "      <td>5360.0</td>\n",
       "      <td>15000000.0</td>\n",
       "    </tr>\n",
       "    <tr>\n",
       "      <th>17484</th>\n",
       "      <td>흥구석유(주)</td>\n",
       "      <td>24060</td>\n",
       "      <td>2020/12</td>\n",
       "      <td>83721348.0</td>\n",
       "      <td>4121163.0</td>\n",
       "      <td>79600184.0</td>\n",
       "      <td>83721348.0</td>\n",
       "      <td>4121163.0</td>\n",
       "      <td>79600184.0</td>\n",
       "      <td>43248653.0</td>\n",
       "      <td>114843735.0</td>\n",
       "      <td>43248653.0</td>\n",
       "      <td>114843735.0</td>\n",
       "      <td>7220.0</td>\n",
       "      <td>15000000.0</td>\n",
       "    </tr>\n",
       "    <tr>\n",
       "      <th>17485</th>\n",
       "      <td>흥구석유(주)</td>\n",
       "      <td>24060</td>\n",
       "      <td>2021/12</td>\n",
       "      <td>82647109.0</td>\n",
       "      <td>3751076.0</td>\n",
       "      <td>78896033.0</td>\n",
       "      <td>82647109.0</td>\n",
       "      <td>3751076.0</td>\n",
       "      <td>78896033.0</td>\n",
       "      <td>42544502.0</td>\n",
       "      <td>132213730.0</td>\n",
       "      <td>42544502.0</td>\n",
       "      <td>132213730.0</td>\n",
       "      <td>7160.0</td>\n",
       "      <td>15000000.0</td>\n",
       "    </tr>\n",
       "    <tr>\n",
       "      <th>17486</th>\n",
       "      <td>흥구석유(주)</td>\n",
       "      <td>24060</td>\n",
       "      <td>2022/12</td>\n",
       "      <td>93934616.0</td>\n",
       "      <td>13848317.0</td>\n",
       "      <td>80086299.0</td>\n",
       "      <td>93934616.0</td>\n",
       "      <td>13848317.0</td>\n",
       "      <td>80086299.0</td>\n",
       "      <td>43734768.0</td>\n",
       "      <td>146717690.0</td>\n",
       "      <td>43734768.0</td>\n",
       "      <td>146717690.0</td>\n",
       "      <td>5680.0</td>\n",
       "      <td>15000000.0</td>\n",
       "    </tr>\n",
       "  </tbody>\n",
       "</table>\n",
       "<p>17487 rows × 15 columns</p>\n",
       "</div>"
      ],
      "text/plain": [
       "            회사명  거래소코드     회계년도  [제조]자산(*)(IFRS연결)(천원)  [제조]부채(*)(IFRS연결)(천원)  \\\n",
       "0      (주)CMG제약  58820  2011/12             27305198.0              9270949.0   \n",
       "1      (주)CMG제약  58820  2012/12             57108035.0             25517350.0   \n",
       "2      (주)CMG제약  58820  2013/12             55912563.0              6915281.0   \n",
       "3      (주)CMG제약  58820  2014/12             58068326.0              9065682.0   \n",
       "4      (주)CMG제약  58820  2015/12             56532821.0              9725933.0   \n",
       "...         ...    ...      ...                    ...                    ...   \n",
       "17482   흥구석유(주)  24060  2018/12             75205581.0              4763313.0   \n",
       "17483   흥구석유(주)  24060  2019/12             83661499.0              6660240.0   \n",
       "17484   흥구석유(주)  24060  2020/12             83721348.0              4121163.0   \n",
       "17485   흥구석유(주)  24060  2021/12             82647109.0              3751076.0   \n",
       "17486   흥구석유(주)  24060  2022/12             93934616.0             13848317.0   \n",
       "\n",
       "       [제조]자본(*)(IFRS연결)(천원)  [제조]자산(*)(IFRS)(천원)  [제조]부채(*)(IFRS)(천원)  \\\n",
       "0                 18034249.0           27548539.0            9257624.0   \n",
       "1                 31590685.0           56988604.0           25386064.0   \n",
       "2                 48997281.0           55961620.0            6913407.0   \n",
       "3                 49002644.0           58127098.0            9060059.0   \n",
       "4                 46806888.0           56591972.0            9719267.0   \n",
       "...                      ...                  ...                  ...   \n",
       "17482             70442269.0           75205581.0            4763313.0   \n",
       "17483             77001259.0           83661499.0            6660240.0   \n",
       "17484             79600184.0           83721348.0            4121163.0   \n",
       "17485             78896033.0           82647109.0            3751076.0   \n",
       "17486             80086299.0           93934616.0           13848317.0   \n",
       "\n",
       "       [제조]자본(*)(IFRS)(천원)  [제조]      이익잉여금(결손금)(*)(IFRS연결)(천원)  \\\n",
       "0               18290915.0                          -45215050.0   \n",
       "1               31602540.0                          -52379991.0   \n",
       "2               49048213.0                          -52201720.0   \n",
       "3               49067039.0                          -52393918.0   \n",
       "4               46872705.0                          -56413575.0   \n",
       "...                    ...                                  ...   \n",
       "17482           70442269.0                           34090738.0   \n",
       "17483           77001259.0                           40649728.0   \n",
       "17484           79600184.0                           43248653.0   \n",
       "17485           78896033.0                           42544502.0   \n",
       "17486           80086299.0                           43734768.0   \n",
       "\n",
       "       [제조]매출액(수익)(*)(IFRS연결)(천원)  [제조]   이익잉여금(결손금)(*)(IFRS)(천원)  \\\n",
       "0                      17751704.0                     -44971257.0   \n",
       "1                      16255389.0                     -52368787.0   \n",
       "2                      20402140.0                     -52151440.0   \n",
       "3                      22752584.0                     -52330174.0   \n",
       "4                      27041894.0                     -56348409.0   \n",
       "...                           ...                             ...   \n",
       "17482                 166208303.0                      34090738.0   \n",
       "17483                 150668735.0                      40649728.0   \n",
       "17484                 114843735.0                      43248653.0   \n",
       "17485                 132213730.0                      42544502.0   \n",
       "17486                 146717690.0                      43734768.0   \n",
       "\n",
       "       [제조]매출액(수익)(*)(IFRS)(천원)   종가(원)  발행주식의 총수 (현재 발행한 주식수 - 현재 감소한 주식수)(주)  \n",
       "0                    17751704.0   785.0                             43693200.0  \n",
       "1                    16255389.0  1330.0                             66025540.0  \n",
       "2                    20322140.0   932.0                             86626866.0  \n",
       "3                    22752584.0   912.0                             57751244.0  \n",
       "4                    27041894.0  2110.0                             88297244.0  \n",
       "...                         ...     ...                                    ...  \n",
       "17482               166208303.0  2705.0                             15000000.0  \n",
       "17483               150668735.0  5360.0                             15000000.0  \n",
       "17484               114843735.0  7220.0                             15000000.0  \n",
       "17485               132213730.0  7160.0                             15000000.0  \n",
       "17486               146717690.0  5680.0                             15000000.0  \n",
       "\n",
       "[17487 rows x 15 columns]"
      ]
     },
     "execution_count": 37,
     "metadata": {},
     "output_type": "execute_result"
    }
   ],
   "source": [
    "df"
   ]
  },
  {
   "cell_type": "markdown",
   "metadata": {},
   "source": [
    "---"
   ]
  },
  {
   "cell_type": "markdown",
   "metadata": {},
   "source": [
    "## II-II. 연결 & 개별 Both 결측치인 경우 -> 오뜨카지.."
   ]
  },
  {
   "cell_type": "markdown",
   "metadata": {},
   "source": [
    "### 1. 갯수확인"
   ]
  },
  {
   "cell_type": "code",
   "execution_count": 38,
   "metadata": {},
   "outputs": [
    {
     "data": {
      "text/plain": [
       "Index(['회사명', '거래소코드', '회계년도', '[제조]자산(*)(IFRS연결)(천원)',\n",
       "       '[제조]부채(*)(IFRS연결)(천원)', '[제조]자본(*)(IFRS연결)(천원)', '[제조]자산(*)(IFRS)(천원)',\n",
       "       '[제조]부채(*)(IFRS)(천원)', '[제조]자본(*)(IFRS)(천원)',\n",
       "       '[제조]      이익잉여금(결손금)(*)(IFRS연결)(천원)', '[제조]매출액(수익)(*)(IFRS연결)(천원)',\n",
       "       '[제조]   이익잉여금(결손금)(*)(IFRS)(천원)', '[제조]매출액(수익)(*)(IFRS)(천원)', '종가(원)',\n",
       "       '발행주식의 총수 (현재 발행한 주식수 - 현재 감소한 주식수)(주)'],\n",
       "      dtype='object')"
      ]
     },
     "execution_count": 38,
     "metadata": {},
     "output_type": "execute_result"
    }
   ],
   "source": [
    "df.columns"
   ]
  },
  {
   "cell_type": "code",
   "execution_count": 39,
   "metadata": {},
   "outputs": [
    {
     "name": "stdout",
     "output_type": "stream",
     "text": [
      "1868\n",
      "1868\n",
      "1868\n",
      "1864\n",
      "1864\n"
     ]
    }
   ],
   "source": [
    "# 연결 & 개별 모두 결측치인 row 수\n",
    "\n",
    "    # ALE\n",
    "print(((df['[제조]자산(*)(IFRS연결)(천원)'].isna()) & (df['[제조]자산(*)(IFRS)(천원)'].isna())).sum())\n",
    "print(((df['[제조]부채(*)(IFRS연결)(천원)'].isna()) & (df['[제조]부채(*)(IFRS)(천원)'].isna())).sum())\n",
    "print(((df['[제조]자본(*)(IFRS연결)(천원)'].isna()) & (df['[제조]자본(*)(IFRS)(천원)'].isna())).sum())\n",
    "    # Sales & R/E\n",
    "print(((df['[제조]매출액(수익)(*)(IFRS연결)(천원)'].isna()) & (df['[제조]매출액(수익)(*)(IFRS)(천원)'].isna())).sum())\n",
    "print(((df['[제조]      이익잉여금(결손금)(*)(IFRS연결)(천원)'].isna()) & (df['[제조]   이익잉여금(결손금)(*)(IFRS)(천원)'].isna())).sum())\n"
   ]
  },
  {
   "cell_type": "markdown",
   "metadata": {},
   "source": [
    "# III. Altman_K2-Score\n",
    "- 한국기업 대상으로 도산예측모형\n",
    "- K2_score : 상장기업 적용 모형 \n",
    "    - 자기자본 시장가격 : '시가총액'으로 대체 "
   ]
  },
  {
   "cell_type": "code",
   "execution_count": 63,
   "metadata": {},
   "outputs": [],
   "source": [
    "altman = df.iloc[:, 0:3]"
   ]
  },
  {
   "cell_type": "code",
   "execution_count": 64,
   "metadata": {},
   "outputs": [],
   "source": [
    "df_copy2 = df.copy()\n",
    "# df = df_copy2.copy()"
   ]
  },
  {
   "cell_type": "markdown",
   "metadata": {},
   "source": [
    "## III-I. 변수 확보 "
   ]
  },
  {
   "cell_type": "markdown",
   "metadata": {},
   "source": [
    "### 1. 기업규모: log(총자산)"
   ]
  },
  {
   "cell_type": "code",
   "execution_count": 98,
   "metadata": {},
   "outputs": [
    {
     "name": "stderr",
     "output_type": "stream",
     "text": [
      "c:\\Users\\zino0\\AppData\\Local\\Programs\\Python\\Python311\\Lib\\site-packages\\pandas\\core\\arraylike.py:402: RuntimeWarning: divide by zero encountered in log\n",
      "  result = getattr(ufunc, method)(*inputs, **kwargs)\n"
     ]
    }
   ],
   "source": [
    "# 자산 단위 변경 : 1,000 -> 1,000,000\n",
    "altman['총자산(log)'] = np.log(df['[제조]자산(*)(IFRS연결)(천원)']/1000)"
   ]
  },
  {
   "cell_type": "markdown",
   "metadata": {},
   "source": [
    "### 2. 총자산회전율 : log(매출액/총자산) "
   ]
  },
  {
   "cell_type": "code",
   "execution_count": 99,
   "metadata": {},
   "outputs": [],
   "source": [
    "altman['총자산회전율(log)'] = np.log(df['[제조]매출액(수익)(*)(IFRS연결)(천원)']/df['[제조]자산(*)(IFRS연결)(천원)'])"
   ]
  },
  {
   "cell_type": "markdown",
   "metadata": {},
   "source": [
    "### 3. 누적수익성 : 이익잉여금/총자산 "
   ]
  },
  {
   "cell_type": "code",
   "execution_count": 100,
   "metadata": {},
   "outputs": [],
   "source": [
    "altman['누적수익성'] = df['[제조]      이익잉여금(결손금)(*)(IFRS연결)(천원)']/df['[제조]자산(*)(IFRS연결)(천원)']"
   ]
  },
  {
   "cell_type": "markdown",
   "metadata": {},
   "source": [
    "### 4. 재무구조 : 자기자본 시장가격/총부채 "
   ]
  },
  {
   "cell_type": "markdown",
   "metadata": {},
   "source": [
    "### share DF \n",
    "1. 연결 주식총수 = Nan 일 때, 개별 주식총수로 대체\n",
    "2. 우선주 + 보통주 = 주식총수 True 여부 확인\n",
    "3. 종가 결측치 확인 \n",
    "4. 주식총수 x 종가    "
   ]
  },
  {
   "cell_type": "code",
   "execution_count": 101,
   "metadata": {},
   "outputs": [
    {
     "data": {
      "text/plain": [
       "회사명                                0\n",
       "거래소코드                              0\n",
       "회계년도                               0\n",
       "[제조]* 발행한 주식총수(*)(IFRS연결)(주)    1875\n",
       "[제조]   보통주(IFRS연결)(주)           6048\n",
       "[제조]   우선주(IFRS연결)(천원)          6048\n",
       "[제조]* 발행한 주식총수(*)(IFRS)(천원)     1993\n",
       "[제조]   보통주(IFRS)(주)             1993\n",
       "[제조]   우선주(IFRS)(주)             1993\n",
       "종가(원)                           3237\n",
       "시가총액                            3478\n",
       "dtype: int64"
      ]
     },
     "execution_count": 101,
     "metadata": {},
     "output_type": "execute_result"
    }
   ],
   "source": [
    "df_share.isna().sum()"
   ]
  },
  {
   "cell_type": "code",
   "execution_count": 102,
   "metadata": {},
   "outputs": [],
   "source": [
    "# 1. 연결 주식총수 nan값 개별로 대체\n",
    "f = df_share.loc[df_share['[제조]* 발행한 주식총수(*)(IFRS연결)(주)'].isna()]['[제조]* 발행한 주식총수(*)(IFRS)(천원)']"
   ]
  },
  {
   "cell_type": "code",
   "execution_count": 103,
   "metadata": {},
   "outputs": [],
   "source": [
    "df_share.loc[df_share['[제조]* 발행한 주식총수(*)(IFRS연결)(주)'].isna(),'[제조]* 발행한 주식총수(*)(IFRS연결)(주)'] = f"
   ]
  },
  {
   "cell_type": "code",
   "execution_count": 104,
   "metadata": {},
   "outputs": [
    {
     "data": {
      "text/plain": [
       "회사명                                0\n",
       "거래소코드                              0\n",
       "회계년도                               0\n",
       "[제조]* 발행한 주식총수(*)(IFRS연결)(주)    1875\n",
       "[제조]   보통주(IFRS연결)(주)           6048\n",
       "[제조]   우선주(IFRS연결)(천원)          6048\n",
       "[제조]* 발행한 주식총수(*)(IFRS)(천원)     1993\n",
       "[제조]   보통주(IFRS)(주)             1993\n",
       "[제조]   우선주(IFRS)(주)             1993\n",
       "종가(원)                           3237\n",
       "시가총액                            3478\n",
       "dtype: int64"
      ]
     },
     "execution_count": 104,
     "metadata": {},
     "output_type": "execute_result"
    }
   ],
   "source": [
    "df_share.isna().sum()"
   ]
  },
  {
   "cell_type": "code",
   "execution_count": 105,
   "metadata": {},
   "outputs": [
    {
     "data": {
      "text/plain": [
       "Index(['회사명', '거래소코드', '회계년도', '[제조]* 발행한 주식총수(*)(IFRS연결)(주)',\n",
       "       '[제조]   보통주(IFRS연결)(주)', '[제조]   우선주(IFRS연결)(천원)',\n",
       "       '[제조]* 발행한 주식총수(*)(IFRS)(천원)', '[제조]   보통주(IFRS)(주)',\n",
       "       '[제조]   우선주(IFRS)(주)', '종가(원)', '시가총액'],\n",
       "      dtype='object')"
      ]
     },
     "execution_count": 105,
     "metadata": {},
     "output_type": "execute_result"
    }
   ],
   "source": [
    "df_share.columns"
   ]
  },
  {
   "cell_type": "code",
   "execution_count": 106,
   "metadata": {},
   "outputs": [],
   "source": [
    "# 2. 우선주 + 보통주 = 주식총수 True 여부 확인\n",
    "    # 연결 개별 합친 후 주식총수 총합 오류 있는지 여부 확인 \n",
    "    \n",
    "share_a = df_share.loc[(df_share['[제조]   보통주(IFRS연결)(주)'] + df_share['[제조]   우선주(IFRS연결)(천원)'] != df_share['[제조]* 발행한 주식총수(*)(IFRS연결)(주)'])\\\n",
    "    &(df_share['[제조]   보통주(IFRS)(주)'] + df_share['[제조]   우선주(IFRS)(주)'] != df_share['[제조]* 발행한 주식총수(*)(IFRS)(천원)'])].index"
   ]
  },
  {
   "cell_type": "code",
   "execution_count": 107,
   "metadata": {},
   "outputs": [],
   "source": [
    "    # 연결 - 결측치 Index\n",
    "share_b = df_share.loc[df_share['[제조]* 발행한 주식총수(*)(IFRS연결)(주)'].isna()].index"
   ]
  },
  {
   "cell_type": "code",
   "execution_count": 108,
   "metadata": {},
   "outputs": [
    {
     "data": {
      "text/plain": [
       "0"
      ]
     },
     "execution_count": 108,
     "metadata": {},
     "output_type": "execute_result"
    }
   ],
   "source": [
    "(share_a != share_b).sum()"
   ]
  },
  {
   "cell_type": "markdown",
   "metadata": {},
   "source": [
    "> 주식총수(연결)의 결측치 자체가 주식총합(!= 보통주 + 우선주)인 이유\n",
    "\n",
    "- Anyway, 연결_주식총수로 시가총액 계산이 최선 "
   ]
  },
  {
   "cell_type": "code",
   "execution_count": 109,
   "metadata": {},
   "outputs": [
    {
     "data": {
      "text/plain": [
       "3237"
      ]
     },
     "execution_count": 109,
     "metadata": {},
     "output_type": "execute_result"
    }
   ],
   "source": [
    "# 3. 종가 결측치 \n",
    "df_share['종가(원)'].isna().sum()"
   ]
  },
  {
   "cell_type": "code",
   "execution_count": 110,
   "metadata": {},
   "outputs": [
    {
     "data": {
      "text/plain": [
       "Index(['회사명', '거래소코드', '회계년도', '[제조]* 발행한 주식총수(*)(IFRS연결)(주)',\n",
       "       '[제조]   보통주(IFRS연결)(주)', '[제조]   우선주(IFRS연결)(천원)',\n",
       "       '[제조]* 발행한 주식총수(*)(IFRS)(천원)', '[제조]   보통주(IFRS)(주)',\n",
       "       '[제조]   우선주(IFRS)(주)', '종가(원)', '시가총액'],\n",
       "      dtype='object')"
      ]
     },
     "execution_count": 110,
     "metadata": {},
     "output_type": "execute_result"
    }
   ],
   "source": [
    "df_share.columns"
   ]
  },
  {
   "cell_type": "code",
   "execution_count": 111,
   "metadata": {},
   "outputs": [],
   "source": [
    "df_share['시가총액'] = df_share['[제조]* 발행한 주식총수(*)(IFRS연결)(주)']* df_share['종가(원)']"
   ]
  },
  {
   "cell_type": "code",
   "execution_count": 112,
   "metadata": {},
   "outputs": [],
   "source": [
    "# 시가총액 단위변경 : 1 -> 1,000\n",
    "altman['재무구조'] = (df_share['시가총액']/1000) / df['[제조]부채(*)(IFRS연결)(천원)']"
   ]
  },
  {
   "cell_type": "code",
   "execution_count": 113,
   "metadata": {},
   "outputs": [
    {
     "name": "stdout",
     "output_type": "stream",
     "text": [
      "시가총액 0인 row수 : 2\n",
      "부채 0인 row수 : 1\n"
     ]
    },
    {
     "data": {
      "text/plain": [
       "회사명               0\n",
       "거래소코드             0\n",
       "회계년도              0\n",
       "총자산(log)       1868\n",
       "총자산회전율(log)    1880\n",
       "누적수익성          1880\n",
       "재무구조           3998\n",
       "K2_score       4005\n",
       "dtype: int64"
      ]
     },
     "execution_count": 113,
     "metadata": {},
     "output_type": "execute_result"
    }
   ],
   "source": [
    "# 시가총액 계산시 0 인 값 확인할 것\n",
    "print(f'시가총액 0인 row수 : {(df_share[\"시가총액\"] == 0).sum()}') \n",
    "print(f'부채 0인 row수 : {(df[\"[제조]부채(*)(IFRS연결)(천원)\"] == 0).sum()}')\n",
    "\n",
    "# 시가총액 결측치 확인할 것\n",
    "altman.isna().sum()\n"
   ]
  },
  {
   "cell_type": "markdown",
   "metadata": {},
   "source": [
    "## III-II. K2 Score 적용\n",
    "k2_score = -18.696 + 1.501 X1 + 2.706 X2 + 19.760 X3 + 1.146 X4\n",
    "\n",
    "1. X1 : 기업규모 = log(총자산)\n",
    "2. X2 : 총자산회전율 = log(매출액/총자산)\n",
    "3. X3 : 누적수익성 = 이익잉여금 / 총자산\n",
    "4. X4 : 재무구조 = 자기자본 시장가격 / 총부채\n",
    "---\n",
    "- i) K2 < -2.30 : 부실가능성 심각\n",
    "- ii) -2.3 < K2 < 0.75 : 판정보류\n",
    "- iii) K2 > 0.75 : 건전판정\n",
    "---"
   ]
  },
  {
   "cell_type": "code",
   "execution_count": 114,
   "metadata": {},
   "outputs": [
    {
     "data": {
      "text/plain": [
       "Index(['회사명', '거래소코드', '회계년도', '총자산(log)', '총자산회전율(log)', '누적수익성', '재무구조',\n",
       "       'K2_score'],\n",
       "      dtype='object')"
      ]
     },
     "execution_count": 114,
     "metadata": {},
     "output_type": "execute_result"
    }
   ],
   "source": [
    "altman.columns"
   ]
  },
  {
   "cell_type": "code",
   "execution_count": 115,
   "metadata": {},
   "outputs": [],
   "source": [
    "k2_series = -18.696 + 1.501*altman['총자산(log)'] + 2.706*altman['총자산회전율(log)'] + 19.760*altman['누적수익성'] + 1.146*altman['재무구조'] "
   ]
  },
  {
   "cell_type": "code",
   "execution_count": 116,
   "metadata": {},
   "outputs": [],
   "source": [
    "altman['K2_score'] = k2_series"
   ]
  },
  {
   "cell_type": "code",
   "execution_count": 117,
   "metadata": {},
   "outputs": [
    {
     "data": {
      "text/html": [
       "<div>\n",
       "<style scoped>\n",
       "    .dataframe tbody tr th:only-of-type {\n",
       "        vertical-align: middle;\n",
       "    }\n",
       "\n",
       "    .dataframe tbody tr th {\n",
       "        vertical-align: top;\n",
       "    }\n",
       "\n",
       "    .dataframe thead th {\n",
       "        text-align: right;\n",
       "    }\n",
       "</style>\n",
       "<table border=\"1\" class=\"dataframe\">\n",
       "  <thead>\n",
       "    <tr style=\"text-align: right;\">\n",
       "      <th></th>\n",
       "      <th>회사명</th>\n",
       "      <th>거래소코드</th>\n",
       "      <th>회계년도</th>\n",
       "      <th>총자산(log)</th>\n",
       "      <th>총자산회전율(log)</th>\n",
       "      <th>누적수익성</th>\n",
       "      <th>재무구조</th>\n",
       "      <th>K2_score</th>\n",
       "    </tr>\n",
       "  </thead>\n",
       "  <tbody>\n",
       "    <tr>\n",
       "      <th>0</th>\n",
       "      <td>(주)CMG제약</td>\n",
       "      <td>58820</td>\n",
       "      <td>2011/12</td>\n",
       "      <td>10.214832</td>\n",
       "      <td>-0.430596</td>\n",
       "      <td>-1.655914</td>\n",
       "      <td>8.521641</td>\n",
       "      <td>-27.483781</td>\n",
       "    </tr>\n",
       "    <tr>\n",
       "      <th>1</th>\n",
       "      <td>(주)CMG제약</td>\n",
       "      <td>58820</td>\n",
       "      <td>2012/12</td>\n",
       "      <td>10.952700</td>\n",
       "      <td>-1.256520</td>\n",
       "      <td>-0.917209</td>\n",
       "      <td>18.071527</td>\n",
       "      <td>-3.070217</td>\n",
       "    </tr>\n",
       "    <tr>\n",
       "      <th>2</th>\n",
       "      <td>(주)CMG제약</td>\n",
       "      <td>58820</td>\n",
       "      <td>2013/12</td>\n",
       "      <td>10.931544</td>\n",
       "      <td>-1.008149</td>\n",
       "      <td>-0.933631</td>\n",
       "      <td>85.360528</td>\n",
       "      <td>74.358806</td>\n",
       "    </tr>\n",
       "    <tr>\n",
       "      <th>3</th>\n",
       "      <td>(주)CMG제약</td>\n",
       "      <td>58820</td>\n",
       "      <td>2014/12</td>\n",
       "      <td>10.969376</td>\n",
       "      <td>-0.936942</td>\n",
       "      <td>-0.902280</td>\n",
       "      <td>88.553423</td>\n",
       "      <td>78.886829</td>\n",
       "    </tr>\n",
       "    <tr>\n",
       "      <th>4</th>\n",
       "      <td>(주)CMG제약</td>\n",
       "      <td>58820</td>\n",
       "      <td>2015/12</td>\n",
       "      <td>10.942577</td>\n",
       "      <td>-0.737434</td>\n",
       "      <td>-0.997891</td>\n",
       "      <td>69.860280</td>\n",
       "      <td>56.074872</td>\n",
       "    </tr>\n",
       "    <tr>\n",
       "      <th>...</th>\n",
       "      <td>...</td>\n",
       "      <td>...</td>\n",
       "      <td>...</td>\n",
       "      <td>...</td>\n",
       "      <td>...</td>\n",
       "      <td>...</td>\n",
       "      <td>...</td>\n",
       "      <td>...</td>\n",
       "    </tr>\n",
       "    <tr>\n",
       "      <th>17482</th>\n",
       "      <td>흥구석유(주)</td>\n",
       "      <td>24060</td>\n",
       "      <td>2018/12</td>\n",
       "      <td>11.227981</td>\n",
       "      <td>0.793016</td>\n",
       "      <td>0.453301</td>\n",
       "      <td>17.886710</td>\n",
       "      <td>29.758492</td>\n",
       "    </tr>\n",
       "    <tr>\n",
       "      <th>17483</th>\n",
       "      <td>흥구석유(주)</td>\n",
       "      <td>24060</td>\n",
       "      <td>2019/12</td>\n",
       "      <td>11.334534</td>\n",
       "      <td>0.588305</td>\n",
       "      <td>0.485883</td>\n",
       "      <td>4.504342</td>\n",
       "      <td>14.672119</td>\n",
       "    </tr>\n",
       "    <tr>\n",
       "      <th>17484</th>\n",
       "      <td>흥구석유(주)</td>\n",
       "      <td>24060</td>\n",
       "      <td>2020/12</td>\n",
       "      <td>11.335249</td>\n",
       "      <td>0.316078</td>\n",
       "      <td>0.516579</td>\n",
       "      <td>9.845522</td>\n",
       "      <td>20.664077</td>\n",
       "    </tr>\n",
       "    <tr>\n",
       "      <th>17485</th>\n",
       "      <td>흥구석유(주)</td>\n",
       "      <td>24060</td>\n",
       "      <td>2021/12</td>\n",
       "      <td>11.322335</td>\n",
       "      <td>0.469840</td>\n",
       "      <td>0.514773</td>\n",
       "      <td>13.696070</td>\n",
       "      <td>25.437823</td>\n",
       "    </tr>\n",
       "    <tr>\n",
       "      <th>17486</th>\n",
       "      <td>흥구석유(주)</td>\n",
       "      <td>24060</td>\n",
       "      <td>2022/12</td>\n",
       "      <td>11.450354</td>\n",
       "      <td>0.445911</td>\n",
       "      <td>0.465587</td>\n",
       "      <td>3.292819</td>\n",
       "      <td>12.671194</td>\n",
       "    </tr>\n",
       "  </tbody>\n",
       "</table>\n",
       "<p>17487 rows × 8 columns</p>\n",
       "</div>"
      ],
      "text/plain": [
       "            회사명  거래소코드     회계년도   총자산(log)  총자산회전율(log)     누적수익성       재무구조  \\\n",
       "0      (주)CMG제약  58820  2011/12  10.214832    -0.430596 -1.655914   8.521641   \n",
       "1      (주)CMG제약  58820  2012/12  10.952700    -1.256520 -0.917209  18.071527   \n",
       "2      (주)CMG제약  58820  2013/12  10.931544    -1.008149 -0.933631  85.360528   \n",
       "3      (주)CMG제약  58820  2014/12  10.969376    -0.936942 -0.902280  88.553423   \n",
       "4      (주)CMG제약  58820  2015/12  10.942577    -0.737434 -0.997891  69.860280   \n",
       "...         ...    ...      ...        ...          ...       ...        ...   \n",
       "17482   흥구석유(주)  24060  2018/12  11.227981     0.793016  0.453301  17.886710   \n",
       "17483   흥구석유(주)  24060  2019/12  11.334534     0.588305  0.485883   4.504342   \n",
       "17484   흥구석유(주)  24060  2020/12  11.335249     0.316078  0.516579   9.845522   \n",
       "17485   흥구석유(주)  24060  2021/12  11.322335     0.469840  0.514773  13.696070   \n",
       "17486   흥구석유(주)  24060  2022/12  11.450354     0.445911  0.465587   3.292819   \n",
       "\n",
       "        K2_score  \n",
       "0     -27.483781  \n",
       "1      -3.070217  \n",
       "2      74.358806  \n",
       "3      78.886829  \n",
       "4      56.074872  \n",
       "...          ...  \n",
       "17482  29.758492  \n",
       "17483  14.672119  \n",
       "17484  20.664077  \n",
       "17485  25.437823  \n",
       "17486  12.671194  \n",
       "\n",
       "[17487 rows x 8 columns]"
      ]
     },
     "execution_count": 117,
     "metadata": {},
     "output_type": "execute_result"
    }
   ],
   "source": [
    "altman"
   ]
  },
  {
   "cell_type": "code",
   "execution_count": 118,
   "metadata": {},
   "outputs": [
    {
     "name": "stdout",
     "output_type": "stream",
     "text": [
      "부실 비중 : 18.001780151312865\n",
      "보류 비중 : 7.669485239578698\n",
      "건전 비중 : 74.32873460910844\n"
     ]
    }
   ],
   "source": [
    "# K2 score 범위 확인 \n",
    "\n",
    "## 부실 가능성 심각\n",
    "bad = (altman['K2_score'] < (-2.3)).sum()\n",
    "\n",
    "## 판정 보류\n",
    "neutral = ((altman['K2_score'] >= -2.3) & (altman['K2_score']<=0.75)).sum()\n",
    "\n",
    "## 건전판정\n",
    "good = (altman['K2_score'] > 0.75).sum()\n",
    "\n",
    "###\n",
    "agg = bad + neutral + good\n",
    "\n",
    "print(f'부실 비중 : {(bad/agg)*100}')\n",
    "print(f'보류 비중 : {(neutral/agg)*100}')\n",
    "print(f'건전 비중 : {(good/agg)*100}')"
   ]
  },
  {
   "cell_type": "code",
   "execution_count": 119,
   "metadata": {},
   "outputs": [
    {
     "data": {
      "text/plain": [
       "2427"
      ]
     },
     "execution_count": 119,
     "metadata": {},
     "output_type": "execute_result"
    }
   ],
   "source": [
    "bad"
   ]
  },
  {
   "cell_type": "code",
   "execution_count": 120,
   "metadata": {},
   "outputs": [
    {
     "data": {
      "text/plain": [
       "1034"
      ]
     },
     "execution_count": 120,
     "metadata": {},
     "output_type": "execute_result"
    }
   ],
   "source": [
    "neutral\n"
   ]
  },
  {
   "cell_type": "code",
   "execution_count": 121,
   "metadata": {},
   "outputs": [
    {
     "data": {
      "text/plain": [
       "10021"
      ]
     },
     "execution_count": 121,
     "metadata": {},
     "output_type": "execute_result"
    }
   ],
   "source": [
    "good"
   ]
  },
  {
   "cell_type": "code",
   "execution_count": 122,
   "metadata": {},
   "outputs": [
    {
     "data": {
      "text/plain": [
       "4005"
      ]
     },
     "execution_count": 122,
     "metadata": {},
     "output_type": "execute_result"
    }
   ],
   "source": [
    "altman['K2_score'].isna().sum()"
   ]
  },
  {
   "cell_type": "code",
   "execution_count": 124,
   "metadata": {},
   "outputs": [],
   "source": [
    "altman.to_excel('./dataset_2nd/altman_k2score.xlsx')"
   ]
  },
  {
   "cell_type": "markdown",
   "metadata": {},
   "source": []
  },
  {
   "cell_type": "code",
   "execution_count": null,
   "metadata": {},
   "outputs": [],
   "source": []
  }
 ],
 "metadata": {
  "kernelspec": {
   "display_name": "Python 3",
   "language": "python",
   "name": "python3"
  },
  "language_info": {
   "codemirror_mode": {
    "name": "ipython",
    "version": 3
   },
   "file_extension": ".py",
   "mimetype": "text/x-python",
   "name": "python",
   "nbconvert_exporter": "python",
   "pygments_lexer": "ipython3",
   "version": "3.11.2"
  },
  "orig_nbformat": 4
 },
 "nbformat": 4,
 "nbformat_minor": 2
}
