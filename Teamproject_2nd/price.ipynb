{
 "cells": [
  {
   "cell_type": "code",
   "execution_count": 1,
   "metadata": {},
   "outputs": [],
   "source": [
    "import pandas as pd"
   ]
  },
  {
   "cell_type": "markdown",
   "metadata": {},
   "source": [
    "# I.DF 불러오기"
   ]
  },
  {
   "cell_type": "code",
   "execution_count": null,
   "metadata": {},
   "outputs": [],
   "source": [
    "market_11  = pd.read_excel(\"./dataset_2nd/market_11.xlsx\")\n",
    "market_12  = pd.read_excel(\"./dataset_2nd/market_12.xlsx\")\n",
    "market_13  = pd.read_excel(\"./dataset_2nd/market_13.xlsx\")\n",
    "market_14  = pd.read_excel(\"./dataset_2nd/market_14.xlsx\")\n",
    "market_15  = pd.read_excel(\"./dataset_2nd/market_15.xlsx\")\n",
    "market_16  = pd.read_excel(\"./dataset_2nd/market_16.xlsx\")\n",
    "market_17  = pd.read_excel(\"./dataset_2nd/market_17.xlsx\")\n",
    "market_18  = pd.read_excel(\"./dataset_2nd/market_18.xlsx\")\n",
    "market_19  = pd.read_excel(\"./dataset_2nd/market_19.xlsx\")\n",
    "market_20  = pd.read_excel(\"./dataset_2nd/market_20.xlsx\")\n",
    "market_21  = pd.read_excel(\"./dataset_2nd/market_21.xlsx\")\n",
    "market_22  = pd.read_excel(\"./dataset_2nd/market_22.xlsx\")"
   ]
  },
  {
   "cell_type": "markdown",
   "metadata": {},
   "source": [
    "## I-I. DF concat"
   ]
  },
  {
   "cell_type": "code",
   "execution_count": null,
   "metadata": {},
   "outputs": [],
   "source": [
    "pd.concat([market_11,market_12,market_13,market_14,market_15,market_16,market_17,market_18,market_19,market_20,market_21,market_22], axis=0)"
   ]
  },
  {
   "cell_type": "markdown",
   "metadata": {},
   "source": [
    "---"
   ]
  },
  {
   "cell_type": "code",
   "execution_count": null,
   "metadata": {},
   "outputs": [],
   "source": []
  }
 ],
 "metadata": {
  "kernelspec": {
   "display_name": "Python 3",
   "language": "python",
   "name": "python3"
  },
  "language_info": {
   "codemirror_mode": {
    "name": "ipython",
    "version": 3
   },
   "file_extension": ".py",
   "mimetype": "text/x-python",
   "name": "python",
   "nbconvert_exporter": "python",
   "pygments_lexer": "ipython3",
   "version": "3.11.2"
  },
  "orig_nbformat": 4
 },
 "nbformat": 4,
 "nbformat_minor": 2
}
