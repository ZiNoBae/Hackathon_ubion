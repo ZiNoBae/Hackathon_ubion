{
 "cells": [
  {
   "cell_type": "code",
   "execution_count": 79,
   "metadata": {},
   "outputs": [],
   "source": [
    "import pandas as pd\n",
    "from sklearn.compose import ColumnTransformer\n",
    "from sklearn.pipeline import Pipeline\n",
    "from sklearn.preprocessing import OneHotEncoder, StandardScaler\n",
    "from sklearn.tree import DecisionTreeClassifier\n",
    "from sklearn.ensemble import RandomForestClassifier\n",
    "import lightgbm as lgb"
   ]
  },
  {
   "cell_type": "code",
   "execution_count": 63,
   "metadata": {},
   "outputs": [],
   "source": [
    "main_df = pd.read_excel('./main_df_dropna_completed.xlsx',index_col=0)"
   ]
  },
  {
   "cell_type": "code",
   "execution_count": 64,
   "metadata": {},
   "outputs": [],
   "source": [
    "main_df.drop(['K2_부실판단'],axis=1,inplace=True)"
   ]
  },
  {
   "cell_type": "code",
   "execution_count": 65,
   "metadata": {},
   "outputs": [],
   "source": [
    "onehot_features = ['산업위험_경기민감도']\n",
    "binary_features = ['주거래은행'] "
   ]
  },
  {
   "cell_type": "code",
   "execution_count": 66,
   "metadata": {},
   "outputs": [],
   "source": [
    "transformers = []"
   ]
  },
  {
   "cell_type": "code",
   "execution_count": 67,
   "metadata": {},
   "outputs": [],
   "source": [
    "if onehot_features:\n",
    "    transformers.append(('onehot', OneHotEncoder(handle_unknown='ignore'), onehot_features))\n"
   ]
  },
  {
   "cell_type": "code",
   "execution_count": 68,
   "metadata": {},
   "outputs": [],
   "source": [
    "if binary_features:\n",
    "    binary_transformer = Pipeline(steps=[\n",
    "        ('binary_onehot', OneHotEncoder(sparse=False,handle_unknown='ignore'))  # 원-핫 인코딩 대신 바이너리 인코딩으로 변경\n",
    "    ])\n",
    "    transformers.append(('binary', binary_transformer, binary_features))\n",
    "\n"
   ]
  },
  {
   "cell_type": "code",
   "execution_count": 69,
   "metadata": {},
   "outputs": [],
   "source": [
    "numeric_features = ['유동비율(%)', '당좌비율(%)', '비유동비율(%)', '부채비율(%)',\n",
    "       '유동부채비율(%)', '차입금의존도(%)', '이익잉여금비율(%)', '순운전자본비율(%)', '비유동장기적합률(%)',\n",
    "       '이자보상배율(이자비용)(배)', '외화포지션(배)', '총자본순이익률(%)', '자기자본순이익률(%)',\n",
    "       '경영자본순이익률(%)', '매출액순이익률(%)', '총자본정상영업이익률(%)', '자기자본정상영업이익률(%)',\n",
    "       '매출액정상영업이익률(%)', '금융비용부담률(%)', '총자산회전율(배)', '매출채권회전률(배)', '당좌자산회전률(배)',\n",
    "       '재고자산회전률(배)', '유형자산회전율(배)', '매입채무회전률(배)', '자기자본회전률(배)', '경영자본회전률(배)',\n",
    "       '유동자산증가율(%)', '매출액증가율(%)', '정상영업이익증가율(%)', '순이익증가율(%)', 'spread(%)',\n",
    "       'PPI(2015기준)', '실질GDP성장률(%)', 'EV/EBITDA(배)', '52주베타(배)', 'PER', 'PBR',\n",
    "       'PCR', 'CASH FLOW 대 부채비율(%)', '총자본투자효율(%)', 'log_평균총자산', 'K2_score']\n",
    "numeric_transformer = Pipeline(steps=[\n",
    "    ('scaler', StandardScaler())\n",
    "])"
   ]
  },
  {
   "cell_type": "code",
   "execution_count": 70,
   "metadata": {},
   "outputs": [],
   "source": [
    "transformers.append(('numeric_scaled', numeric_transformer, numeric_features))\n",
    "preprocessor = ColumnTransformer(transformers=transformers)"
   ]
  },
  {
   "cell_type": "code",
   "execution_count": 71,
   "metadata": {},
   "outputs": [],
   "source": [
    "df_train = main_df.loc[main_df['회계년도'] <= 2019]\n",
    "df_test = main_df.loc[main_df['회계년도'] > 2019]"
   ]
  },
  {
   "cell_type": "code",
   "execution_count": 72,
   "metadata": {},
   "outputs": [],
   "source": [
    "X_train = df_train.drop(['Target','회사명', '거래소코드', '회계년도'], axis=1)\n",
    "y_train = df_train['Target']\n",
    "\n",
    "X_test = df_test.drop(['Target','회사명', '거래소코드', '회계년도'],axis=1)\n",
    "y_test = df_test['Target']\n"
   ]
  },
  {
   "cell_type": "code",
   "execution_count": 73,
   "metadata": {},
   "outputs": [],
   "source": [
    "X_train_transformed = preprocessor.fit_transform(X_train)"
   ]
  },
  {
   "cell_type": "code",
   "execution_count": 74,
   "metadata": {},
   "outputs": [],
   "source": [
    "X_test_transformed = preprocessor.transform(X_test)"
   ]
  },
  {
   "cell_type": "code",
   "execution_count": 80,
   "metadata": {},
   "outputs": [],
   "source": [
    "model_dt = DecisionTreeClassifier()\n",
    "model_rf = RandomForestClassifier()\n",
    "model_lgb = lgb.LGBMClassifier()"
   ]
  },
  {
   "cell_type": "code",
   "execution_count": 81,
   "metadata": {},
   "outputs": [],
   "source": [
    "pipeline_dt = Pipeline(steps=[\n",
    "    ('preprocessor', preprocessor),\n",
    "    ('model', model_dt)\n",
    "])\n",
    "\n",
    "pipeline_rf = Pipeline(steps=[\n",
    "    ('preprocessor', preprocessor),\n",
    "    ('model', model_rf)\n",
    "])\n",
    "\n",
    "pipeline_lgb = Pipeline(steps=[\n",
    "    ('preprocessor', preprocessor),\n",
    "    ('model', model_lgb)\n",
    "])"
   ]
  },
  {
   "cell_type": "code",
   "execution_count": 82,
   "metadata": {},
   "outputs": [
    {
     "name": "stdout",
     "output_type": "stream",
     "text": [
      "[LightGBM] [Info] Number of positive: 672, number of negative: 6700\n",
      "[LightGBM] [Warning] Auto-choosing row-wise multi-threading, the overhead of testing was 0.001405 seconds.\n",
      "You can set `force_row_wise=true` to remove the overhead.\n",
      "And if memory is not enough, you can set `force_col_wise=true`.\n",
      "[LightGBM] [Info] Total Bins 10244\n",
      "[LightGBM] [Info] Number of data points in the train set: 7372, number of used features: 60\n",
      "[LightGBM] [Info] [binary:BoostFromScore]: pavg=0.091156 -> initscore=-2.299604\n",
      "[LightGBM] [Info] Start training from score -2.299604\n"
     ]
    },
    {
     "data": {
      "text/plain": [
       "Pipeline(steps=[('preprocessor',\n",
       "                 ColumnTransformer(transformers=[('onehot',\n",
       "                                                  OneHotEncoder(handle_unknown='ignore'),\n",
       "                                                  ['산업위험_경기민감도']),\n",
       "                                                 ('binary',\n",
       "                                                  Pipeline(steps=[('binary_onehot',\n",
       "                                                                   OneHotEncoder(handle_unknown='ignore',\n",
       "                                                                                 sparse=False))]),\n",
       "                                                  ['주거래은행']),\n",
       "                                                 ('numeric_scaled',\n",
       "                                                  Pipeline(steps=[('scaler',\n",
       "                                                                   StandardScaler())]),\n",
       "                                                  ['유동비율(%)', '당좌비율(%)',\n",
       "                                                   '비유동비율(%)', '부채비율(%)',\n",
       "                                                   '유동부채비...\n",
       "                                                   '이익잉여금비율(%)', '순운전자본비율(%)',\n",
       "                                                   '비유동장기적합률(%)',\n",
       "                                                   '이자보상배율(이자비용)(배)',\n",
       "                                                   '외화포지션(배)', '총자본순이익률(%)',\n",
       "                                                   '자기자본순이익률(%)', '경영자본순이익률(%)',\n",
       "                                                   '매출액순이익률(%)',\n",
       "                                                   '총자본정상영업이익률(%)',\n",
       "                                                   '자기자본정상영업이익률(%)',\n",
       "                                                   '매출액정상영업이익률(%)',\n",
       "                                                   '금융비용부담률(%)', '총자산회전율(배)',\n",
       "                                                   '매출채권회전률(배)', '당좌자산회전률(배)',\n",
       "                                                   '재고자산회전률(배)', '유형자산회전율(배)',\n",
       "                                                   '매입채무회전률(배)', '자기자본회전률(배)',\n",
       "                                                   '경영자본회전률(배)', '유동자산증가율(%)',\n",
       "                                                   '매출액증가율(%)', '정상영업이익증가율(%)', ...])])),\n",
       "                ('model', LGBMClassifier())])"
      ]
     },
     "execution_count": 82,
     "metadata": {},
     "output_type": "execute_result"
    }
   ],
   "source": [
    "pipeline_dt.fit(X_train, y_train)\n",
    "pipeline_rf.fit(X_train, y_train)\n",
    "pipeline_lgb.fit(X_train, y_train)\n",
    "\n"
   ]
  },
  {
   "cell_type": "code",
   "execution_count": 83,
   "metadata": {},
   "outputs": [],
   "source": [
    "y_pred_dt = pipeline_dt.predict(X_test)\n",
    "y_pred_rf = pipeline_rf.predict(X_test)\n",
    "y_pred_lgb = pipeline_lgb.predict(X_test)"
   ]
  },
  {
   "cell_type": "code",
   "execution_count": 84,
   "metadata": {},
   "outputs": [
    {
     "name": "stdout",
     "output_type": "stream",
     "text": [
      "Decision Tree 모델의 f1-score: 0.3290322580645161\n",
      "Random Forest 모델의 f1-score: 0.4345991561181435\n",
      "LightGBM 모델의 f1-score: 0.4921875\n"
     ]
    }
   ],
   "source": [
    "from sklearn.metrics import f1_score\n",
    "\n",
    "# 각 모델별 성능 평가\n",
    "f1_dt = f1_score(y_test, y_pred_dt)\n",
    "f1_rf = f1_score(y_test, y_pred_rf)\n",
    "f1_lgb = f1_score(y_test, y_pred_lgb)\n",
    "\n",
    "\n",
    "print(f\"Decision Tree 모델의 f1-score: {f1_dt}\")\n",
    "print(f\"Random Forest 모델의 f1-score: {f1_rf}\")\n",
    "print(f\"LightGBM 모델의 f1-score: {f1_lgb}\")\n"
   ]
  },
  {
   "cell_type": "code",
   "execution_count": null,
   "metadata": {},
   "outputs": [],
   "source": []
  }
 ],
 "metadata": {
  "kernelspec": {
   "display_name": "Python 3",
   "language": "python",
   "name": "python3"
  },
  "language_info": {
   "codemirror_mode": {
    "name": "ipython",
    "version": 3
   },
   "file_extension": ".py",
   "mimetype": "text/x-python",
   "name": "python",
   "nbconvert_exporter": "python",
   "pygments_lexer": "ipython3",
   "version": "3.9.11"
  },
  "orig_nbformat": 4
 },
 "nbformat": 4,
 "nbformat_minor": 2
}
