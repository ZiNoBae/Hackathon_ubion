{
 "cells": [
  {
   "cell_type": "code",
   "execution_count": 36,
   "metadata": {},
   "outputs": [],
   "source": [
    "import pandas as pd\n",
    "from sklearn.preprocessing import StandardScaler\n",
    "\n",
    "import seaborn as sns\n",
    "import matplotlib.pyplot as plt\n",
    "import scipy.stats as stats"
   ]
  },
  {
   "cell_type": "code",
   "execution_count": 37,
   "metadata": {},
   "outputs": [],
   "source": [
    "from matplotlib import font_manager, rc\n",
    "font_path = \"C:/Windows/Fonts/NGULIM.TTF\"\n",
    "font = font_manager.FontProperties(fname=font_path).get_name()\n",
    "rc('font', family=font)"
   ]
  },
  {
   "cell_type": "code",
   "execution_count": 38,
   "metadata": {},
   "outputs": [],
   "source": [
    "df_train = pd.read_excel(\"../train_test_dataset/train.xlsx\",index_col=0)\n",
    "df_test = pd.read_excel(\"../train_test_dataset/test.xlsx\",index_col=0)"
   ]
  },
  {
   "cell_type": "code",
   "execution_count": 39,
   "metadata": {},
   "outputs": [],
   "source": [
    "#\n",
    "df_train = df_train.drop(['회사명', '거래소코드', '회계년도','K2_부실판단', '산업위험_경기민감도', '표준산업분류_중분류','주거래은행'],axis=1)\n",
    "df_test = df_test.drop(['회사명', '거래소코드', '회계년도','K2_부실판단', '산업위험_경기민감도', '표준산업분류_중분류','주거래은행'],axis=1)"
   ]
  },
  {
   "cell_type": "code",
   "execution_count": 40,
   "metadata": {},
   "outputs": [],
   "source": [
    "# train & test +  Features & Target  split \n",
    "y_train = df_train[\"Target\"].reset_index(drop=True)\n",
    "x_train = df_train.drop(\"Target\",axis=True)\n",
    "\n",
    "y_test = df_test[\"Target\"].reset_index(drop=True)\n",
    "x_test = df_test.drop(\"Target\",axis=True)"
   ]
  },
  {
   "cell_type": "code",
   "execution_count": 41,
   "metadata": {},
   "outputs": [],
   "source": [
    "# Scale Feature & Non_scale Feature -> dataset분리 (train & test each)\n",
    "\n",
    "train_scale = df_train[['유동비율(%)', '당좌비율(%)', '비유동비율(%)', '부채비율(%)', '유동부채비율(%)', '차입금의존도(%)',\n",
    "    '이익잉여금비율(%)', '순운전자본비율(%)', '비유동장기적합률(%)', '이자보상배율(이자비용)(배)',\n",
    "    '외화포지션(배)', '총자본순이익률(%)', '자기자본순이익률(%)', '경영자본순이익률(%)', '매출액순이익률(%)',\n",
    "    '총자본정상영업이익률(%)', '자기자본정상영업이익률(%)', '매출액정상영업이익률(%)', '금융비용부담률(%)',\n",
    "    '총자산회전율(배)', '매출채권회전률(배)', '당좌자산회전률(배)', '재고자산회전률(배)', '유형자산회전율(배)',\n",
    "    '매입채무회전률(배)', '자기자본회전률(배)', '경영자본회전률(배)', '유동자산증가율(%)', '매출액증가율(%)',\n",
    "    '정상영업이익증가율(%)', '순이익증가율(%)', 'spread(%)', 'PPI(2015기준)', '실질GDP성장률(%)',\n",
    "    'EV/EBITDA(배)', '52주베타(배)', 'PER', 'PBR', 'PCR', 'CASH FLOW 대 부채비율(%)',\n",
    "    '총자본투자효율(%)', 'log_평균총자산', 'K2_score', '최대주주특수관계인_지분율(%)',\n",
    "    '최대주주변경횟수(회)', '감사법인변경횟수(회)', '업력(년)', '평균근속연수(년)',\n",
    "    '직원수증감율(%)', '기간제비율(%)', 'R&D집중도(%)']]\n",
    "\n",
    "test_scale = df_test[['유동비율(%)', '당좌비율(%)', '비유동비율(%)', '부채비율(%)', '유동부채비율(%)', '차입금의존도(%)',\n",
    "    '이익잉여금비율(%)', '순운전자본비율(%)', '비유동장기적합률(%)', '이자보상배율(이자비용)(배)',\n",
    "    '외화포지션(배)', '총자본순이익률(%)', '자기자본순이익률(%)', '경영자본순이익률(%)', '매출액순이익률(%)',\n",
    "    '총자본정상영업이익률(%)', '자기자본정상영업이익률(%)', '매출액정상영업이익률(%)', '금융비용부담률(%)',\n",
    "    '총자산회전율(배)', '매출채권회전률(배)', '당좌자산회전률(배)', '재고자산회전률(배)', '유형자산회전율(배)',\n",
    "    '매입채무회전률(배)', '자기자본회전률(배)', '경영자본회전률(배)', '유동자산증가율(%)', '매출액증가율(%)',\n",
    "    '정상영업이익증가율(%)', '순이익증가율(%)', 'spread(%)', 'PPI(2015기준)', '실질GDP성장률(%)',\n",
    "    'EV/EBITDA(배)', '52주베타(배)', 'PER', 'PBR', 'PCR', 'CASH FLOW 대 부채비율(%)',\n",
    "    '총자본투자효율(%)', 'log_평균총자산', 'K2_score', '최대주주특수관계인_지분율(%)',\n",
    "    '최대주주변경횟수(회)', '감사법인변경횟수(회)', '업력(년)', '평균근속연수(년)',\n",
    "    '직원수증감율(%)', '기간제비율(%)', 'R&D집중도(%)']]\n",
    "\n",
    "train_not_scale = df_train[['수출기업여부(dummy)', '주거래은행_0', '주거래은행_1',\n",
    "    '주거래은행_2', '주거래은행_3', '주거래은행_4', '산업위험_경기민감도_카테고리화_1안_AA',\n",
    "    '산업위험_경기민감도_카테고리화_1안_A_BB', '산업위험_경기민감도_카테고리화_1안_BBB',\n",
    "    '산업위험_경기민감도_카테고리화_2안_AA', '산업위험_경기민감도_카테고리화_2안_A_B',\n",
    "    '산업위험_경기민감도_카테고리화_2안_BB_BBB', '최대주주변경횟수(회)_카테고리화_1안_0회',\n",
    "    '최대주주변경횟수(회)_카테고리화_1안_1~3회', '최대주주변경횟수(회)_카테고리화_1안_4회이상',\n",
    "    '최대주주변경횟수(회)_카테고리화_2안_0~1회', '최대주주변경횟수(회)_카테고리화_2안_2~4회',\n",
    "    '최대주주변경횟수(회)_카테고리화_2안_5회이상', '감사법인변경횟수(회)_카테고리화_1안_0회',\n",
    "    '감사법인변경횟수(회)_카테고리화_1안_1~2회', '감사법인변경횟수(회)_카테고리화_1안_3회이상',\n",
    "    '감사법인변경횟수(회)_카테고리화_2안_0회', '감사법인변경횟수(회)_카테고리화_2안_1회이상',\n",
    "    '장단기금리차_추세_1안_감소', '장단기금리차_추세_1안_증가', '장단기금리차_추세_2안_-',\n",
    "    '장단기금리차_추세_2안_역전', '생산자물가지수_추세_감소', '생산자물가지수_추세_증가', '실질GDP성장_추세_감소',\n",
    "    '실질GDP성장_추세_증가', '산업위험_경기민감도_A', '산업위험_경기민감도_AA', '산업위험_경기민감도_B',\n",
    "    '산업위험_경기민감도_BB', '산업위험_경기민감도_BBB', 'K2_부실판단_건전판정', 'K2_부실판단_부실가능',\n",
    "    'K2_부실판단_판정보류']]\n",
    "\n",
    "test_not_scale = df_test[['수출기업여부(dummy)', '주거래은행_0', '주거래은행_1',\n",
    "    '주거래은행_2', '주거래은행_3', '주거래은행_4', '산업위험_경기민감도_카테고리화_1안_AA',\n",
    "    '산업위험_경기민감도_카테고리화_1안_A_BB', '산업위험_경기민감도_카테고리화_1안_BBB',\n",
    "    '산업위험_경기민감도_카테고리화_2안_AA', '산업위험_경기민감도_카테고리화_2안_A_B',\n",
    "    '산업위험_경기민감도_카테고리화_2안_BB_BBB', '최대주주변경횟수(회)_카테고리화_1안_0회',\n",
    "    '최대주주변경횟수(회)_카테고리화_1안_1~3회', '최대주주변경횟수(회)_카테고리화_1안_4회이상',\n",
    "    '최대주주변경횟수(회)_카테고리화_2안_0~1회', '최대주주변경횟수(회)_카테고리화_2안_2~4회',\n",
    "    '최대주주변경횟수(회)_카테고리화_2안_5회이상', '감사법인변경횟수(회)_카테고리화_1안_0회',\n",
    "    '감사법인변경횟수(회)_카테고리화_1안_1~2회', '감사법인변경횟수(회)_카테고리화_1안_3회이상',\n",
    "    '감사법인변경횟수(회)_카테고리화_2안_0회', '감사법인변경횟수(회)_카테고리화_2안_1회이상',\n",
    "    '장단기금리차_추세_1안_감소', '장단기금리차_추세_1안_증가', '장단기금리차_추세_2안_-',\n",
    "    '장단기금리차_추세_2안_역전', '생산자물가지수_추세_감소', '생산자물가지수_추세_증가', '실질GDP성장_추세_감소',\n",
    "    '실질GDP성장_추세_증가', '산업위험_경기민감도_A', '산업위험_경기민감도_AA', '산업위험_경기민감도_B',\n",
    "    '산업위험_경기민감도_BB', '산업위험_경기민감도_BBB', 'K2_부실판단_건전판정', 'K2_부실판단_부실가능',\n",
    "    'K2_부실판단_판정보류']]"
   ]
  },
  {
   "cell_type": "markdown",
   "metadata": {},
   "source": [
    "# I. Scailing"
   ]
  },
  {
   "cell_type": "markdown",
   "metadata": {},
   "source": [
    "## I-1. Standard Scailing"
   ]
  },
  {
   "cell_type": "code",
   "execution_count": 42,
   "metadata": {},
   "outputs": [],
   "source": [
    "# StandardScaler 객체 생성\n",
    "scaler = StandardScaler()\n",
    "# 학습 세트를 사용하여 스케일링\n",
    "x_train_scaled = scaler.fit_transform(train_scale)\n",
    "# 테스트 세트에도 동일한 스케일링 적용\n",
    "x_test_scaled = scaler.transform(test_scale)"
   ]
  },
  {
   "cell_type": "code",
   "execution_count": 43,
   "metadata": {},
   "outputs": [],
   "source": [
    "# features 스케일링 적용후 DataFrame화\n",
    "x_train_scaled = pd.DataFrame(x_train_scaled, columns=train_scale.columns)\n",
    "x_test_scaled = pd.DataFrame(x_test_scaled, columns=test_scale.columns)"
   ]
  },
  {
   "cell_type": "code",
   "execution_count": 44,
   "metadata": {},
   "outputs": [],
   "source": [
    "# Non_scaled feature와 Re 합치기\n",
    "x_train_scaled = pd.concat([x_train_scaled, train_not_scale.reset_index(drop=True)],axis=1)\n",
    "x_test_scaled = pd.concat([x_test_scaled, test_not_scale.reset_index(drop=True)],axis=1)"
   ]
  },
  {
   "cell_type": "code",
   "execution_count": 45,
   "metadata": {},
   "outputs": [
    {
     "name": "stdout",
     "output_type": "stream",
     "text": [
      "유동비율(%) 결측치 : 0\n",
      "당좌비율(%) 결측치 : 0\n",
      "비유동비율(%) 결측치 : 0\n",
      "부채비율(%) 결측치 : 0\n",
      "유동부채비율(%) 결측치 : 0\n",
      "차입금의존도(%) 결측치 : 0\n",
      "이익잉여금비율(%) 결측치 : 0\n",
      "순운전자본비율(%) 결측치 : 0\n",
      "비유동장기적합률(%) 결측치 : 0\n",
      "이자보상배율(이자비용)(배) 결측치 : 0\n",
      "외화포지션(배) 결측치 : 0\n",
      "총자본순이익률(%) 결측치 : 0\n",
      "자기자본순이익률(%) 결측치 : 0\n",
      "경영자본순이익률(%) 결측치 : 0\n",
      "매출액순이익률(%) 결측치 : 0\n",
      "총자본정상영업이익률(%) 결측치 : 0\n",
      "자기자본정상영업이익률(%) 결측치 : 0\n",
      "매출액정상영업이익률(%) 결측치 : 0\n",
      "금융비용부담률(%) 결측치 : 0\n",
      "총자산회전율(배) 결측치 : 0\n",
      "매출채권회전률(배) 결측치 : 0\n",
      "당좌자산회전률(배) 결측치 : 0\n",
      "재고자산회전률(배) 결측치 : 0\n",
      "유형자산회전율(배) 결측치 : 0\n",
      "매입채무회전률(배) 결측치 : 0\n",
      "자기자본회전률(배) 결측치 : 0\n",
      "경영자본회전률(배) 결측치 : 0\n",
      "유동자산증가율(%) 결측치 : 0\n",
      "매출액증가율(%) 결측치 : 0\n",
      "정상영업이익증가율(%) 결측치 : 0\n",
      "순이익증가율(%) 결측치 : 0\n",
      "spread(%) 결측치 : 0\n",
      "PPI(2015기준) 결측치 : 0\n",
      "실질GDP성장률(%) 결측치 : 0\n",
      "EV/EBITDA(배) 결측치 : 0\n",
      "52주베타(배) 결측치 : 0\n",
      "PER 결측치 : 0\n",
      "PBR 결측치 : 0\n",
      "PCR 결측치 : 0\n",
      "CASH FLOW 대 부채비율(%) 결측치 : 0\n",
      "총자본투자효율(%) 결측치 : 0\n",
      "log_평균총자산 결측치 : 0\n",
      "K2_score 결측치 : 0\n",
      "최대주주특수관계인_지분율(%) 결측치 : 0\n",
      "최대주주변경횟수(회) 결측치 : 0\n",
      "감사법인변경횟수(회) 결측치 : 0\n",
      "업력(년) 결측치 : 0\n",
      "평균근속연수(년) 결측치 : 0\n",
      "직원수증감율(%) 결측치 : 0\n",
      "기간제비율(%) 결측치 : 0\n",
      "R&D집중도(%) 결측치 : 0\n",
      "수출기업여부(dummy) 결측치 : 0\n",
      "주거래은행_0 결측치 : 0\n",
      "주거래은행_1 결측치 : 0\n",
      "주거래은행_2 결측치 : 0\n",
      "주거래은행_3 결측치 : 0\n",
      "주거래은행_4 결측치 : 0\n",
      "산업위험_경기민감도_카테고리화_1안_AA 결측치 : 0\n",
      "산업위험_경기민감도_카테고리화_1안_A_BB 결측치 : 0\n",
      "산업위험_경기민감도_카테고리화_1안_BBB 결측치 : 0\n",
      "산업위험_경기민감도_카테고리화_2안_AA 결측치 : 0\n",
      "산업위험_경기민감도_카테고리화_2안_A_B 결측치 : 0\n",
      "산업위험_경기민감도_카테고리화_2안_BB_BBB 결측치 : 0\n",
      "최대주주변경횟수(회)_카테고리화_1안_0회 결측치 : 0\n",
      "최대주주변경횟수(회)_카테고리화_1안_1~3회 결측치 : 0\n",
      "최대주주변경횟수(회)_카테고리화_1안_4회이상 결측치 : 0\n",
      "최대주주변경횟수(회)_카테고리화_2안_0~1회 결측치 : 0\n",
      "최대주주변경횟수(회)_카테고리화_2안_2~4회 결측치 : 0\n",
      "최대주주변경횟수(회)_카테고리화_2안_5회이상 결측치 : 0\n",
      "감사법인변경횟수(회)_카테고리화_1안_0회 결측치 : 0\n",
      "감사법인변경횟수(회)_카테고리화_1안_1~2회 결측치 : 0\n",
      "감사법인변경횟수(회)_카테고리화_1안_3회이상 결측치 : 0\n",
      "감사법인변경횟수(회)_카테고리화_2안_0회 결측치 : 0\n",
      "감사법인변경횟수(회)_카테고리화_2안_1회이상 결측치 : 0\n",
      "장단기금리차_추세_1안_감소 결측치 : 0\n",
      "장단기금리차_추세_1안_증가 결측치 : 0\n",
      "장단기금리차_추세_2안_- 결측치 : 0\n",
      "장단기금리차_추세_2안_역전 결측치 : 0\n",
      "생산자물가지수_추세_감소 결측치 : 0\n",
      "생산자물가지수_추세_증가 결측치 : 0\n",
      "실질GDP성장_추세_감소 결측치 : 0\n",
      "실질GDP성장_추세_증가 결측치 : 0\n",
      "산업위험_경기민감도_A 결측치 : 0\n",
      "산업위험_경기민감도_AA 결측치 : 0\n",
      "산업위험_경기민감도_B 결측치 : 0\n",
      "산업위험_경기민감도_BB 결측치 : 0\n",
      "산업위험_경기민감도_BBB 결측치 : 0\n",
      "K2_부실판단_건전판정 결측치 : 0\n",
      "K2_부실판단_부실가능 결측치 : 0\n",
      "K2_부실판단_판정보류 결측치 : 0\n"
     ]
    }
   ],
   "source": [
    "for i in x_train_scaled.columns :\n",
    "    print(f'{i} 결측치 : {x_train_scaled[i].isna().sum()}')"
   ]
  },
  {
   "cell_type": "code",
   "execution_count": 46,
   "metadata": {},
   "outputs": [],
   "source": [
    "x_train_scaled.to_excel('../train_test_dataset/x_train.xlsx')\n",
    "x_test_scaled.to_excel('../train_test_dataset/x_test.xlsx')\n",
    "y_train.to_excel('../train_test_dataset/y_train.xlsx')\n",
    "y_test.to_excel('../train_test_dataset/y_test.xlsx')"
   ]
  },
  {
   "cell_type": "markdown",
   "metadata": {},
   "source": [
    "## I-2. QQ_plot Recheck"
   ]
  },
  {
   "cell_type": "code",
   "execution_count": 29,
   "metadata": {},
   "outputs": [],
   "source": [
    "def draw_qq(box_q_df):\n",
    "    num_cols = len(box_q_df.columns)\n",
    "    num_rows = (num_cols + 1) // 7  # 컬럼 개수에 따라 subplot 행 개수 계산\n",
    "\n",
    "    fig, axes = plt.subplots(num_rows, 7, figsize=(30, 30))\n",
    "\n",
    "    # 반복문으로 모든 컬럼의 QQ plot 그리기\n",
    "    for i, col in enumerate(box_q_df.columns):\n",
    "        row_idx = i // 7\n",
    "        col_idx = i % 7\n",
    "        ax = axes[row_idx, col_idx]\n",
    "        stats.probplot(box_q_df[col], dist=stats.norm, plot=ax)\n",
    "        ax.set_title(f'QQ plot of {col}')\n",
    "\n",
    "    # 남은 비어있는 subplot 제거\n",
    "    if num_cols % 7 != 0:\n",
    "        fig.delaxes(axes.flatten()[-1])\n",
    "    \n",
    "    plt.tight_layout()\n",
    "    plt.show()"
   ]
  },
  {
   "cell_type": "code",
   "execution_count": 30,
   "metadata": {},
   "outputs": [],
   "source": [
    "# 스케일링 후 qq_plot 재확인\n",
    "# draw_qq(x_train_scaled[['유동비율(%)', '당좌비율(%)', '비유동비율(%)', '부채비율(%)', '유동부채비율(%)', '차입금의존도(%)',\n",
    "#     '이익잉여금비율(%)', '순운전자본비율(%)', '비유동장기적합률(%)', '이자보상배율(이자비용)(배)',\n",
    "#     '외화포지션(배)', '총자본순이익률(%)', '자기자본순이익률(%)', '경영자본순이익률(%)', '매출액순이익률(%)',\n",
    "#     '총자본정상영업이익률(%)', '자기자본정상영업이익률(%)', '매출액정상영업이익률(%)', '금융비용부담률(%)',\n",
    "#     '총자산회전율(배)', '매출채권회전률(배)', '당좌자산회전률(배)', '재고자산회전률(배)', '유형자산회전율(배)',\n",
    "#     '매입채무회전률(배)', '자기자본회전률(배)', '경영자본회전률(배)', '유동자산증가율(%)', '매출액증가율(%)',\n",
    "#     '정상영업이익증가율(%)', '순이익증가율(%)', 'spread(%)', 'PPI(2015기준)', '실질GDP성장률(%)',\n",
    "#     'EV/EBITDA(배)', '52주베타(배)', 'PER', 'PBR', 'PCR', 'CASH FLOW 대 부채비율(%)',\n",
    "#     '총자본투자효율(%)', 'log_평균총자산', 'K2_score', '최대주주특수관계인_지분율(%)', '평균근속연수(년)',\n",
    "#     '직원수증감율(%)', '기간제비율(%)', 'R&D집중도(%)']])"
   ]
  },
  {
   "cell_type": "markdown",
   "metadata": {},
   "source": [
    "# II. OverSampling"
   ]
  },
  {
   "cell_type": "markdown",
   "metadata": {},
   "source": [
    "## II-1. SMOTE"
   ]
  },
  {
   "cell_type": "markdown",
   "metadata": {},
   "source": [
    "### II-1-A. 비율 1:1"
   ]
  },
  {
   "cell_type": "code",
   "execution_count": 31,
   "metadata": {},
   "outputs": [],
   "source": [
    "from imblearn.over_sampling import SMOTE\n",
    "\n",
    "sm = SMOTE(random_state=0)\n",
    "x_train_smote, y_train_smote = sm.fit_resample(x_train_scaled, y_train)"
   ]
  },
  {
   "cell_type": "code",
   "execution_count": 32,
   "metadata": {},
   "outputs": [
    {
     "data": {
      "text/plain": [
       "0    6699\n",
       "1    6699\n",
       "Name: Target, dtype: int64"
      ]
     },
     "execution_count": 32,
     "metadata": {},
     "output_type": "execute_result"
    }
   ],
   "source": [
    "y_train_smote.value_counts()"
   ]
  },
  {
   "cell_type": "code",
   "execution_count": 33,
   "metadata": {},
   "outputs": [
    {
     "name": "stdout",
     "output_type": "stream",
     "text": [
      "유동비율(%) 결측치 : 0\n",
      "당좌비율(%) 결측치 : 0\n",
      "비유동비율(%) 결측치 : 0\n",
      "부채비율(%) 결측치 : 0\n",
      "유동부채비율(%) 결측치 : 0\n",
      "차입금의존도(%) 결측치 : 0\n",
      "이익잉여금비율(%) 결측치 : 0\n",
      "순운전자본비율(%) 결측치 : 0\n",
      "비유동장기적합률(%) 결측치 : 0\n",
      "이자보상배율(이자비용)(배) 결측치 : 0\n",
      "외화포지션(배) 결측치 : 0\n",
      "총자본순이익률(%) 결측치 : 0\n",
      "자기자본순이익률(%) 결측치 : 0\n",
      "경영자본순이익률(%) 결측치 : 0\n",
      "매출액순이익률(%) 결측치 : 0\n",
      "총자본정상영업이익률(%) 결측치 : 0\n",
      "자기자본정상영업이익률(%) 결측치 : 0\n",
      "매출액정상영업이익률(%) 결측치 : 0\n",
      "금융비용부담률(%) 결측치 : 0\n",
      "총자산회전율(배) 결측치 : 0\n",
      "매출채권회전률(배) 결측치 : 0\n",
      "당좌자산회전률(배) 결측치 : 0\n",
      "재고자산회전률(배) 결측치 : 0\n",
      "유형자산회전율(배) 결측치 : 0\n",
      "매입채무회전률(배) 결측치 : 0\n",
      "자기자본회전률(배) 결측치 : 0\n",
      "경영자본회전률(배) 결측치 : 0\n",
      "유동자산증가율(%) 결측치 : 0\n",
      "매출액증가율(%) 결측치 : 0\n",
      "정상영업이익증가율(%) 결측치 : 0\n",
      "순이익증가율(%) 결측치 : 0\n",
      "spread(%) 결측치 : 0\n",
      "PPI(2015기준) 결측치 : 0\n",
      "실질GDP성장률(%) 결측치 : 0\n",
      "EV/EBITDA(배) 결측치 : 0\n",
      "52주베타(배) 결측치 : 0\n",
      "PER 결측치 : 0\n",
      "PBR 결측치 : 0\n",
      "PCR 결측치 : 0\n",
      "CASH FLOW 대 부채비율(%) 결측치 : 0\n",
      "총자본투자효율(%) 결측치 : 0\n",
      "log_평균총자산 결측치 : 0\n",
      "K2_score 결측치 : 0\n",
      "최대주주특수관계인_지분율(%) 결측치 : 0\n",
      "최대주주변경횟수(회) 결측치 : 0\n",
      "감사법인변경횟수(회) 결측치 : 0\n",
      "업력(년) 결측치 : 0\n",
      "평균근속연수(년) 결측치 : 0\n",
      "직원수증감율(%) 결측치 : 0\n",
      "기간제비율(%) 결측치 : 0\n",
      "R&D집중도(%) 결측치 : 0\n",
      "수출기업여부(dummy) 결측치 : 0\n",
      "주거래은행_0 결측치 : 0\n",
      "주거래은행_1 결측치 : 0\n",
      "주거래은행_2 결측치 : 0\n",
      "주거래은행_3 결측치 : 0\n",
      "주거래은행_4 결측치 : 0\n",
      "산업위험_경기민감도_카테고리화_1안_AA 결측치 : 0\n",
      "산업위험_경기민감도_카테고리화_1안_A_BB 결측치 : 0\n",
      "산업위험_경기민감도_카테고리화_1안_BBB 결측치 : 0\n",
      "산업위험_경기민감도_카테고리화_2안_AA 결측치 : 0\n",
      "산업위험_경기민감도_카테고리화_2안_A_B 결측치 : 0\n",
      "산업위험_경기민감도_카테고리화_2안_BB_BBB 결측치 : 0\n",
      "최대주주변경횟수(회)_카테고리화_1안_0회 결측치 : 0\n",
      "최대주주변경횟수(회)_카테고리화_1안_1~3회 결측치 : 0\n",
      "최대주주변경횟수(회)_카테고리화_1안_4회이상 결측치 : 0\n",
      "최대주주변경횟수(회)_카테고리화_2안_0~1회 결측치 : 0\n",
      "최대주주변경횟수(회)_카테고리화_2안_2~4회 결측치 : 0\n",
      "최대주주변경횟수(회)_카테고리화_2안_5회이상 결측치 : 0\n",
      "감사법인변경횟수(회)_카테고리화_1안_0회 결측치 : 0\n",
      "감사법인변경횟수(회)_카테고리화_1안_1~2회 결측치 : 0\n",
      "감사법인변경횟수(회)_카테고리화_1안_3회이상 결측치 : 0\n",
      "감사법인변경횟수(회)_카테고리화_2안_0회 결측치 : 0\n",
      "감사법인변경횟수(회)_카테고리화_2안_1회이상 결측치 : 0\n",
      "장단기금리차_추세_1안_감소 결측치 : 0\n",
      "장단기금리차_추세_1안_증가 결측치 : 0\n",
      "장단기금리차_추세_2안_- 결측치 : 0\n",
      "장단기금리차_추세_2안_역전 결측치 : 0\n",
      "생산자물가지수_추세_감소 결측치 : 0\n",
      "생산자물가지수_추세_증가 결측치 : 0\n",
      "실질GDP성장_추세_감소 결측치 : 0\n",
      "실질GDP성장_추세_증가 결측치 : 0\n",
      "산업위험_경기민감도_A 결측치 : 0\n",
      "산업위험_경기민감도_AA 결측치 : 0\n",
      "산업위험_경기민감도_B 결측치 : 0\n",
      "산업위험_경기민감도_BB 결측치 : 0\n",
      "산업위험_경기민감도_BBB 결측치 : 0\n",
      "K2_부실판단_건전판정 결측치 : 0\n",
      "K2_부실판단_부실가능 결측치 : 0\n",
      "K2_부실판단_판정보류 결측치 : 0\n"
     ]
    }
   ],
   "source": [
    "# Oversampling 후 결측치 확인\n",
    "for i in x_train_smote.columns :\n",
    "    print(f'{i} 결측치 : {x_train_scaled[i].isna().sum()}')"
   ]
  },
  {
   "cell_type": "code",
   "execution_count": 35,
   "metadata": {},
   "outputs": [],
   "source": [
    "# Smote 1:1 Excel\n",
    "x_train_smote.to_excel('../dataset_oversampling/x_train_smote.xlsx')\n",
    "# y_train_smote.to_excel('./y_train_smote.xlsx')\n",
    "# x_test.to_excel('../dataset_oversampling/x_test.xlsx')\n",
    "# y_test.to_excel('../dataset_oversampling/y_test.xlsx')"
   ]
  },
  {
   "cell_type": "markdown",
   "metadata": {},
   "source": [
    "### II-1-B. 비율 2:1"
   ]
  },
  {
   "cell_type": "code",
   "execution_count": 56,
   "metadata": {},
   "outputs": [],
   "source": [
    "from imblearn.over_sampling import SMOTE\n",
    "\n",
    "sm = SMOTE(random_state=1, sampling_strategy=0.5)\n",
    "x_train_smote, y_train_smote = sm.fit_resample(x_train, y_train)"
   ]
  },
  {
   "cell_type": "code",
   "execution_count": 57,
   "metadata": {},
   "outputs": [
    {
     "data": {
      "text/plain": [
       "0    6699\n",
       "1    3349\n",
       "Name: Target, dtype: int64"
      ]
     },
     "execution_count": 57,
     "metadata": {},
     "output_type": "execute_result"
    }
   ],
   "source": [
    "y_train_smote.value_counts()"
   ]
  },
  {
   "cell_type": "code",
   "execution_count": 58,
   "metadata": {},
   "outputs": [],
   "source": [
    "# Smote 2:1 Excel\n",
    "# x_train_smote.to_excel('../dataset_oversampling/x_train_smote_21.xlsx')\n",
    "# y_train_smote.to_excel('../dataset_oversampling/y_train_smote_21.xlsx')\n"
   ]
  },
  {
   "cell_type": "markdown",
   "metadata": {},
   "source": [
    "---"
   ]
  },
  {
   "cell_type": "markdown",
   "metadata": {},
   "source": [
    "> categorical 피처를 포함하고 있는 경우에 수행할 수 있는 오버샘플링\n",
    "\n",
    "> Synthetic Minority Over-sampling Technique for Nominal and Continuous.\n",
    "\n",
    "> Unlike SMOTE, SMOTE-NC for dataset containing numerical and categorical features. However, it is not designed to work with only categorical features."
   ]
  },
  {
   "cell_type": "code",
   "execution_count": null,
   "metadata": {},
   "outputs": [],
   "source": [
    "# from imblearn.over_sampling import SMOTENC\n",
    "# sm_cat = SMOTENC(random_state=0)\n",
    "# x_train_smote_cat, y_train_smote_cat = sm_cat.fit_sample(catrgorical_features=[], categorical_encoder=\"\", x_train, y_train)"
   ]
  },
  {
   "cell_type": "markdown",
   "metadata": {},
   "source": [
    "#### ADASYN"
   ]
  },
  {
   "cell_type": "code",
   "execution_count": null,
   "metadata": {},
   "outputs": [],
   "source": [
    "# from imblearn.over_sampling import ADASYN\n",
    "\n",
    "# adasyn = ADASYN(random_state=0)\n",
    "# x_train_ad, y_train_ad = adasyn.fit_resample(x_train, y_train)"
   ]
  },
  {
   "cell_type": "markdown",
   "metadata": {},
   "source": [
    "### OverSampling by CGAN"
   ]
  },
  {
   "cell_type": "code",
   "execution_count": null,
   "metadata": {},
   "outputs": [],
   "source": [
    "# import numpy as np\n",
    "# import tensorflow as tf\n",
    "# from tensorflow.keras import layers, models\n",
    "\n",
    "# # CGAN 생성자 모델 정의\n",
    "# def build_generator(latent_dim, num_classes, categorical_dim):\n",
    "#     noise = layers.Input(shape=(latent_dim,))\n",
    "#     label = layers.Input(shape=(1,))\n",
    "#     categorical_input = layers.Input(shape=(categorical_dim,))\n",
    "    \n",
    "#     label_embedding = layers.Embedding(num_classes, latent_dim)(label)\n",
    "#     label_embedding = layers.Flatten()(label_embedding)\n",
    "#     merged = layers.Concatenate()([noise, label_embedding, categorical_input])\n",
    "    \n",
    "#     x = layers.Dense(256, activation='relu')(merged)\n",
    "#     generated_data = layers.Dense(numeric_feature_dim + categorical_dim, activation='tanh')(x)\n",
    "    \n",
    "#     return models.Model([noise, label, categorical_input], generated_data)\n",
    "\n",
    "# # CGAN 판별자 모델 정의\n",
    "# def build_discriminator(input_shape, num_classes, categorical_dim):\n",
    "#     data = layers.Input(shape=input_shape)\n",
    "#     label = layers.Input(shape=(1,))\n",
    "#     categorical_input = layers.Input(shape=(categorical_dim,))\n",
    "    \n",
    "#     label_embedding = layers.Embedding(num_classes, np.prod(input_shape))(label)\n",
    "#     label_embedding = layers.Flatten()(label_embedding)\n",
    "    \n",
    "#     merged = layers.Concatenate()([data, label_embedding, categorical_input])\n",
    "    \n",
    "#     x = layers.Dense(512, activation='relu')(merged)\n",
    "#     validity = layers.Dense(1, activation='sigmoid')(x)\n",
    "    \n",
    "#     return models.Model([data, label, categorical_input], validity)\n",
    "\n",
    "# # numeric, categorical 변수 개수(차원)\n",
    "# numeric_feature_dim = 1 # 숫자형 변수 개수\n",
    "# categorical_dim = 5 # 범주형 변수 개수\n",
    "\n",
    "# # Target 분류 개수\n",
    "# num_classes = 2\n",
    "# num_samples_per_class = 100\n",
    "# num_samples_total = num_classes * num_samples_per_class\n",
    "\n",
    "# # 하이퍼파라미터 설정\n",
    "# latent_dim = 100\n",
    "\n",
    "# # 생성자와 판별자 모델 빌드\n",
    "# generator = build_generator(latent_dim, num_classes, categorical_dim)\n",
    "# discriminator = build_discriminator((numeric_feature_dim + categorical_dim,), num_classes, categorical_dim)\n",
    "\n",
    "# # 판별자는 학습하지 않도록 설정 (오버샘플링에 사용할 생성자만 학습)\n",
    "# discriminator.trainable = False\n",
    "\n",
    "# # CGAN 모델 구성 (생성자와 판별자 결합)\n",
    "# noise = np.random.normal(0, 1, (num_samples_total, latent_dim))\n",
    "# labels_one_hot = tf.keras.utils.to_categorical(labels, num_classes)\n",
    "# categorical_data_input = np.concatenate([categorical_data, labels_one_hot], axis=1)\n",
    "\n",
    "# # 모델 컴파일\n",
    "# generator.compile(loss='binary_crossentropy', optimizer='adam')\n",
    "# discriminator.compile(loss='binary_crossentropy', optimizer='adam')\n",
    "\n",
    "# # 오버샘플링을 위한 CGAN 학습\n",
    "# epochs = 20000\n",
    "# batch_size = 64\n",
    "\n",
    "# for epoch in range(epochs):\n",
    "#     # 무작위한 노이즈 생성\n",
    "#     noise = np.random.normal(0, 1, (num_samples_total, latent_dim))\n",
    "\n",
    "#     # 오버샘플링 데이터 생성\n",
    "#     generated_data = generator.predict([noise, labels, categorical_data])\n",
    "\n",
    "#     # 판별자에 의해 오버샘플링 데이터 구분\n",
    "#     real_labels = np.ones(num_samples_total)\n",
    "#     fake_labels = np.zeros(num_samples_total)\n",
    "    \n",
    "#     d_loss_real = discriminator.train_on_batch([numeric_data, labels, categorical_data], real_labels)\n",
    "#     d_loss_fake = discriminator.train_on_batch([generated_data, labels, categorical_data], fake_labels)\n",
    "#     d_loss = 0.5 * np.add(d_loss_real, d_loss_fake)\n",
    "\n",
    "#     # 생성자에 의해 오버샘플링 데이터 생성 및 판별자 속이기\n",
    "#     valid_labels = np.ones(num_samples_total)\n",
    "#     g_loss = generator.train_on_batch([noise, labels, categorical_data], valid_labels)\n",
    "\n",
    "#     # 일정 간격으로 오버샘플링 결과 출력\n",
    "#     if epoch % 1000 == 0:\n",
    "#         print(f\"Epoch: {epoch}, D Loss: {d_loss}, G Loss: {g_loss}\")\n"
   ]
  }
 ],
 "metadata": {
  "kernelspec": {
   "display_name": "Python 3",
   "language": "python",
   "name": "python3"
  },
  "language_info": {
   "codemirror_mode": {
    "name": "ipython",
    "version": 3
   },
   "file_extension": ".py",
   "mimetype": "text/x-python",
   "name": "python",
   "nbconvert_exporter": "python",
   "pygments_lexer": "ipython3",
   "version": "3.11.2"
  },
  "orig_nbformat": 4
 },
 "nbformat": 4,
 "nbformat_minor": 2
}
