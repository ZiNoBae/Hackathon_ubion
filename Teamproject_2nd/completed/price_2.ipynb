{
 "cells": [
  {
   "cell_type": "code",
   "execution_count": 117,
   "metadata": {},
   "outputs": [],
   "source": [
    "import pandas as pd\n",
    "import numpy as np\n"
   ]
  },
  {
   "cell_type": "markdown",
   "metadata": {},
   "source": [
    "# I. DF "
   ]
  },
  {
   "cell_type": "markdown",
   "metadata": {},
   "source": [
    "## I-I. DF 불러오기"
   ]
  },
  {
   "cell_type": "code",
   "execution_count": 118,
   "metadata": {},
   "outputs": [
    {
     "name": "stderr",
     "output_type": "stream",
     "text": [
      "c:\\Users\\zino0\\AppData\\Local\\Programs\\Python\\Python311\\Lib\\site-packages\\openpyxl\\styles\\stylesheet.py:226: UserWarning: Workbook contains no default style, apply openpyxl's default\n",
      "  warn(\"Workbook contains no default style, apply openpyxl's default\")\n"
     ]
    }
   ],
   "source": [
    "df_krx = pd.read_excel('./dataset_2nd/krx_price_std.xlsx', index_col=False)"
   ]
  },
  {
   "cell_type": "code",
   "execution_count": 119,
   "metadata": {},
   "outputs": [],
   "source": [
    "df_mkcap = pd.read_excel('./dataset_2nd/mkcap_2.xlsx', index_col=0)"
   ]
  },
  {
   "cell_type": "code",
   "execution_count": 120,
   "metadata": {},
   "outputs": [
    {
     "data": {
      "text/html": [
       "<div>\n",
       "<style scoped>\n",
       "    .dataframe tbody tr th:only-of-type {\n",
       "        vertical-align: middle;\n",
       "    }\n",
       "\n",
       "    .dataframe tbody tr th {\n",
       "        vertical-align: top;\n",
       "    }\n",
       "\n",
       "    .dataframe thead th {\n",
       "        text-align: right;\n",
       "    }\n",
       "</style>\n",
       "<table border=\"1\" class=\"dataframe\">\n",
       "  <thead>\n",
       "    <tr style=\"text-align: right;\">\n",
       "      <th></th>\n",
       "      <th>연월</th>\n",
       "      <th>종목명</th>\n",
       "      <th>종목코드</th>\n",
       "      <th>시장명</th>\n",
       "      <th>종가</th>\n",
       "      <th>최고가(종가)</th>\n",
       "      <th>최저가(종가)</th>\n",
       "      <th>표준편차</th>\n",
       "      <th>첨도</th>\n",
       "      <th>공왜도</th>\n",
       "      <th>베타</th>\n",
       "      <th>Amihud</th>\n",
       "      <th>Amivest</th>\n",
       "      <th>Zeros</th>\n",
       "      <th>거래량_합계</th>\n",
       "      <th>거래량_일평균</th>\n",
       "      <th>거래대금_합계</th>\n",
       "      <th>거래대금_일평균</th>\n",
       "    </tr>\n",
       "  </thead>\n",
       "  <tbody>\n",
       "    <tr>\n",
       "      <th>0</th>\n",
       "      <td>2011</td>\n",
       "      <td>DMS</td>\n",
       "      <td>068790</td>\n",
       "      <td>KOSDAQ</td>\n",
       "      <td>5510</td>\n",
       "      <td>12650</td>\n",
       "      <td>3455</td>\n",
       "      <td>4.126133</td>\n",
       "      <td>1.770364</td>\n",
       "      <td>-</td>\n",
       "      <td>-</td>\n",
       "      <td>-</td>\n",
       "      <td>-</td>\n",
       "      <td>-</td>\n",
       "      <td>107602658</td>\n",
       "      <td>433882</td>\n",
       "      <td>904389701450</td>\n",
       "      <td>3646732667</td>\n",
       "    </tr>\n",
       "    <tr>\n",
       "      <th>1</th>\n",
       "      <td>2011</td>\n",
       "      <td>메디포스트</td>\n",
       "      <td>078160</td>\n",
       "      <td>KOSDAQ</td>\n",
       "      <td>178000</td>\n",
       "      <td>216200</td>\n",
       "      <td>28950</td>\n",
       "      <td>5.380731</td>\n",
       "      <td>1.289890</td>\n",
       "      <td>-</td>\n",
       "      <td>-</td>\n",
       "      <td>-</td>\n",
       "      <td>-</td>\n",
       "      <td>-</td>\n",
       "      <td>109676763</td>\n",
       "      <td>442245</td>\n",
       "      <td>11665140618650</td>\n",
       "      <td>47036857333</td>\n",
       "    </tr>\n",
       "    <tr>\n",
       "      <th>2</th>\n",
       "      <td>2011</td>\n",
       "      <td>푸른저축은행</td>\n",
       "      <td>007330</td>\n",
       "      <td>KOSDAQ</td>\n",
       "      <td>3440</td>\n",
       "      <td>4285</td>\n",
       "      <td>3015</td>\n",
       "      <td>1.752843</td>\n",
       "      <td>35.013120</td>\n",
       "      <td>-</td>\n",
       "      <td>-</td>\n",
       "      <td>-</td>\n",
       "      <td>-</td>\n",
       "      <td>-</td>\n",
       "      <td>3358197</td>\n",
       "      <td>13541</td>\n",
       "      <td>12499863825</td>\n",
       "      <td>50402677</td>\n",
       "    </tr>\n",
       "    <tr>\n",
       "      <th>3</th>\n",
       "      <td>2011</td>\n",
       "      <td>KBI메탈</td>\n",
       "      <td>024840</td>\n",
       "      <td>KOSDAQ</td>\n",
       "      <td>784</td>\n",
       "      <td>1935</td>\n",
       "      <td>363</td>\n",
       "      <td>5.404948</td>\n",
       "      <td>1.706310</td>\n",
       "      <td>-</td>\n",
       "      <td>-</td>\n",
       "      <td>-</td>\n",
       "      <td>-</td>\n",
       "      <td>-</td>\n",
       "      <td>85672871</td>\n",
       "      <td>345455</td>\n",
       "      <td>59636500468</td>\n",
       "      <td>240469760</td>\n",
       "    </tr>\n",
       "    <tr>\n",
       "      <th>4</th>\n",
       "      <td>2011</td>\n",
       "      <td>휴맥스홀딩스</td>\n",
       "      <td>028080</td>\n",
       "      <td>KOSDAQ</td>\n",
       "      <td>5670</td>\n",
       "      <td>7920</td>\n",
       "      <td>4635</td>\n",
       "      <td>2.555815</td>\n",
       "      <td>10.595189</td>\n",
       "      <td>-</td>\n",
       "      <td>-</td>\n",
       "      <td>-</td>\n",
       "      <td>-</td>\n",
       "      <td>-</td>\n",
       "      <td>4346401</td>\n",
       "      <td>17526</td>\n",
       "      <td>30228400600</td>\n",
       "      <td>121888712</td>\n",
       "    </tr>\n",
       "  </tbody>\n",
       "</table>\n",
       "</div>"
      ],
      "text/plain": [
       "     연월     종목명    종목코드     시장명      종가  최고가(종가)  최저가(종가)      표준편차  \\\n",
       "0  2011     DMS  068790  KOSDAQ    5510    12650     3455  4.126133   \n",
       "1  2011   메디포스트  078160  KOSDAQ  178000   216200    28950  5.380731   \n",
       "2  2011  푸른저축은행  007330  KOSDAQ    3440     4285     3015  1.752843   \n",
       "3  2011   KBI메탈  024840  KOSDAQ     784     1935      363  5.404948   \n",
       "4  2011  휴맥스홀딩스  028080  KOSDAQ    5670     7920     4635  2.555815   \n",
       "\n",
       "          첨도 공왜도 베타 Amihud Amivest Zeros     거래량_합계  거래량_일평균         거래대금_합계  \\\n",
       "0   1.770364   -  -      -       -     -  107602658   433882    904389701450   \n",
       "1   1.289890   -  -      -       -     -  109676763   442245  11665140618650   \n",
       "2  35.013120   -  -      -       -     -    3358197    13541     12499863825   \n",
       "3   1.706310   -  -      -       -     -   85672871   345455     59636500468   \n",
       "4  10.595189   -  -      -       -     -    4346401    17526     30228400600   \n",
       "\n",
       "      거래대금_일평균  \n",
       "0   3646732667  \n",
       "1  47036857333  \n",
       "2     50402677  \n",
       "3    240469760  \n",
       "4    121888712  "
      ]
     },
     "execution_count": 120,
     "metadata": {},
     "output_type": "execute_result"
    }
   ],
   "source": [
    "df_krx.head()"
   ]
  },
  {
   "cell_type": "code",
   "execution_count": 121,
   "metadata": {},
   "outputs": [
    {
     "data": {
      "text/html": [
       "<div>\n",
       "<style scoped>\n",
       "    .dataframe tbody tr th:only-of-type {\n",
       "        vertical-align: middle;\n",
       "    }\n",
       "\n",
       "    .dataframe tbody tr th {\n",
       "        vertical-align: top;\n",
       "    }\n",
       "\n",
       "    .dataframe thead th {\n",
       "        text-align: right;\n",
       "    }\n",
       "</style>\n",
       "<table border=\"1\" class=\"dataframe\">\n",
       "  <thead>\n",
       "    <tr style=\"text-align: right;\">\n",
       "      <th></th>\n",
       "      <th>회사명</th>\n",
       "      <th>거래소코드</th>\n",
       "      <th>회계년도</th>\n",
       "      <th>발행주식수(연결+개별)</th>\n",
       "      <th>시가총액</th>\n",
       "    </tr>\n",
       "  </thead>\n",
       "  <tbody>\n",
       "    <tr>\n",
       "      <th>0</th>\n",
       "      <td>(주)CMG제약</td>\n",
       "      <td>58820</td>\n",
       "      <td>2014-12-01</td>\n",
       "      <td>86626866.0</td>\n",
       "      <td>7.900370e+10</td>\n",
       "    </tr>\n",
       "    <tr>\n",
       "      <th>1</th>\n",
       "      <td>(주)CMG제약</td>\n",
       "      <td>58820</td>\n",
       "      <td>2018-12-01</td>\n",
       "      <td>108887244.0</td>\n",
       "      <td>4.611375e+11</td>\n",
       "    </tr>\n",
       "    <tr>\n",
       "      <th>2</th>\n",
       "      <td>(주)CMG제약</td>\n",
       "      <td>58820</td>\n",
       "      <td>2019-12-01</td>\n",
       "      <td>138892244.0</td>\n",
       "      <td>5.902920e+11</td>\n",
       "    </tr>\n",
       "    <tr>\n",
       "      <th>3</th>\n",
       "      <td>(주)CMG제약</td>\n",
       "      <td>58820</td>\n",
       "      <td>2020-12-01</td>\n",
       "      <td>138892244.0</td>\n",
       "      <td>8.027972e+11</td>\n",
       "    </tr>\n",
       "    <tr>\n",
       "      <th>4</th>\n",
       "      <td>(주)CMG제약</td>\n",
       "      <td>58820</td>\n",
       "      <td>2017-12-01</td>\n",
       "      <td>108887244.0</td>\n",
       "      <td>6.794564e+11</td>\n",
       "    </tr>\n",
       "  </tbody>\n",
       "</table>\n",
       "</div>"
      ],
      "text/plain": [
       "        회사명  거래소코드       회계년도  발행주식수(연결+개별)          시가총액\n",
       "0  (주)CMG제약  58820 2014-12-01    86626866.0  7.900370e+10\n",
       "1  (주)CMG제약  58820 2018-12-01   108887244.0  4.611375e+11\n",
       "2  (주)CMG제약  58820 2019-12-01   138892244.0  5.902920e+11\n",
       "3  (주)CMG제약  58820 2020-12-01   138892244.0  8.027972e+11\n",
       "4  (주)CMG제약  58820 2017-12-01   108887244.0  6.794564e+11"
      ]
     },
     "execution_count": 121,
     "metadata": {},
     "output_type": "execute_result"
    }
   ],
   "source": [
    "df_mkcap_copy = df_mkcap.copy()\n",
    "df_mkcap.head()"
   ]
  },
  {
   "cell_type": "markdown",
   "metadata": {},
   "source": [
    "## I-II. DF Check 및 필요 처리  "
   ]
  },
  {
   "cell_type": "markdown",
   "metadata": {},
   "source": [
    "### 1. Useless 컬럼 정리 - df_krx"
   ]
  },
  {
   "cell_type": "code",
   "execution_count": 122,
   "metadata": {},
   "outputs": [],
   "source": [
    "# df_krx 무쓸모 컬럼 제거\n",
    "useless_krxcol = ['시장명','최고가(종가)', '최저가(종가)',\n",
    "                  '첨도','공왜도', 'Amihud', 'Amivest', 'Zeros','베타',\n",
    "                  '거래량_합계', '거래량_일평균','거래대금_합계', '거래대금_일평균']\n",
    "df_krx.drop(columns=useless_krxcol, inplace=True)\n",
    "\n",
    "# 컬럼 순서 변경\n",
    "col_order =  ['종목명', '종목코드', '연월', '종가', '표준편차']\n",
    "df_krx = df_krx.reindex(columns= col_order)\n",
    "\n"
   ]
  },
  {
   "cell_type": "code",
   "execution_count": 123,
   "metadata": {},
   "outputs": [],
   "source": [
    "df_krx_copy = df_krx.copy()"
   ]
  },
  {
   "cell_type": "markdown",
   "metadata": {},
   "source": [
    "### 2. columns 이름 변경 to 일치 b/w df_krx & df_mkcap"
   ]
  },
  {
   "cell_type": "code",
   "execution_count": 124,
   "metadata": {},
   "outputs": [],
   "source": [
    "df_krx.rename(columns={'종목명':'회사명',\n",
    "                        '종목코드':'거래소코드',\n",
    "                        '연월':'연도'}, inplace=True)"
   ]
  },
  {
   "cell_type": "code",
   "execution_count": 125,
   "metadata": {},
   "outputs": [],
   "source": [
    "# df_krx"
   ]
  },
  {
   "cell_type": "markdown",
   "metadata": {},
   "source": [
    "### 3. dtype 일치 b/w df_krx & df_mkcap"
   ]
  },
  {
   "cell_type": "code",
   "execution_count": 126,
   "metadata": {},
   "outputs": [],
   "source": [
    "# df_krx.info()"
   ]
  },
  {
   "cell_type": "code",
   "execution_count": 127,
   "metadata": {},
   "outputs": [],
   "source": [
    "# df_mkcap.info()"
   ]
  },
  {
   "cell_type": "code",
   "execution_count": 90,
   "metadata": {},
   "outputs": [
    {
     "name": "stderr",
     "output_type": "stream",
     "text": [
      "C:\\Users\\zino0\\AppData\\Local\\Temp\\ipykernel_20316\\3558735288.py:6: SettingWithCopyWarning: \n",
      "A value is trying to be set on a copy of a slice from a DataFrame.\n",
      "Try using .loc[row_indexer,col_indexer] = value instead\n",
      "\n",
      "See the caveats in the documentation: https://pandas.pydata.org/pandas-docs/stable/user_guide/indexing.html#returning-a-view-versus-a-copy\n",
      "  df_krx['연도'] = pd.to_datetime(df_krx['연도'], format='%Y')\n"
     ]
    }
   ],
   "source": [
    "# df_krx : 우선주 제거 (mkcap 기업 모두 보통주) \n",
    "    # df_mkcap.loc[df_mkcap['거래소코드'].astype('str').str.endswith('0')] # -> 확인용 (17,487 row 전부 보통주)\n",
    "df_krx = df_krx.loc[df_krx['거래소코드'].str.endswith('0')]\n",
    "\n",
    "#  krx 연도 -> 시계열\n",
    "# df_krx['연도'] = pd.to_datetime(df_krx['연도'], format='%Y')\n"
   ]
  },
  {
   "cell_type": "code",
   "execution_count": 131,
   "metadata": {},
   "outputs": [],
   "source": [
    "# df_mkcap \n",
    "\n",
    "    # '거래소코드' : int -> object(6자리)   \n",
    "df_mkcap['거래소코드'] = df_mkcap[\"거래소코드\"].apply(lambda x:str(x).zfill(6))\n",
    "\n",
    "    # '연도' 컬럼 추가 \n",
    "df_mkcap['연도'] = df_mkcap['회계년도'].dt.year\n",
    "# df_mkcap['연도'] = pd.to_datetime(df_mkcap['연도'], format='%Y')\n"
   ]
  },
  {
   "cell_type": "markdown",
   "metadata": {},
   "source": [
    "# II. 시가총액 Update "
   ]
  },
  {
   "cell_type": "markdown",
   "metadata": {},
   "source": [
    "## II-I. DF 합치기 "
   ]
  },
  {
   "cell_type": "code",
   "execution_count": 138,
   "metadata": {},
   "outputs": [
    {
     "name": "stdout",
     "output_type": "stream",
     "text": [
      "<class 'pandas.core.frame.DataFrame'>\n",
      "RangeIndex: 13688 entries, 0 to 13687\n",
      "Data columns (total 5 columns):\n",
      " #   Column  Non-Null Count  Dtype \n",
      "---  ------  --------------  ----- \n",
      " 0   회사명     13688 non-null  object\n",
      " 1   거래소코드   13688 non-null  object\n",
      " 2   연도      13688 non-null  int64 \n",
      " 3   종가      13688 non-null  int64 \n",
      " 4   표준편차    13688 non-null  object\n",
      "dtypes: int64(2), object(3)\n",
      "memory usage: 534.8+ KB\n",
      "None\n",
      "-------------------------------------\n",
      "<class 'pandas.core.frame.DataFrame'>\n",
      "Int64Index: 17487 entries, 0 to 17486\n",
      "Data columns (total 6 columns):\n",
      " #   Column        Non-Null Count  Dtype         \n",
      "---  ------        --------------  -----         \n",
      " 0   회사명           17487 non-null  object        \n",
      " 1   거래소코드         17487 non-null  object        \n",
      " 2   회계년도          17487 non-null  datetime64[ns]\n",
      " 3   발행주식수(연결+개별)  15612 non-null  float64       \n",
      " 4   시가총액          14009 non-null  float64       \n",
      " 5   연도            17487 non-null  int64         \n",
      "dtypes: datetime64[ns](1), float64(2), int64(1), object(2)\n",
      "memory usage: 956.3+ KB\n"
     ]
    }
   ],
   "source": [
    "print(df_krx.info())\n",
    "print('-------------------------------------')\n",
    "df_mkcap.info()"
   ]
  },
  {
   "cell_type": "code",
   "execution_count": 141,
   "metadata": {},
   "outputs": [],
   "source": [
    "# Merge -> 회사명은 merge기준에서 제외\n",
    "df_update = pd.merge(df_mkcap, df_krx, on = ['거래소코드', '연도'], how='left')"
   ]
  },
  {
   "cell_type": "markdown",
   "metadata": {},
   "source": [
    "## II-II. krx 종가 & mkcap 주식수 로 시가총액_y  만들기 "
   ]
  },
  {
   "cell_type": "code",
   "execution_count": null,
   "metadata": {},
   "outputs": [],
   "source": [
    "# 코드 동일 기업이 회사명 표기법이 다름 -> df_krx의 회사명 컬럼 제거\n",
    "# df_update[['회사명_x', '회사명_y']] # 확인용\n",
    "\n",
    "df_update"
   ]
  },
  {
   "cell_type": "code",
   "execution_count": 142,
   "metadata": {},
   "outputs": [
    {
     "data": {
      "text/plain": [
       "회사명_x              0\n",
       "거래소코드              0\n",
       "회계년도               0\n",
       "발행주식수(연결+개별)    1875\n",
       "시가총액            3478\n",
       "연도                 0\n",
       "회사명_y           4352\n",
       "종가              4352\n",
       "표준편차            4352\n",
       "dtype: int64"
      ]
     },
     "execution_count": 142,
     "metadata": {},
     "output_type": "execute_result"
    }
   ],
   "source": [
    "df_update.isna().sum()"
   ]
  },
  {
   "cell_type": "code",
   "execution_count": 158,
   "metadata": {},
   "outputs": [
    {
     "data": {
      "text/html": [
       "<div>\n",
       "<style scoped>\n",
       "    .dataframe tbody tr th:only-of-type {\n",
       "        vertical-align: middle;\n",
       "    }\n",
       "\n",
       "    .dataframe tbody tr th {\n",
       "        vertical-align: top;\n",
       "    }\n",
       "\n",
       "    .dataframe thead th {\n",
       "        text-align: right;\n",
       "    }\n",
       "</style>\n",
       "<table border=\"1\" class=\"dataframe\">\n",
       "  <thead>\n",
       "    <tr style=\"text-align: right;\">\n",
       "      <th></th>\n",
       "      <th>회사명_x</th>\n",
       "      <th>거래소코드</th>\n",
       "      <th>회계년도</th>\n",
       "      <th>발행주식수(연결+개별)</th>\n",
       "      <th>시가총액</th>\n",
       "      <th>연도</th>\n",
       "      <th>회사명_y</th>\n",
       "      <th>종가</th>\n",
       "      <th>표준편차</th>\n",
       "    </tr>\n",
       "  </thead>\n",
       "  <tbody>\n",
       "    <tr>\n",
       "      <th>2873</th>\n",
       "      <td>(주)비덴트</td>\n",
       "      <td>121800</td>\n",
       "      <td>2011-06-01</td>\n",
       "      <td>4200000.0</td>\n",
       "      <td>NaN</td>\n",
       "      <td>2011</td>\n",
       "      <td>비덴트</td>\n",
       "      <td>8100.0</td>\n",
       "      <td>4.139304</td>\n",
       "    </tr>\n",
       "    <tr>\n",
       "      <th>5043</th>\n",
       "      <td>(주)아이티센</td>\n",
       "      <td>124500</td>\n",
       "      <td>2014-03-01</td>\n",
       "      <td>3261520.0</td>\n",
       "      <td>NaN</td>\n",
       "      <td>2014</td>\n",
       "      <td>아이티센</td>\n",
       "      <td>8200.0</td>\n",
       "      <td>5.270941</td>\n",
       "    </tr>\n",
       "    <tr>\n",
       "      <th>11321</th>\n",
       "      <td>(주)펄어비스</td>\n",
       "      <td>263750</td>\n",
       "      <td>2017-06-01</td>\n",
       "      <td>10266300.0</td>\n",
       "      <td>NaN</td>\n",
       "      <td>2017</td>\n",
       "      <td>펄어비스</td>\n",
       "      <td>247600.0</td>\n",
       "      <td>3.89658</td>\n",
       "    </tr>\n",
       "    <tr>\n",
       "      <th>15759</th>\n",
       "      <td>위더스제약(주)</td>\n",
       "      <td>330350</td>\n",
       "      <td>2020-06-01</td>\n",
       "      <td>8792415.0</td>\n",
       "      <td>NaN</td>\n",
       "      <td>2020</td>\n",
       "      <td>위더스제약</td>\n",
       "      <td>21550.0</td>\n",
       "      <td>4.308314</td>\n",
       "    </tr>\n",
       "  </tbody>\n",
       "</table>\n",
       "</div>"
      ],
      "text/plain": [
       "          회사명_x   거래소코드       회계년도  발행주식수(연결+개별)  시가총액    연도  회사명_y        종가  \\\n",
       "2873     (주)비덴트  121800 2011-06-01     4200000.0   NaN  2011    비덴트    8100.0   \n",
       "5043    (주)아이티센  124500 2014-03-01     3261520.0   NaN  2014   아이티센    8200.0   \n",
       "11321   (주)펄어비스  263750 2017-06-01    10266300.0   NaN  2017   펄어비스  247600.0   \n",
       "15759  위더스제약(주)  330350 2020-06-01     8792415.0   NaN  2020  위더스제약   21550.0   \n",
       "\n",
       "           표준편차  \n",
       "2873   4.139304  \n",
       "5043   5.270941  \n",
       "11321   3.89658  \n",
       "15759  4.308314  "
      ]
     },
     "execution_count": 158,
     "metadata": {},
     "output_type": "execute_result"
    }
   ],
   "source": [
    "# 4 rows 업데이트 가능....... ㅜㅜ \n",
    "df_update.loc[(~((df_update['종가'].isna()) | (df_update['발행주식수(연결+개별)'].isna())))&(df_update['시가총액'].isna())]"
   ]
  },
  {
   "cell_type": "code",
   "execution_count": 160,
   "metadata": {},
   "outputs": [
    {
     "data": {
      "text/plain": [
       "회사명_x              0\n",
       "거래소코드              0\n",
       "회계년도               0\n",
       "발행주식수(연결+개별)    1875\n",
       "시가총액            3474\n",
       "연도                 0\n",
       "회사명_y           4352\n",
       "종가              4352\n",
       "표준편차            4352\n",
       "시가총액_y          4589\n",
       "dtype: int64"
      ]
     },
     "execution_count": 160,
     "metadata": {},
     "output_type": "execute_result"
    }
   ],
   "source": [
    "# 시가총액 update\n",
    "df_update['시가총액_y'] = df_update['종가'] * df_update['발행주식수(연결+개별)']\n",
    "df_update['시가총액'] = df_update['시가총액'].fillna(df_update['시가총액_y'])\n",
    "\n",
    "df_update.isna().sum()"
   ]
  },
  {
   "cell_type": "markdown",
   "metadata": {},
   "source": [
    "# III. 최종 Updated 시가총액 DataFrame"
   ]
  },
  {
   "cell_type": "code",
   "execution_count": 165,
   "metadata": {},
   "outputs": [
    {
     "data": {
      "text/html": [
       "<div>\n",
       "<style scoped>\n",
       "    .dataframe tbody tr th:only-of-type {\n",
       "        vertical-align: middle;\n",
       "    }\n",
       "\n",
       "    .dataframe tbody tr th {\n",
       "        vertical-align: top;\n",
       "    }\n",
       "\n",
       "    .dataframe thead th {\n",
       "        text-align: right;\n",
       "    }\n",
       "</style>\n",
       "<table border=\"1\" class=\"dataframe\">\n",
       "  <thead>\n",
       "    <tr style=\"text-align: right;\">\n",
       "      <th></th>\n",
       "      <th>회사명</th>\n",
       "      <th>거래소코드</th>\n",
       "      <th>회계년도</th>\n",
       "      <th>시가총액</th>\n",
       "      <th>연도</th>\n",
       "    </tr>\n",
       "  </thead>\n",
       "  <tbody>\n",
       "    <tr>\n",
       "      <th>0</th>\n",
       "      <td>(주)CMG제약</td>\n",
       "      <td>058820</td>\n",
       "      <td>2014-12-01</td>\n",
       "      <td>7.900370e+10</td>\n",
       "      <td>2014</td>\n",
       "    </tr>\n",
       "    <tr>\n",
       "      <th>1</th>\n",
       "      <td>(주)CMG제약</td>\n",
       "      <td>058820</td>\n",
       "      <td>2018-12-01</td>\n",
       "      <td>4.611375e+11</td>\n",
       "      <td>2018</td>\n",
       "    </tr>\n",
       "    <tr>\n",
       "      <th>2</th>\n",
       "      <td>(주)CMG제약</td>\n",
       "      <td>058820</td>\n",
       "      <td>2019-12-01</td>\n",
       "      <td>5.902920e+11</td>\n",
       "      <td>2019</td>\n",
       "    </tr>\n",
       "    <tr>\n",
       "      <th>3</th>\n",
       "      <td>(주)CMG제약</td>\n",
       "      <td>058820</td>\n",
       "      <td>2020-12-01</td>\n",
       "      <td>8.027972e+11</td>\n",
       "      <td>2020</td>\n",
       "    </tr>\n",
       "    <tr>\n",
       "      <th>4</th>\n",
       "      <td>(주)CMG제약</td>\n",
       "      <td>058820</td>\n",
       "      <td>2017-12-01</td>\n",
       "      <td>6.794564e+11</td>\n",
       "      <td>2017</td>\n",
       "    </tr>\n",
       "    <tr>\n",
       "      <th>...</th>\n",
       "      <td>...</td>\n",
       "      <td>...</td>\n",
       "      <td>...</td>\n",
       "      <td>...</td>\n",
       "      <td>...</td>\n",
       "    </tr>\n",
       "    <tr>\n",
       "      <th>17482</th>\n",
       "      <td>흥구석유(주)</td>\n",
       "      <td>024060</td>\n",
       "      <td>2022-12-01</td>\n",
       "      <td>8.520000e+10</td>\n",
       "      <td>2022</td>\n",
       "    </tr>\n",
       "    <tr>\n",
       "      <th>17483</th>\n",
       "      <td>흥구석유(주)</td>\n",
       "      <td>024060</td>\n",
       "      <td>2013-12-01</td>\n",
       "      <td>3.000000e+10</td>\n",
       "      <td>2013</td>\n",
       "    </tr>\n",
       "    <tr>\n",
       "      <th>17484</th>\n",
       "      <td>흥구석유(주)</td>\n",
       "      <td>024060</td>\n",
       "      <td>2018-12-01</td>\n",
       "      <td>4.057500e+10</td>\n",
       "      <td>2018</td>\n",
       "    </tr>\n",
       "    <tr>\n",
       "      <th>17485</th>\n",
       "      <td>흥구석유(주)</td>\n",
       "      <td>024060</td>\n",
       "      <td>2016-12-01</td>\n",
       "      <td>5.137500e+10</td>\n",
       "      <td>2016</td>\n",
       "    </tr>\n",
       "    <tr>\n",
       "      <th>17486</th>\n",
       "      <td>흥구석유(주)</td>\n",
       "      <td>024060</td>\n",
       "      <td>2015-12-01</td>\n",
       "      <td>4.560000e+10</td>\n",
       "      <td>2015</td>\n",
       "    </tr>\n",
       "  </tbody>\n",
       "</table>\n",
       "<p>17487 rows × 5 columns</p>\n",
       "</div>"
      ],
      "text/plain": [
       "            회사명   거래소코드       회계년도          시가총액    연도\n",
       "0      (주)CMG제약  058820 2014-12-01  7.900370e+10  2014\n",
       "1      (주)CMG제약  058820 2018-12-01  4.611375e+11  2018\n",
       "2      (주)CMG제약  058820 2019-12-01  5.902920e+11  2019\n",
       "3      (주)CMG제약  058820 2020-12-01  8.027972e+11  2020\n",
       "4      (주)CMG제약  058820 2017-12-01  6.794564e+11  2017\n",
       "...         ...     ...        ...           ...   ...\n",
       "17482   흥구석유(주)  024060 2022-12-01  8.520000e+10  2022\n",
       "17483   흥구석유(주)  024060 2013-12-01  3.000000e+10  2013\n",
       "17484   흥구석유(주)  024060 2018-12-01  4.057500e+10  2018\n",
       "17485   흥구석유(주)  024060 2016-12-01  5.137500e+10  2016\n",
       "17486   흥구석유(주)  024060 2015-12-01  4.560000e+10  2015\n",
       "\n",
       "[17487 rows x 5 columns]"
      ]
     },
     "execution_count": 165,
     "metadata": {},
     "output_type": "execute_result"
    }
   ],
   "source": [
    "# Useless columns 정리\n",
    "useless_update  = ['발행주식수(연결+개별)', '회사명_y','종가','표준편차', '시가총액_y']\n",
    "df_update.drop(columns= useless_update, inplace=True)\n",
    "\n",
    "# 기준 컬럼명 일치 \n",
    "df_update.rename(columns={'회사명_x':'회사명'})"
   ]
  },
  {
   "cell_type": "code",
   "execution_count": 166,
   "metadata": {},
   "outputs": [],
   "source": [
    "# df_update.to_excel('./mkcap_update.xlsx')"
   ]
  },
  {
   "cell_type": "code",
   "execution_count": null,
   "metadata": {},
   "outputs": [],
   "source": []
  }
 ],
 "metadata": {
  "kernelspec": {
   "display_name": "Python 3",
   "language": "python",
   "name": "python3"
  },
  "language_info": {
   "codemirror_mode": {
    "name": "ipython",
    "version": 3
   },
   "file_extension": ".py",
   "mimetype": "text/x-python",
   "name": "python",
   "nbconvert_exporter": "python",
   "pygments_lexer": "ipython3",
   "version": "3.11.2"
  },
  "orig_nbformat": 4
 },
 "nbformat": 4,
 "nbformat_minor": 2
}
