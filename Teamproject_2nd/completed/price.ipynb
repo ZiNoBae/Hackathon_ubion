{
 "cells": [
  {
   "cell_type": "code",
   "execution_count": 3,
   "metadata": {},
   "outputs": [],
   "source": [
    "import pandas as pd"
   ]
  },
  {
   "cell_type": "markdown",
   "metadata": {},
   "source": [
    "# I.DF 불러오기"
   ]
  },
  {
   "cell_type": "code",
   "execution_count": 4,
   "metadata": {},
   "outputs": [],
   "source": [
    "market_11  = pd.read_excel(\"../dataset_2nd/market_11.xlsx\")\n",
    "market_12  = pd.read_excel(\"../dataset_2nd/market_12.xlsx\")\n",
    "market_13  = pd.read_excel(\"../dataset_2nd/market_13.xlsx\")\n",
    "market_14  = pd.read_excel(\"../dataset_2nd/market_14.xlsx\")\n",
    "market_15  = pd.read_excel(\"../dataset_2nd/market_15.xlsx\")\n",
    "market_16  = pd.read_excel(\"../dataset_2nd/market_16.xlsx\")\n",
    "market_17  = pd.read_excel(\"../dataset_2nd/market_17.xlsx\")\n",
    "market_18  = pd.read_excel(\"../dataset_2nd/market_18.xlsx\")\n",
    "market_19  = pd.read_excel(\"../dataset_2nd/market_19.xlsx\")\n",
    "market_20  = pd.read_excel(\"../dataset_2nd/market_20.xlsx\")\n",
    "market_21  = pd.read_excel(\"../dataset_2nd/market_21.xlsx\")\n",
    "market_22  = pd.read_excel(\"../dataset_2nd/market_22.xlsx\")"
   ]
  },
  {
   "cell_type": "code",
   "execution_count": 5,
   "metadata": {},
   "outputs": [],
   "source": [
    "# z_score 때, 주식수 & 종가 -> 시가총액 만든 DataFrame ( 결측치 = 주식수:1875, 종가:3237, 시총:3478)\n",
    "df_mk = pd.read_excel('../dataset_2nd/mkcap.xlsx', index_col=False)\n",
    "df_mk.drop(df_mk.columns[0], axis =1, inplace=True )"
   ]
  },
  {
   "cell_type": "markdown",
   "metadata": {},
   "source": [
    "## I-I. DF concat"
   ]
  },
  {
   "cell_type": "code",
   "execution_count": 7,
   "metadata": {},
   "outputs": [],
   "source": [
    "df_price = pd.concat([market_11,market_12,market_13,market_14,market_15,market_16,market_17,market_18,market_19,market_20,market_21,market_22], axis=0)"
   ]
  },
  {
   "cell_type": "code",
   "execution_count": 9,
   "metadata": {},
   "outputs": [
    {
     "data": {
      "text/plain": [
       "1954"
      ]
     },
     "execution_count": 9,
     "metadata": {},
     "output_type": "execute_result"
    }
   ],
   "source": [
    "# df_price : Jiwoo\n",
    "\n",
    "# object\n",
    "# price['거래소코드'].info()\n",
    "\n",
    "# 3093\n",
    "len(df_price['거래소코드'].unique())\n",
    "\n",
    "# 1954\n",
    "len(df_price['회사명'].unique())"
   ]
  },
  {
   "cell_type": "code",
   "execution_count": 10,
   "metadata": {},
   "outputs": [
    {
     "name": "stdout",
     "output_type": "stream",
     "text": [
      "1818\n"
     ]
    },
    {
     "data": {
      "text/plain": [
       "1795"
      ]
     },
     "execution_count": 10,
     "metadata": {},
     "output_type": "execute_result"
    }
   ],
   "source": [
    "# df_code : ZiNo\n",
    "\n",
    "# int\n",
    "# df_code['거래소코드'].info()\n",
    "\n",
    "# 1818\n",
    "print(len(df_mk['거래소코드'].astype('str').unique()))\n",
    "\n",
    "# 1795 \n",
    "len(df_mk['회사명'].astype('str').unique())"
   ]
  },
  {
   "cell_type": "code",
   "execution_count": 11,
   "metadata": {},
   "outputs": [],
   "source": [
    "# Check\n",
    "# df_price.head()"
   ]
  },
  {
   "cell_type": "markdown",
   "metadata": {},
   "source": [
    "---"
   ]
  },
  {
   "cell_type": "markdown",
   "metadata": {},
   "source": [
    "# II. 시가총액 Market Capitalization\n",
    "---\n",
    "### 1. df_mk의 필요한 컬러만 따로 df : mk_real (Market Capitalization, 시가총액)\n",
    "    - df_mk에서 구할 수 있는 시총은 일단 확보 \n",
    "\n"
   ]
  },
  {
   "cell_type": "code",
   "execution_count": 12,
   "metadata": {},
   "outputs": [],
   "source": [
    "# 1. mk_real 데이터프레임 : 기확보 시가총액(결측치 존재) from df_mk\n",
    "mk_real = df_mk.iloc[:,[0,1,2,3,-2,-1]]"
   ]
  },
  {
   "cell_type": "code",
   "execution_count": 13,
   "metadata": {},
   "outputs": [
    {
     "data": {
      "text/html": [
       "<div>\n",
       "<style scoped>\n",
       "    .dataframe tbody tr th:only-of-type {\n",
       "        vertical-align: middle;\n",
       "    }\n",
       "\n",
       "    .dataframe tbody tr th {\n",
       "        vertical-align: top;\n",
       "    }\n",
       "\n",
       "    .dataframe thead th {\n",
       "        text-align: right;\n",
       "    }\n",
       "</style>\n",
       "<table border=\"1\" class=\"dataframe\">\n",
       "  <thead>\n",
       "    <tr style=\"text-align: right;\">\n",
       "      <th></th>\n",
       "      <th>회사명</th>\n",
       "      <th>거래소코드</th>\n",
       "      <th>회계년도</th>\n",
       "      <th>[제조]* 발행한 주식총수(*)(IFRS연결)(주)</th>\n",
       "      <th>종가(원)</th>\n",
       "      <th>시가총액</th>\n",
       "    </tr>\n",
       "  </thead>\n",
       "  <tbody>\n",
       "    <tr>\n",
       "      <th>0</th>\n",
       "      <td>(주)CMG제약</td>\n",
       "      <td>58820</td>\n",
       "      <td>2014/12</td>\n",
       "      <td>86626866.0</td>\n",
       "      <td>912.0</td>\n",
       "      <td>7.900370e+10</td>\n",
       "    </tr>\n",
       "    <tr>\n",
       "      <th>1</th>\n",
       "      <td>(주)CMG제약</td>\n",
       "      <td>58820</td>\n",
       "      <td>2018/12</td>\n",
       "      <td>108887244.0</td>\n",
       "      <td>4235.0</td>\n",
       "      <td>4.611375e+11</td>\n",
       "    </tr>\n",
       "    <tr>\n",
       "      <th>2</th>\n",
       "      <td>(주)CMG제약</td>\n",
       "      <td>58820</td>\n",
       "      <td>2019/12</td>\n",
       "      <td>138892244.0</td>\n",
       "      <td>4250.0</td>\n",
       "      <td>5.902920e+11</td>\n",
       "    </tr>\n",
       "    <tr>\n",
       "      <th>3</th>\n",
       "      <td>(주)CMG제약</td>\n",
       "      <td>58820</td>\n",
       "      <td>2020/12</td>\n",
       "      <td>138892244.0</td>\n",
       "      <td>5780.0</td>\n",
       "      <td>8.027972e+11</td>\n",
       "    </tr>\n",
       "    <tr>\n",
       "      <th>4</th>\n",
       "      <td>(주)CMG제약</td>\n",
       "      <td>58820</td>\n",
       "      <td>2017/12</td>\n",
       "      <td>108887244.0</td>\n",
       "      <td>6240.0</td>\n",
       "      <td>6.794564e+11</td>\n",
       "    </tr>\n",
       "    <tr>\n",
       "      <th>...</th>\n",
       "      <td>...</td>\n",
       "      <td>...</td>\n",
       "      <td>...</td>\n",
       "      <td>...</td>\n",
       "      <td>...</td>\n",
       "      <td>...</td>\n",
       "    </tr>\n",
       "    <tr>\n",
       "      <th>17482</th>\n",
       "      <td>흥구석유(주)</td>\n",
       "      <td>24060</td>\n",
       "      <td>2022/12</td>\n",
       "      <td>15000000.0</td>\n",
       "      <td>5680.0</td>\n",
       "      <td>8.520000e+10</td>\n",
       "    </tr>\n",
       "    <tr>\n",
       "      <th>17483</th>\n",
       "      <td>흥구석유(주)</td>\n",
       "      <td>24060</td>\n",
       "      <td>2013/12</td>\n",
       "      <td>15000000.0</td>\n",
       "      <td>2000.0</td>\n",
       "      <td>3.000000e+10</td>\n",
       "    </tr>\n",
       "    <tr>\n",
       "      <th>17484</th>\n",
       "      <td>흥구석유(주)</td>\n",
       "      <td>24060</td>\n",
       "      <td>2018/12</td>\n",
       "      <td>15000000.0</td>\n",
       "      <td>2705.0</td>\n",
       "      <td>4.057500e+10</td>\n",
       "    </tr>\n",
       "    <tr>\n",
       "      <th>17485</th>\n",
       "      <td>흥구석유(주)</td>\n",
       "      <td>24060</td>\n",
       "      <td>2016/12</td>\n",
       "      <td>15000000.0</td>\n",
       "      <td>3425.0</td>\n",
       "      <td>5.137500e+10</td>\n",
       "    </tr>\n",
       "    <tr>\n",
       "      <th>17486</th>\n",
       "      <td>흥구석유(주)</td>\n",
       "      <td>24060</td>\n",
       "      <td>2015/12</td>\n",
       "      <td>15000000.0</td>\n",
       "      <td>3040.0</td>\n",
       "      <td>4.560000e+10</td>\n",
       "    </tr>\n",
       "  </tbody>\n",
       "</table>\n",
       "<p>17487 rows × 6 columns</p>\n",
       "</div>"
      ],
      "text/plain": [
       "            회사명  거래소코드     회계년도  [제조]* 발행한 주식총수(*)(IFRS연결)(주)   종가(원)  \\\n",
       "0      (주)CMG제약  58820  2014/12                    86626866.0   912.0   \n",
       "1      (주)CMG제약  58820  2018/12                   108887244.0  4235.0   \n",
       "2      (주)CMG제약  58820  2019/12                   138892244.0  4250.0   \n",
       "3      (주)CMG제약  58820  2020/12                   138892244.0  5780.0   \n",
       "4      (주)CMG제약  58820  2017/12                   108887244.0  6240.0   \n",
       "...         ...    ...      ...                           ...     ...   \n",
       "17482   흥구석유(주)  24060  2022/12                    15000000.0  5680.0   \n",
       "17483   흥구석유(주)  24060  2013/12                    15000000.0  2000.0   \n",
       "17484   흥구석유(주)  24060  2018/12                    15000000.0  2705.0   \n",
       "17485   흥구석유(주)  24060  2016/12                    15000000.0  3425.0   \n",
       "17486   흥구석유(주)  24060  2015/12                    15000000.0  3040.0   \n",
       "\n",
       "               시가총액  \n",
       "0      7.900370e+10  \n",
       "1      4.611375e+11  \n",
       "2      5.902920e+11  \n",
       "3      8.027972e+11  \n",
       "4      6.794564e+11  \n",
       "...             ...  \n",
       "17482  8.520000e+10  \n",
       "17483  3.000000e+10  \n",
       "17484  4.057500e+10  \n",
       "17485  5.137500e+10  \n",
       "17486  4.560000e+10  \n",
       "\n",
       "[17487 rows x 6 columns]"
      ]
     },
     "execution_count": 13,
     "metadata": {},
     "output_type": "execute_result"
    }
   ],
   "source": [
    "mk_real"
   ]
  },
  {
   "cell_type": "markdown",
   "metadata": {},
   "source": [
    "df_price -> price \n",
    "- isin() 해서 하는 것보다 나은 방법 있는지 강구해볼 것 ! "
   ]
  },
  {
   "cell_type": "markdown",
   "metadata": {},
   "source": [
    "### 2. mk_real의 거래소코드에 해당하는 df_price 뽑기 -> price\n"
   ]
  },
  {
   "cell_type": "code",
   "execution_count": 14,
   "metadata": {},
   "outputs": [],
   "source": [
    "# 2. price 데이터프레임\n",
    "price = df_price.loc[df_price['거래소코드'].isin(mk_real['거래소코드'].astype('str').unique())]"
   ]
  },
  {
   "cell_type": "code",
   "execution_count": 15,
   "metadata": {},
   "outputs": [
    {
     "name": "stdout",
     "output_type": "stream",
     "text": [
      "777\n",
      "778\n"
     ]
    }
   ],
   "source": [
    "# df_price -> price 넘어오면서, 우리가 원하는 기업 중 일부만 남는 듯.\n",
    "## df_price에 애초에 기업이 전부 다 있는게 아니거나 위 code가 잘못되었거나 -> 확인 필요 \n",
    "print(len(price['회사명'].unique()))\n",
    "print(len(price['거래소코드'].unique()))"
   ]
  },
  {
   "cell_type": "code",
   "execution_count": 16,
   "metadata": {},
   "outputs": [
    {
     "name": "stderr",
     "output_type": "stream",
     "text": [
      "C:\\Users\\zino0\\AppData\\Local\\Temp\\ipykernel_20652\\1986805422.py:2: SettingWithCopyWarning: \n",
      "A value is trying to be set on a copy of a slice from a DataFrame.\n",
      "Try using .loc[row_indexer,col_indexer] = value instead\n",
      "\n",
      "See the caveats in the documentation: https://pandas.pydata.org/pandas-docs/stable/user_guide/indexing.html#returning-a-view-versus-a-copy\n",
      "  price['시가총액'] = price['종가(원)'] * price['상장주식수(주)']\n"
     ]
    }
   ],
   "source": [
    "# price 시가총액 컬럼 추가\n",
    "price['시가총액'] = price['종가(원)'] * price['상장주식수(주)']"
   ]
  },
  {
   "cell_type": "code",
   "execution_count": 17,
   "metadata": {},
   "outputs": [
    {
     "name": "stderr",
     "output_type": "stream",
     "text": [
      "C:\\Users\\zino0\\AppData\\Local\\Temp\\ipykernel_20652\\2639145216.py:2: SettingWithCopyWarning: \n",
      "A value is trying to be set on a copy of a slice from a DataFrame.\n",
      "Try using .loc[row_indexer,col_indexer] = value instead\n",
      "\n",
      "See the caveats in the documentation: https://pandas.pydata.org/pandas-docs/stable/user_guide/indexing.html#returning-a-view-versus-a-copy\n",
      "  price['회계년도'] = pd.to_datetime(price['회계년도'], format='%Y/%m/%d')\n"
     ]
    },
    {
     "name": "stdout",
     "output_type": "stream",
     "text": [
      "<class 'pandas.core.frame.DataFrame'>\n",
      "Int64Index: 881097 entries, 1968 to 380385\n",
      "Data columns (total 7 columns):\n",
      " #   Column    Non-Null Count   Dtype         \n",
      "---  ------    --------------   -----         \n",
      " 0   회사명       881097 non-null  object        \n",
      " 1   거래소코드     881097 non-null  object        \n",
      " 2   회계년도      881097 non-null  datetime64[ns]\n",
      " 3   시가(원)     881097 non-null  int64         \n",
      " 4   종가(원)     881097 non-null  int64         \n",
      " 5   상장주식수(주)  881097 non-null  int64         \n",
      " 6   시가총액      881097 non-null  int64         \n",
      "dtypes: datetime64[ns](1), int64(4), object(2)\n",
      "memory usage: 53.8+ MB\n"
     ]
    }
   ],
   "source": [
    "# price 회계년도 -> 시계열\n",
    "price['회계년도'] = pd.to_datetime(price['회계년도'], format='%Y/%m/%d')\n",
    "price.info()"
   ]
  },
  {
   "cell_type": "code",
   "execution_count": 18,
   "metadata": {},
   "outputs": [
    {
     "name": "stdout",
     "output_type": "stream",
     "text": [
      "                 회사명   거래소코드       회계년도  시가(원)  종가(원)  상장주식수(주)\n",
      "0       3노드디지탈그룹유한공사  900010 2011-01-03   1870   1905  57664070\n",
      "1       3노드디지탈그룹유한공사  900010 2011-01-04   1925   1970  57664070\n",
      "2       3노드디지탈그룹유한공사  900010 2011-01-05   1980   1970  57664070\n",
      "3       3노드디지탈그룹유한공사  900010 2011-01-06   1985   1995  57664070\n",
      "4       3노드디지탈그룹유한공사  900010 2011-01-07   2010   1985  57664070\n",
      "...              ...     ...        ...    ...    ...       ...\n",
      "256436         히스토스템   36840 2011-09-06     59     61  29675245\n",
      "256437         히스토스템   36840 2011-09-07     70     78  29675245\n",
      "256438         히스토스템   36840 2011-09-08     83     77  29675245\n",
      "256439         히스토스템   36840 2011-09-09    106     88  29675245\n",
      "256440         히스토스템   36840 2011-09-14     65     55  29675245\n",
      "\n",
      "[256441 rows x 6 columns]\n",
      "\n",
      "\n",
      "------------------------------------------------------------\n",
      "\n",
      "\n"
     ]
    },
    {
     "data": {
      "text/html": [
       "<div>\n",
       "<style scoped>\n",
       "    .dataframe tbody tr th:only-of-type {\n",
       "        vertical-align: middle;\n",
       "    }\n",
       "\n",
       "    .dataframe tbody tr th {\n",
       "        vertical-align: top;\n",
       "    }\n",
       "\n",
       "    .dataframe thead th {\n",
       "        text-align: right;\n",
       "    }\n",
       "</style>\n",
       "<table border=\"1\" class=\"dataframe\">\n",
       "  <thead>\n",
       "    <tr style=\"text-align: right;\">\n",
       "      <th></th>\n",
       "      <th>회사명</th>\n",
       "      <th>거래소코드</th>\n",
       "      <th>회계년도</th>\n",
       "      <th>시가(원)</th>\n",
       "      <th>종가(원)</th>\n",
       "      <th>상장주식수(주)</th>\n",
       "      <th>시가총액</th>\n",
       "    </tr>\n",
       "  </thead>\n",
       "  <tbody>\n",
       "  </tbody>\n",
       "</table>\n",
       "</div>"
      ],
      "text/plain": [
       "Empty DataFrame\n",
       "Columns: [회사명, 거래소코드, 회계년도, 시가(원), 종가(원), 상장주식수(주), 시가총액]\n",
       "Index: []"
      ]
     },
     "execution_count": 18,
     "metadata": {},
     "output_type": "execute_result"
    }
   ],
   "source": [
    "# 확인용 df_price회계년도 -> 시계열\n",
    "df_price['회계년도'] = pd.to_datetime(df_price['회계년도'], format = '%Y/%m/%d')\n",
    "# df_price.info()\n",
    "print(df_price.loc[df_price['회계년도'] <= '2012-01-01']) # 1. 얘랑\n",
    "\n",
    "print('\\n')\n",
    "print('------------------------------------------------------------')\n",
    "print('\\n')\n",
    "\n",
    "price.loc[price['회계년도'] <= '2016-01-01']  # 2. 얘 비교 -> price에 2016 이후 data 없음 "
   ]
  },
  {
   "cell_type": "markdown",
   "metadata": {},
   "source": [
    "### *price에 2016 이후 data 없음 & 기업수도 777개 (종목코드는 778개)*\n",
    "### *mk_real 은 각각 기업수 1818, 종목코드 1795*"
   ]
  },
  {
   "cell_type": "markdown",
   "metadata": {},
   "source": [
    "---\n",
    "### price 문제 있는 상태로 일단 진행"
   ]
  },
  {
   "cell_type": "markdown",
   "metadata": {},
   "source": [
    "---"
   ]
  },
  {
   "cell_type": "markdown",
   "metadata": {},
   "source": [
    "### 3. price에서 각 회계년도 마지막 주가 data만 남기기 \n"
   ]
  },
  {
   "cell_type": "code",
   "execution_count": 19,
   "metadata": {},
   "outputs": [
    {
     "name": "stderr",
     "output_type": "stream",
     "text": [
      "C:\\Users\\zino0\\AppData\\Local\\Temp\\ipykernel_20652\\2586334058.py:4: SettingWithCopyWarning: \n",
      "A value is trying to be set on a copy of a slice from a DataFrame.\n",
      "Try using .loc[row_indexer,col_indexer] = value instead\n",
      "\n",
      "See the caveats in the documentation: https://pandas.pydata.org/pandas-docs/stable/user_guide/indexing.html#returning-a-view-versus-a-copy\n",
      "  price['Year'] = price['회계년도'].dt.year\n"
     ]
    }
   ],
   "source": [
    "# 3. 회계년도 마지막 data\n",
    "\n",
    "## 'Date' 컬럼에서 년도만 추출하여 새로운 'Year' 컬럼 추가\n",
    "price['Year'] = price['회계년도'].dt.year\n",
    "\n",
    "\n",
    "## 각 년도별로 그룹화하고 마지막 데이터를 선택\n",
    "# last_data_by_year = price.groupby(['Year']).last().reset_index(drop=True)\n",
    "# last_data_by_year = price.groupby(['회사명','거래소코드','회계년도','Year']).last().reset_index()\n",
    "\n",
    "last_data_by_year = price.groupby(['회사명', '거래소코드', 'Year']).last().reset_index()\n",
    "\n",
    "last_data_by_year.drop(['Year', '시가(원)'], axis =1, inplace = True )\n",
    "\n",
    "price_last = last_data_by_year.copy()\n"
   ]
  },
  {
   "cell_type": "code",
   "execution_count": 20,
   "metadata": {},
   "outputs": [
    {
     "data": {
      "text/html": [
       "<div>\n",
       "<style scoped>\n",
       "    .dataframe tbody tr th:only-of-type {\n",
       "        vertical-align: middle;\n",
       "    }\n",
       "\n",
       "    .dataframe tbody tr th {\n",
       "        vertical-align: top;\n",
       "    }\n",
       "\n",
       "    .dataframe thead th {\n",
       "        text-align: right;\n",
       "    }\n",
       "</style>\n",
       "<table border=\"1\" class=\"dataframe\">\n",
       "  <thead>\n",
       "    <tr style=\"text-align: right;\">\n",
       "      <th></th>\n",
       "      <th>회사명</th>\n",
       "      <th>거래소코드</th>\n",
       "      <th>회계년도</th>\n",
       "      <th>종가(원)</th>\n",
       "      <th>상장주식수(주)</th>\n",
       "      <th>시가총액</th>\n",
       "    </tr>\n",
       "  </thead>\n",
       "  <tbody>\n",
       "    <tr>\n",
       "      <th>0</th>\n",
       "      <td>가온칩스</td>\n",
       "      <td>399720</td>\n",
       "      <td>2022-12-29</td>\n",
       "      <td>14200</td>\n",
       "      <td>11488320</td>\n",
       "      <td>163134144000</td>\n",
       "    </tr>\n",
       "    <tr>\n",
       "      <th>1</th>\n",
       "      <td>강스템바이오텍</td>\n",
       "      <td>217730</td>\n",
       "      <td>2016-12-29</td>\n",
       "      <td>10800</td>\n",
       "      <td>14213650</td>\n",
       "      <td>153507420000</td>\n",
       "    </tr>\n",
       "    <tr>\n",
       "      <th>2</th>\n",
       "      <td>강스템바이오텍</td>\n",
       "      <td>217730</td>\n",
       "      <td>2017-12-28</td>\n",
       "      <td>12500</td>\n",
       "      <td>16251712</td>\n",
       "      <td>203146400000</td>\n",
       "    </tr>\n",
       "    <tr>\n",
       "      <th>3</th>\n",
       "      <td>강스템바이오텍</td>\n",
       "      <td>217730</td>\n",
       "      <td>2018-12-28</td>\n",
       "      <td>21800</td>\n",
       "      <td>20824937</td>\n",
       "      <td>453983626600</td>\n",
       "    </tr>\n",
       "    <tr>\n",
       "      <th>4</th>\n",
       "      <td>강스템바이오텍</td>\n",
       "      <td>217730</td>\n",
       "      <td>2019-12-30</td>\n",
       "      <td>8140</td>\n",
       "      <td>20849437</td>\n",
       "      <td>169714417180</td>\n",
       "    </tr>\n",
       "    <tr>\n",
       "      <th>...</th>\n",
       "      <td>...</td>\n",
       "      <td>...</td>\n",
       "      <td>...</td>\n",
       "      <td>...</td>\n",
       "      <td>...</td>\n",
       "      <td>...</td>\n",
       "    </tr>\n",
       "    <tr>\n",
       "      <th>3885</th>\n",
       "      <td>힘스</td>\n",
       "      <td>238490</td>\n",
       "      <td>2018-12-28</td>\n",
       "      <td>9480</td>\n",
       "      <td>5656118</td>\n",
       "      <td>53619998640</td>\n",
       "    </tr>\n",
       "    <tr>\n",
       "      <th>3886</th>\n",
       "      <td>힘스</td>\n",
       "      <td>238490</td>\n",
       "      <td>2019-12-30</td>\n",
       "      <td>27200</td>\n",
       "      <td>5656118</td>\n",
       "      <td>153846409600</td>\n",
       "    </tr>\n",
       "    <tr>\n",
       "      <th>3887</th>\n",
       "      <td>힘스</td>\n",
       "      <td>238490</td>\n",
       "      <td>2020-12-30</td>\n",
       "      <td>12800</td>\n",
       "      <td>11312236</td>\n",
       "      <td>144796620800</td>\n",
       "    </tr>\n",
       "    <tr>\n",
       "      <th>3888</th>\n",
       "      <td>힘스</td>\n",
       "      <td>238490</td>\n",
       "      <td>2021-12-30</td>\n",
       "      <td>9850</td>\n",
       "      <td>11312236</td>\n",
       "      <td>111425524600</td>\n",
       "    </tr>\n",
       "    <tr>\n",
       "      <th>3889</th>\n",
       "      <td>힘스</td>\n",
       "      <td>238490</td>\n",
       "      <td>2022-12-29</td>\n",
       "      <td>6060</td>\n",
       "      <td>11312236</td>\n",
       "      <td>68552150160</td>\n",
       "    </tr>\n",
       "  </tbody>\n",
       "</table>\n",
       "<p>3890 rows × 6 columns</p>\n",
       "</div>"
      ],
      "text/plain": [
       "          회사명   거래소코드       회계년도  종가(원)  상장주식수(주)          시가총액\n",
       "0        가온칩스  399720 2022-12-29  14200  11488320  163134144000\n",
       "1     강스템바이오텍  217730 2016-12-29  10800  14213650  153507420000\n",
       "2     강스템바이오텍  217730 2017-12-28  12500  16251712  203146400000\n",
       "3     강스템바이오텍  217730 2018-12-28  21800  20824937  453983626600\n",
       "4     강스템바이오텍  217730 2019-12-30   8140  20849437  169714417180\n",
       "...       ...     ...        ...    ...       ...           ...\n",
       "3885       힘스  238490 2018-12-28   9480   5656118   53619998640\n",
       "3886       힘스  238490 2019-12-30  27200   5656118  153846409600\n",
       "3887       힘스  238490 2020-12-30  12800  11312236  144796620800\n",
       "3888       힘스  238490 2021-12-30   9850  11312236  111425524600\n",
       "3889       힘스  238490 2022-12-29   6060  11312236   68552150160\n",
       "\n",
       "[3890 rows x 6 columns]"
      ]
     },
     "execution_count": 20,
     "metadata": {},
     "output_type": "execute_result"
    }
   ],
   "source": [
    "price_last"
   ]
  },
  {
   "cell_type": "markdown",
   "metadata": {},
   "source": [
    "### 4. price_last 로 mk_real 시총 Update\n",
    "    - price_last 의 시총 컬럼으로 mk_real 에 합쳐서(merge) 결측치 줄어드는지 확인 "
   ]
  },
  {
   "cell_type": "code",
   "execution_count": 21,
   "metadata": {},
   "outputs": [
    {
     "name": "stderr",
     "output_type": "stream",
     "text": [
      "C:\\Users\\zino0\\AppData\\Local\\Temp\\ipykernel_20652\\2755046273.py:3: SettingWithCopyWarning: \n",
      "A value is trying to be set on a copy of a slice from a DataFrame.\n",
      "Try using .loc[row_indexer,col_indexer] = value instead\n",
      "\n",
      "See the caveats in the documentation: https://pandas.pydata.org/pandas-docs/stable/user_guide/indexing.html#returning-a-view-versus-a-copy\n",
      "  mk_real['회계년도'] = pd.to_datetime(mk_real['회계년도'], format = '%Y/%m/%d')\n"
     ]
    }
   ],
   "source": [
    "# merge 전 data type 일치 \n",
    "price_last['거래소코드'] = price_last['거래소코드'].astype('int')\n",
    "mk_real['회계년도'] = pd.to_datetime(mk_real['회계년도'], format = '%Y/%m/%d')\n",
    "\n",
    "\n",
    "# price_last.info()\n",
    "# mk_real.info()"
   ]
  },
  {
   "cell_type": "code",
   "execution_count": 22,
   "metadata": {},
   "outputs": [],
   "source": [
    "# merge 전 컬럼이름 구분 위해 컬럼이름 변경\n",
    "price_last.rename(columns = {'시가총액':'시가총액_x'}, inplace = True)"
   ]
  },
  {
   "cell_type": "code",
   "execution_count": 23,
   "metadata": {},
   "outputs": [],
   "source": [
    "# A와 B 데이터프레임을 '회사명', '거래소코드', '회계년도' 컬럼을 기준으로 병합 (left join)\n",
    "mkcap = pd.merge(mk_real, price_last, on=['회사명', '거래소코드', '회계년도'], how='left')\n",
    "\n",
    "# 'x' 컬럼의 결측치를 'y' 컬럼 값으로 채움\n",
    "mkcap['시가총액'] = mkcap['시가총액'].fillna(mkcap['시가총액_x'])\n",
    "\n",
    "# 불필요한 'y' 컬럼 삭제\n",
    "mkcap.drop(columns='시가총액_x', inplace=True)\n",
    "\n",
    "# 불필요한 다른 컬럼 삭제\n",
    "mkcap.drop(['종가(원)_x','종가(원)_y', '상장주식수(주)'], axis = 1, inplace = True)"
   ]
  },
  {
   "cell_type": "code",
   "execution_count": 24,
   "metadata": {},
   "outputs": [
    {
     "data": {
      "text/plain": [
       "회사명                                0\n",
       "거래소코드                              0\n",
       "회계년도                               0\n",
       "[제조]* 발행한 주식총수(*)(IFRS연결)(주)    1875\n",
       "시가총액                            3478\n",
       "dtype: int64"
      ]
     },
     "execution_count": 24,
     "metadata": {},
     "output_type": "execute_result"
    }
   ],
   "source": [
    "mkcap.isna().sum()"
   ]
  },
  {
   "cell_type": "code",
   "execution_count": 29,
   "metadata": {},
   "outputs": [],
   "source": [
    "mkcap.rename(columns={'[제조]* 발행한 주식총수(*)(IFRS연결)(주)':\n",
    "              '발행주식수(연결+개별)'}, inplace=True)"
   ]
  },
  {
   "cell_type": "code",
   "execution_count": 31,
   "metadata": {},
   "outputs": [],
   "source": [
    "mkcap.to_excel('../dataset_2nd/mkcap_2.xlsx')"
   ]
  },
  {
   "cell_type": "markdown",
   "metadata": {},
   "source": [
    "---"
   ]
  },
  {
   "cell_type": "markdown",
   "metadata": {},
   "source": [
    "1. 시총뽑기 \n",
    "    - df_code의 0:4 까지 컬러만 따로 df : mkcap (= Market Capitalization, 시가총액)\n",
    "    - df_code의 거래소코드에 해당하는 df_price 뽑기 -> price\n",
    "    - price에서 각 회계년도 마지막 주가 data만 남기기 \n",
    "    - price에서 종가 x 상장주식수( = 보통주 + 우선주) 로 시총 df 따로 만들기 \n",
    "\n",
    "2. 시총 to Yuna\n",
    "\n",
    "3. Z-score Update\n",
    "    - New 시총 사용해서 (결측치 확인)\n",
    "    - 저량변수 평균값 사용"
   ]
  }
 ],
 "metadata": {
  "kernelspec": {
   "display_name": "Python 3",
   "language": "python",
   "name": "python3"
  },
  "language_info": {
   "codemirror_mode": {
    "name": "ipython",
    "version": 3
   },
   "file_extension": ".py",
   "mimetype": "text/x-python",
   "name": "python",
   "nbconvert_exporter": "python",
   "pygments_lexer": "ipython3",
   "version": "3.11.2"
  },
  "orig_nbformat": 4
 },
 "nbformat": 4,
 "nbformat_minor": 2
}
