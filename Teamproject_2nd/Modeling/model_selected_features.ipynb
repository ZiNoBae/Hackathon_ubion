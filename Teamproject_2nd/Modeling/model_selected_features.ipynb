{
 "cells": [
  {
   "cell_type": "code",
   "execution_count": 1,
   "metadata": {},
   "outputs": [],
   "source": [
    "import pandas as pd \n",
    "import numpy as np\n",
    "\n",
    "from pytorch_tabnet.tab_model import TabNetClassifier\n",
    "from sklearn.metrics import accuracy_score, f1_score, classification_report, confusion_matrix\n"
   ]
  },
  {
   "cell_type": "code",
   "execution_count": 14,
   "metadata": {},
   "outputs": [],
   "source": [
    "\n",
    "from sklearn.model_selection import train_test_split, KFold, GridSearchCV\n",
    "from sklearn.ensemble import RandomForestClassifier, GradientBoostingClassifier, AdaBoostClassifier, BaggingClassifier\n",
    "from sklearn.linear_model import LogisticRegression\n",
    "from sklearn.preprocessing import MinMaxScaler\n",
    "from xgboost import XGBClassifier\n",
    "from catboost import CatBoostClassifier\n",
    "from sklearn.metrics import accuracy_score, precision_score, recall_score, f1_score, classification_report, confusion_matrix\n",
    "from sklearn.tree import DecisionTreeClassifier\n",
    "from sklearn.preprocessing import MinMaxScaler, StandardScaler, RobustScaler"
   ]
  },
  {
   "cell_type": "code",
   "execution_count": 2,
   "metadata": {},
   "outputs": [],
   "source": [
    "x_train = pd.read_excel('../train_test_dataset/x_train.xlsx', index_col=0)\n",
    "y_train= pd.read_excel('../train_test_dataset/y_train.xlsx', index_col=0)\n",
    "x_test= pd.read_excel('../train_test_dataset/x_test.xlsx', index_col=0)\n",
    "y_test= pd.read_excel('../train_test_dataset/y_test.xlsx', index_col=0)"
   ]
  },
  {
   "cell_type": "code",
   "execution_count": 3,
   "metadata": {},
   "outputs": [],
   "source": [
    "x_train_scaled= x_train[['유동비율(%)', '당좌비율(%)', '비유동비율(%)', '부채비율(%)', '유동부채비율(%)', '차입금의존도(%)',\n",
    "       '이익잉여금비율(%)', '순운전자본비율(%)', '비유동장기적합률(%)', '이자보상배율(이자비용)(배)',\n",
    "       '외화포지션(배)', '총자본순이익률(%)', '자기자본순이익률(%)', '경영자본순이익률(%)', '매출액순이익률(%)',\n",
    "       '총자본정상영업이익률(%)', '자기자본정상영업이익률(%)', '매출액정상영업이익률(%)', '금융비용부담률(%)',\n",
    "       '총자산회전율(배)', '매출채권회전률(배)', '당좌자산회전률(배)', '재고자산회전률(배)', '유형자산회전율(배)',\n",
    "       '매입채무회전률(배)', '자기자본회전률(배)', '경영자본회전률(배)', '유동자산증가율(%)', '매출액증가율(%)',\n",
    "       '정상영업이익증가율(%)', '순이익증가율(%)', 'spread(%)', 'PPI(2015기준)', '실질GDP성장률(%)',\n",
    "       'EV/EBITDA(배)', '52주베타(배)', 'PER', 'PBR', 'PCR', 'CASH FLOW 대 부채비율(%)',\n",
    "       '총자본투자효율(%)', 'log_평균총자산', 'K2_score', '최대주주특수관계인_지분율(%)',\n",
    "       '최대주주변경횟수(회)', '감사법인변경횟수(회)', '업력(년)', '평균근속연수(년)', '직원수증감율(%)',\n",
    "       '기간제비율(%)', 'R&D집중도(%)', '수출기업여부(dummy)', '주거래은행_0', '주거래은행_1',\n",
    "       '주거래은행_2', '주거래은행_3', '주거래은행_4']]\n",
    "\n",
    "x_test= x_test[['유동비율(%)', '당좌비율(%)', '비유동비율(%)', '부채비율(%)', '유동부채비율(%)', '차입금의존도(%)',\n",
    "       '이익잉여금비율(%)', '순운전자본비율(%)', '비유동장기적합률(%)', '이자보상배율(이자비용)(배)',\n",
    "       '외화포지션(배)', '총자본순이익률(%)', '자기자본순이익률(%)', '경영자본순이익률(%)', '매출액순이익률(%)',\n",
    "       '총자본정상영업이익률(%)', '자기자본정상영업이익률(%)', '매출액정상영업이익률(%)', '금융비용부담률(%)',\n",
    "       '총자산회전율(배)', '매출채권회전률(배)', '당좌자산회전률(배)', '재고자산회전률(배)', '유형자산회전율(배)',\n",
    "       '매입채무회전률(배)', '자기자본회전률(배)', '경영자본회전률(배)', '유동자산증가율(%)', '매출액증가율(%)',\n",
    "       '정상영업이익증가율(%)', '순이익증가율(%)', 'spread(%)', 'PPI(2015기준)', '실질GDP성장률(%)',\n",
    "       'EV/EBITDA(배)', '52주베타(배)', 'PER', 'PBR', 'PCR', 'CASH FLOW 대 부채비율(%)',\n",
    "       '총자본투자효율(%)', 'log_평균총자산', 'K2_score', '최대주주특수관계인_지분율(%)',\n",
    "       '최대주주변경횟수(회)', '감사법인변경횟수(회)', '업력(년)', '평균근속연수(년)', '직원수증감율(%)',\n",
    "       '기간제비율(%)', 'R&D집중도(%)', '수출기업여부(dummy)', '주거래은행_0', '주거래은행_1',\n",
    "       '주거래은행_2', '주거래은행_3', '주거래은행_4']]"
   ]
  },
  {
   "cell_type": "code",
   "execution_count": 4,
   "metadata": {},
   "outputs": [
    {
     "name": "stderr",
     "output_type": "stream",
     "text": [
      "c:\\Users\\zino0\\AppData\\Local\\Programs\\Python\\Python311\\Lib\\site-packages\\dask\\dataframe\\utils.py:367: FutureWarning: pandas.Int64Index is deprecated and will be removed from pandas in a future version. Use pandas.Index with the appropriate dtype instead.\n",
      "  _numeric_index_types = (pd.Int64Index, pd.Float64Index, pd.UInt64Index)\n",
      "c:\\Users\\zino0\\AppData\\Local\\Programs\\Python\\Python311\\Lib\\site-packages\\dask\\dataframe\\utils.py:367: FutureWarning: pandas.Float64Index is deprecated and will be removed from pandas in a future version. Use pandas.Index with the appropriate dtype instead.\n",
      "  _numeric_index_types = (pd.Int64Index, pd.Float64Index, pd.UInt64Index)\n",
      "c:\\Users\\zino0\\AppData\\Local\\Programs\\Python\\Python311\\Lib\\site-packages\\dask\\dataframe\\utils.py:367: FutureWarning: pandas.UInt64Index is deprecated and will be removed from pandas in a future version. Use pandas.Index with the appropriate dtype instead.\n",
      "  _numeric_index_types = (pd.Int64Index, pd.Float64Index, pd.UInt64Index)\n"
     ]
    }
   ],
   "source": [
    "from sklearn.tree import DecisionTreeClassifier\n",
    "from sklearn.ensemble import RandomForestClassifier\n",
    "from xgboost import XGBClassifier\n",
    "from lightgbm import LGBMClassifier\n",
    "from sklearn.feature_selection import SelectFromModel\n",
    "from sklearn.linear_model import LogisticRegression, LogisticRegressionCV\n",
    "from imblearn.over_sampling import SMOTE\n",
    "from imblearn.over_sampling import ADASYN\n",
    "from sklearn.metrics import accuracy_score, precision_score, recall_score, f1_score, confusion_matrix\n",
    "from sklearn.model_selection import cross_val_score\n",
    "from sklearn.feature_selection import SelectFromModel\n",
    "from sklearn.linear_model import LogisticRegression, LogisticRegressionCV\n",
    "from imblearn.over_sampling import SMOTE\n",
    "from imblearn.over_sampling import ADASYN\n",
    "from sklearn.metrics import accuracy_score, precision_score, recall_score, f1_score, confusion_matrix\n",
    "from sklearn.model_selection import cross_val_score\n",
    "from sklearn.inspection import permutation_importance\n",
    "from sklearn.metrics import accuracy_score, f1_score, classification_report"
   ]
  },
  {
   "cell_type": "code",
   "execution_count": 5,
   "metadata": {},
   "outputs": [],
   "source": [
    "def vif(data):\n",
    "    import pandas as pd\n",
    "    from statsmodels.stats.outliers_influence import variance_inflation_factor\n",
    "\n",
    "    # VIF 출력을 위한 데이터 프레임 형성\n",
    "    vif = pd.DataFrame()\n",
    "\n",
    "    # VIF 값과 각 Feature 이름에 대해 설정\n",
    "    vif[\"VIF Factor\"] = [variance_inflation_factor(data.values, i) for i in range(len(data.columns))]\n",
    "    vif[\"features\"] = data.columns \n",
    "                    \n",
    "    # VIF 값이 높은 순으로 정렬\n",
    "    vif = vif.sort_values(by=\"VIF Factor\", ascending=False)\n",
    "    vif = vif.reset_index().drop(columns='index')\n",
    "    \n",
    "    return vif"
   ]
  },
  {
   "cell_type": "code",
   "execution_count": 6,
   "metadata": {},
   "outputs": [],
   "source": [
    "x_train_scaled = x_train_scaled[['유동비율(%)', '당좌비율(%)', '비유동비율(%)', '부채비율(%)', '유동부채비율(%)', '차입금의존도(%)',\n",
    "       '이익잉여금비율(%)', '순운전자본비율(%)', '비유동장기적합률(%)', '이자보상배율(이자비용)(배)',\n",
    "       '외화포지션(배)', '총자본순이익률(%)', '자기자본순이익률(%)', '경영자본순이익률(%)', '매출액순이익률(%)',\n",
    "       '총자본정상영업이익률(%)', '자기자본정상영업이익률(%)', '매출액정상영업이익률(%)', '금융비용부담률(%)',\n",
    "       '총자산회전율(배)', '매출채권회전률(배)', '당좌자산회전률(배)', '재고자산회전률(배)', '유형자산회전율(배)',\n",
    "       '매입채무회전률(배)', '자기자본회전률(배)', '경영자본회전률(배)', '유동자산증가율(%)', '매출액증가율(%)',\n",
    "       '정상영업이익증가율(%)', '순이익증가율(%)', 'spread(%)', 'PPI(2015기준)', '실질GDP성장률(%)',\n",
    "       'EV/EBITDA(배)', '52주베타(배)', 'PER', 'PBR', 'PCR', 'CASH FLOW 대 부채비율(%)',\n",
    "       '총자본투자효율(%)', 'log_평균총자산', 'K2_score', '최대주주특수관계인_지분율(%)',\n",
    "       '최대주주변경횟수(회)', '감사법인변경횟수(회)', '업력(년)', '평균근속연수(년)', '직원수증감율(%)',\n",
    "       '기간제비율(%)', 'R&D집중도(%)', '수출기업여부(dummy)']]"
   ]
  },
  {
   "cell_type": "code",
   "execution_count": 7,
   "metadata": {},
   "outputs": [
    {
     "name": "stderr",
     "output_type": "stream",
     "text": [
      "c:\\Users\\zino0\\AppData\\Local\\Programs\\Python\\Python311\\Lib\\site-packages\\sklearn\\utils\\validation.py:1143: DataConversionWarning: A column-vector y was passed when a 1d array was expected. Please change the shape of y to (n_samples, ), for example using ravel().\n",
      "  y = column_or_1d(y, warn=True)\n",
      "c:\\Users\\zino0\\AppData\\Local\\Programs\\Python\\Python311\\Lib\\site-packages\\sklearn\\linear_model\\_sag.py:350: ConvergenceWarning: The max_iter was reached which means the coef_ did not converge\n",
      "  warnings.warn(\n"
     ]
    },
    {
     "data": {
      "text/plain": [
       "['차입금의존도(%)',\n",
       " '순운전자본비율(%)',\n",
       " '총자본순이익률(%)',\n",
       " '경영자본순이익률(%)',\n",
       " '총자본정상영업이익률(%)',\n",
       " '자기자본정상영업이익률(%)',\n",
       " '금융비용부담률(%)',\n",
       " '총자산회전율(배)',\n",
       " 'log_평균총자산',\n",
       " 'K2_score',\n",
       " '최대주주특수관계인_지분율(%)',\n",
       " '감사법인변경횟수(회)']"
      ]
     },
     "execution_count": 7,
     "metadata": {},
     "output_type": "execute_result"
    }
   ],
   "source": [
    "lasso = SelectFromModel(LogisticRegression(C=.008, penalty='l1',solver='saga'))\n",
    "lasso.fit(x_train_scaled, y_train)\n",
    "\n",
    "lasso_support = lasso.get_support()\n",
    "feature_selected = x_train_scaled.loc[:,lasso_support].columns.tolist()\n",
    "\n",
    "feature_selected"
   ]
  },
  {
   "cell_type": "code",
   "execution_count": 8,
   "metadata": {},
   "outputs": [
    {
     "data": {
      "text/html": [
       "<div>\n",
       "<style scoped>\n",
       "    .dataframe tbody tr th:only-of-type {\n",
       "        vertical-align: middle;\n",
       "    }\n",
       "\n",
       "    .dataframe tbody tr th {\n",
       "        vertical-align: top;\n",
       "    }\n",
       "\n",
       "    .dataframe thead th {\n",
       "        text-align: right;\n",
       "    }\n",
       "</style>\n",
       "<table border=\"1\" class=\"dataframe\">\n",
       "  <thead>\n",
       "    <tr style=\"text-align: right;\">\n",
       "      <th></th>\n",
       "      <th>VIF Factor</th>\n",
       "      <th>features</th>\n",
       "    </tr>\n",
       "  </thead>\n",
       "  <tbody>\n",
       "    <tr>\n",
       "      <th>0</th>\n",
       "      <td>7.078184</td>\n",
       "      <td>총자본순이익률(%)</td>\n",
       "    </tr>\n",
       "    <tr>\n",
       "      <th>1</th>\n",
       "      <td>5.089113</td>\n",
       "      <td>경영자본순이익률(%)</td>\n",
       "    </tr>\n",
       "    <tr>\n",
       "      <th>2</th>\n",
       "      <td>3.611504</td>\n",
       "      <td>총자본정상영업이익률(%)</td>\n",
       "    </tr>\n",
       "    <tr>\n",
       "      <th>3</th>\n",
       "      <td>2.322828</td>\n",
       "      <td>자기자본정상영업이익률(%)</td>\n",
       "    </tr>\n",
       "    <tr>\n",
       "      <th>4</th>\n",
       "      <td>2.312684</td>\n",
       "      <td>순운전자본비율(%)</td>\n",
       "    </tr>\n",
       "    <tr>\n",
       "      <th>5</th>\n",
       "      <td>2.300326</td>\n",
       "      <td>차입금의존도(%)</td>\n",
       "    </tr>\n",
       "    <tr>\n",
       "      <th>6</th>\n",
       "      <td>1.281407</td>\n",
       "      <td>K2_score</td>\n",
       "    </tr>\n",
       "    <tr>\n",
       "      <th>7</th>\n",
       "      <td>1.230965</td>\n",
       "      <td>log_평균총자산</td>\n",
       "    </tr>\n",
       "    <tr>\n",
       "      <th>8</th>\n",
       "      <td>1.208991</td>\n",
       "      <td>금융비용부담률(%)</td>\n",
       "    </tr>\n",
       "    <tr>\n",
       "      <th>9</th>\n",
       "      <td>1.133695</td>\n",
       "      <td>총자산회전율(배)</td>\n",
       "    </tr>\n",
       "    <tr>\n",
       "      <th>10</th>\n",
       "      <td>1.118135</td>\n",
       "      <td>최대주주특수관계인_지분율(%)</td>\n",
       "    </tr>\n",
       "    <tr>\n",
       "      <th>11</th>\n",
       "      <td>1.030169</td>\n",
       "      <td>감사법인변경횟수(회)</td>\n",
       "    </tr>\n",
       "  </tbody>\n",
       "</table>\n",
       "</div>"
      ],
      "text/plain": [
       "    VIF Factor          features\n",
       "0     7.078184        총자본순이익률(%)\n",
       "1     5.089113       경영자본순이익률(%)\n",
       "2     3.611504     총자본정상영업이익률(%)\n",
       "3     2.322828    자기자본정상영업이익률(%)\n",
       "4     2.312684        순운전자본비율(%)\n",
       "5     2.300326         차입금의존도(%)\n",
       "6     1.281407          K2_score\n",
       "7     1.230965         log_평균총자산\n",
       "8     1.208991        금융비용부담률(%)\n",
       "9     1.133695         총자산회전율(배)\n",
       "10    1.118135  최대주주특수관계인_지분율(%)\n",
       "11    1.030169       감사법인변경횟수(회)"
      ]
     },
     "execution_count": 8,
     "metadata": {},
     "output_type": "execute_result"
    }
   ],
   "source": [
    "vif(x_train_scaled[feature_selected])"
   ]
  },
  {
   "cell_type": "code",
   "execution_count": 9,
   "metadata": {},
   "outputs": [],
   "source": [
    "feature_selected.remove('경영자본순이익률(%)')"
   ]
  },
  {
   "cell_type": "code",
   "execution_count": 10,
   "metadata": {},
   "outputs": [
    {
     "data": {
      "text/plain": [
       "['차입금의존도(%)',\n",
       " '순운전자본비율(%)',\n",
       " '총자본순이익률(%)',\n",
       " '총자본정상영업이익률(%)',\n",
       " '자기자본정상영업이익률(%)',\n",
       " '금융비용부담률(%)',\n",
       " '총자산회전율(배)',\n",
       " 'log_평균총자산',\n",
       " 'K2_score',\n",
       " '최대주주특수관계인_지분율(%)',\n",
       " '감사법인변경횟수(회)']"
      ]
     },
     "execution_count": 10,
     "metadata": {},
     "output_type": "execute_result"
    }
   ],
   "source": [
    "feature_selected"
   ]
  },
  {
   "cell_type": "code",
   "execution_count": 11,
   "metadata": {},
   "outputs": [
    {
     "data": {
      "text/html": [
       "<div>\n",
       "<style scoped>\n",
       "    .dataframe tbody tr th:only-of-type {\n",
       "        vertical-align: middle;\n",
       "    }\n",
       "\n",
       "    .dataframe tbody tr th {\n",
       "        vertical-align: top;\n",
       "    }\n",
       "\n",
       "    .dataframe thead th {\n",
       "        text-align: right;\n",
       "    }\n",
       "</style>\n",
       "<table border=\"1\" class=\"dataframe\">\n",
       "  <thead>\n",
       "    <tr style=\"text-align: right;\">\n",
       "      <th></th>\n",
       "      <th>VIF Factor</th>\n",
       "      <th>features</th>\n",
       "    </tr>\n",
       "  </thead>\n",
       "  <tbody>\n",
       "    <tr>\n",
       "      <th>0</th>\n",
       "      <td>3.585603</td>\n",
       "      <td>총자본정상영업이익률(%)</td>\n",
       "    </tr>\n",
       "    <tr>\n",
       "      <th>1</th>\n",
       "      <td>2.593488</td>\n",
       "      <td>총자본순이익률(%)</td>\n",
       "    </tr>\n",
       "    <tr>\n",
       "      <th>2</th>\n",
       "      <td>2.322091</td>\n",
       "      <td>자기자본정상영업이익률(%)</td>\n",
       "    </tr>\n",
       "    <tr>\n",
       "      <th>3</th>\n",
       "      <td>2.307775</td>\n",
       "      <td>순운전자본비율(%)</td>\n",
       "    </tr>\n",
       "    <tr>\n",
       "      <th>4</th>\n",
       "      <td>2.294426</td>\n",
       "      <td>차입금의존도(%)</td>\n",
       "    </tr>\n",
       "    <tr>\n",
       "      <th>5</th>\n",
       "      <td>1.281395</td>\n",
       "      <td>K2_score</td>\n",
       "    </tr>\n",
       "    <tr>\n",
       "      <th>6</th>\n",
       "      <td>1.230691</td>\n",
       "      <td>log_평균총자산</td>\n",
       "    </tr>\n",
       "    <tr>\n",
       "      <th>7</th>\n",
       "      <td>1.200057</td>\n",
       "      <td>금융비용부담률(%)</td>\n",
       "    </tr>\n",
       "    <tr>\n",
       "      <th>8</th>\n",
       "      <td>1.131678</td>\n",
       "      <td>총자산회전율(배)</td>\n",
       "    </tr>\n",
       "    <tr>\n",
       "      <th>9</th>\n",
       "      <td>1.118021</td>\n",
       "      <td>최대주주특수관계인_지분율(%)</td>\n",
       "    </tr>\n",
       "    <tr>\n",
       "      <th>10</th>\n",
       "      <td>1.030143</td>\n",
       "      <td>감사법인변경횟수(회)</td>\n",
       "    </tr>\n",
       "  </tbody>\n",
       "</table>\n",
       "</div>"
      ],
      "text/plain": [
       "    VIF Factor          features\n",
       "0     3.585603     총자본정상영업이익률(%)\n",
       "1     2.593488        총자본순이익률(%)\n",
       "2     2.322091    자기자본정상영업이익률(%)\n",
       "3     2.307775        순운전자본비율(%)\n",
       "4     2.294426         차입금의존도(%)\n",
       "5     1.281395          K2_score\n",
       "6     1.230691         log_평균총자산\n",
       "7     1.200057        금융비용부담률(%)\n",
       "8     1.131678         총자산회전율(배)\n",
       "9     1.118021  최대주주특수관계인_지분율(%)\n",
       "10    1.030143       감사법인변경횟수(회)"
      ]
     },
     "execution_count": 11,
     "metadata": {},
     "output_type": "execute_result"
    }
   ],
   "source": [
    "vif(x_train_scaled[feature_selected])"
   ]
  },
  {
   "cell_type": "code",
   "execution_count": 12,
   "metadata": {},
   "outputs": [
    {
     "data": {
      "text/html": [
       "<div>\n",
       "<style scoped>\n",
       "    .dataframe tbody tr th:only-of-type {\n",
       "        vertical-align: middle;\n",
       "    }\n",
       "\n",
       "    .dataframe tbody tr th {\n",
       "        vertical-align: top;\n",
       "    }\n",
       "\n",
       "    .dataframe thead th {\n",
       "        text-align: right;\n",
       "    }\n",
       "</style>\n",
       "<table border=\"1\" class=\"dataframe\">\n",
       "  <thead>\n",
       "    <tr style=\"text-align: right;\">\n",
       "      <th></th>\n",
       "      <th>VIF Factor</th>\n",
       "      <th>features</th>\n",
       "    </tr>\n",
       "  </thead>\n",
       "  <tbody>\n",
       "    <tr>\n",
       "      <th>0</th>\n",
       "      <td>2.304834</td>\n",
       "      <td>순운전자본비율(%)</td>\n",
       "    </tr>\n",
       "    <tr>\n",
       "      <th>1</th>\n",
       "      <td>2.289544</td>\n",
       "      <td>차입금의존도(%)</td>\n",
       "    </tr>\n",
       "    <tr>\n",
       "      <th>2</th>\n",
       "      <td>1.897745</td>\n",
       "      <td>총자본순이익률(%)</td>\n",
       "    </tr>\n",
       "    <tr>\n",
       "      <th>3</th>\n",
       "      <td>1.666051</td>\n",
       "      <td>자기자본정상영업이익률(%)</td>\n",
       "    </tr>\n",
       "    <tr>\n",
       "      <th>4</th>\n",
       "      <td>1.271678</td>\n",
       "      <td>K2_score</td>\n",
       "    </tr>\n",
       "    <tr>\n",
       "      <th>5</th>\n",
       "      <td>1.221199</td>\n",
       "      <td>log_평균총자산</td>\n",
       "    </tr>\n",
       "    <tr>\n",
       "      <th>6</th>\n",
       "      <td>1.189236</td>\n",
       "      <td>금융비용부담률(%)</td>\n",
       "    </tr>\n",
       "    <tr>\n",
       "      <th>7</th>\n",
       "      <td>1.117673</td>\n",
       "      <td>최대주주특수관계인_지분율(%)</td>\n",
       "    </tr>\n",
       "    <tr>\n",
       "      <th>8</th>\n",
       "      <td>1.100521</td>\n",
       "      <td>총자산회전율(배)</td>\n",
       "    </tr>\n",
       "    <tr>\n",
       "      <th>9</th>\n",
       "      <td>1.029929</td>\n",
       "      <td>감사법인변경횟수(회)</td>\n",
       "    </tr>\n",
       "  </tbody>\n",
       "</table>\n",
       "</div>"
      ],
      "text/plain": [
       "   VIF Factor          features\n",
       "0    2.304834        순운전자본비율(%)\n",
       "1    2.289544         차입금의존도(%)\n",
       "2    1.897745        총자본순이익률(%)\n",
       "3    1.666051    자기자본정상영업이익률(%)\n",
       "4    1.271678          K2_score\n",
       "5    1.221199         log_평균총자산\n",
       "6    1.189236        금융비용부담률(%)\n",
       "7    1.117673  최대주주특수관계인_지분율(%)\n",
       "8    1.100521         총자산회전율(배)\n",
       "9    1.029929       감사법인변경횟수(회)"
      ]
     },
     "execution_count": 12,
     "metadata": {},
     "output_type": "execute_result"
    }
   ],
   "source": [
    "feature_selected.remove('총자본정상영업이익률(%)')\n",
    "vif(x_train_scaled[feature_selected])"
   ]
  },
  {
   "cell_type": "markdown",
   "metadata": {},
   "source": [
    "---"
   ]
  },
  {
   "cell_type": "markdown",
   "metadata": {},
   "source": [
    "# I. Oversampling - Adasyn\n"
   ]
  },
  {
   "cell_type": "code",
   "execution_count": null,
   "metadata": {},
   "outputs": [],
   "source": [
    "# Adasyn\n",
    "adasyn = ADASYN(random_state=11, sampling_strategy='auto')\n",
    "x_train_ad, y_train_ad = adasyn.fit_resample(x_train_scaled[feature_selected], y_train)"
   ]
  },
  {
   "cell_type": "code",
   "execution_count": 16,
   "metadata": {},
   "outputs": [
    {
     "ename": "NameError",
     "evalue": "name 'x_testp' is not defined",
     "output_type": "error",
     "traceback": [
      "\u001b[1;31m---------------------------------------------------------------------------\u001b[0m",
      "\u001b[1;31mNameError\u001b[0m                                 Traceback (most recent call last)",
      "Cell \u001b[1;32mIn[16], line 1\u001b[0m\n\u001b[1;32m----> 1\u001b[0m x_test \u001b[39m=\u001b[39m x_testp[feature_selected]\n",
      "\u001b[1;31mNameError\u001b[0m: name 'x_testp' is not defined"
     ]
    }
   ],
   "source": [
    "x_test = x_test[feature_selected]"
   ]
  },
  {
   "cell_type": "markdown",
   "metadata": {},
   "source": [
    "## I-1. 2:1"
   ]
  },
  {
   "cell_type": "code",
   "execution_count": null,
   "metadata": {},
   "outputs": [],
   "source": [
    "models = {\n",
    "    'DecisionTree': (DecisionTreeClassifier(), {'max_depth': [4, 10, 20],'min_samples_leaf' :[6,10,3]}),\n",
    "    'LogisticRegression': (LogisticRegression(), {'C': [0.1, 1, 10,43], 'penalty': ['l1', 'l2']}),\n",
    "    'RandomForest': (RandomForestClassifier(), {'n_estimators': [10, 20, 100, 200], 'max_depth': [4, 5, 10, 20]}),\n",
    "    'lightGBM' : (LGBMClassifier(), {'max_depth': [None, 10, 20,4,5],'learning_rate': [0.01, 0.1, 0.2,0.03]}),\n",
    "    'AdaBoost': (AdaBoostClassifier(), {'n_estimators': [50, 100, 150], 'learning_rate': [0.01, 0.1, 0.2]}),\n",
    "    'XGBoost': (XGBClassifier(), {'n_estimators': [100, 200, 300, 44], 'learning_rate': [0.01, 0.1, 0.2,0.03]}),\n",
    "    'CatBoost': (CatBoostClassifier(), {'iterations': [100, 200, 300], 'learning_rate': [0.01, 0.1, 0.2]})\n",
    "}\n",
    "\n",
    "# 결과를 저장할 딕셔너리를 초기화합니다.\n",
    "results = {}\n",
    "\n",
    "# 각 모델에 대해 K-fold 교차 검증을 수행하고 결과를 저장합니다.\n",
    "for model_name, (model, param_grid) in models.items():\n",
    "    kfold = KFold(n_splits=5, shuffle=True, random_state=42)\n",
    "    grid_search = GridSearchCV(model, param_grid, cv=kfold, scoring='accuracy', n_jobs=-1)\n",
    "    grid_search.fit(x_train_ad, y_train_ad)\n",
    "    best_model = grid_search.best_estimator_\n",
    "    results[model_name] = {\n",
    "        'best_params': grid_search.best_params_,\n",
    "        'mean_cv_score': grid_search.best_score_,\n",
    "    }\n",
    "\n",
    "    # 테스트 세트를 사용하여 모델의 성능을 평가합니다.\n",
    "    y_pred = best_model.predict(x_test)\n",
    "    test_accuracy = accuracy_score(y_test, y_pred)\n",
    "    test_precision = precision_score(y_test, y_pred)\n",
    "    test_recall = recall_score(y_test, y_pred)\n",
    "    test_f1_score = f1_score(y_test, y_pred)\n",
    "    test_confusion_matrix = confusion_matrix(y_test, y_pred)\n",
    "    classification = classification_report(y_test, y_pred)\n",
    "\n",
    "    results[model_name]['test_score'] = {\n",
    "        'accuracy': test_accuracy,\n",
    "        'precision': test_precision,\n",
    "        'recall': test_recall,\n",
    "        'f1_score': test_f1_score,\n",
    "        'confusion_matrix': test_confusion_matrix\n",
    "    }\n",
    "\n",
    "# 결과를 출력합니다.\n",
    "for model_name, result in results.items():\n",
    "    print(f'{model_name}:')\n",
    "    print(f'  최적의 하이퍼파라미터: {result[\"best_params\"]}')\n",
    "    print(f'  K-fold 교차 검증 정확도: {result[\"mean_cv_score\"]:.4f}')\n",
    "\n",
    "    # 테스트 세트 결과 출력\n",
    "    test_scores = result['test_score']\n",
    "    print(f'  테스트 세트 정확도: {test_scores[\"accuracy\"]:.4f}')\n",
    "    print(f'  테스트 세트 정밀도: {test_scores[\"precision\"]:.4f}')\n",
    "    print(f'  테스트 세트 재현율: {test_scores[\"recall\"]:.4f}')\n",
    "    print(f'  테스트 세트 F1 스코어: {test_scores[\"f1_score\"]:.4f}')\n",
    "    print(f'  테스트 세트 혼동 행렬:')\n",
    "    print(test_scores[\"confusion_matrix\"])\n",
    "    print(classification)\n",
    "    print('--------------------------------------------------')"
   ]
  },
  {
   "cell_type": "markdown",
   "metadata": {},
   "source": [
    "## I-2. 3:1"
   ]
  },
  {
   "cell_type": "markdown",
   "metadata": {},
   "source": [
    "# II. Oversampling - Smote"
   ]
  },
  {
   "cell_type": "code",
   "execution_count": null,
   "metadata": {},
   "outputs": [],
   "source": [
    "# Smote"
   ]
  }
 ],
 "metadata": {
  "kernelspec": {
   "display_name": "Python 3",
   "language": "python",
   "name": "python3"
  },
  "language_info": {
   "codemirror_mode": {
    "name": "ipython",
    "version": 3
   },
   "file_extension": ".py",
   "mimetype": "text/x-python",
   "name": "python",
   "nbconvert_exporter": "python",
   "pygments_lexer": "ipython3",
   "version": "3.11.2"
  },
  "orig_nbformat": 4
 },
 "nbformat": 4,
 "nbformat_minor": 2
}
