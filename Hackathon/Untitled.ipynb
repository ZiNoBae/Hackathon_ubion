{
 "cells": [
  {
   "cell_type": "code",
   "execution_count": 5,
   "id": "d57027f0",
   "metadata": {},
   "outputs": [
    {
     "name": "stdout",
     "output_type": "stream",
     "text": [
      "Requirement already satisfied: dataprep in c:\\users\\zino0\\appdata\\local\\programs\\python\\python311\\lib\\site-packages (0.4.1)Note: you may need to restart the kernel to use updated packages.\n",
      "\n",
      "Requirement already satisfied: aiohttp<4.0,>=3.6 in c:\\users\\zino0\\appdata\\local\\programs\\python\\python311\\lib\\site-packages (from dataprep) (3.8.4)\n",
      "Requirement already satisfied: bokeh<3,>=2 in c:\\users\\zino0\\appdata\\local\\programs\\python\\python311\\lib\\site-packages (from dataprep) (2.4.3)\n",
      "Requirement already satisfied: bottleneck<2.0,>=1.3 in c:\\users\\zino0\\appdata\\local\\programs\\python\\python311\\lib\\site-packages (from dataprep) (1.3.7)\n",
      "Requirement already satisfied: dask[array,dataframe,delayed]<3.0,>=2.25 in c:\\users\\zino0\\appdata\\local\\programs\\python\\python311\\lib\\site-packages (from dataprep) (2.30.0)\n",
      "Requirement already satisfied: flask<2.0.0,>=1.1.4 in c:\\users\\zino0\\appdata\\local\\programs\\python\\python311\\lib\\site-packages (from dataprep) (1.1.4)\n",
      "Requirement already satisfied: flask_cors<4.0.0,>=3.0.10 in c:\\users\\zino0\\appdata\\local\\programs\\python\\python311\\lib\\site-packages (from dataprep) (3.0.10)\n",
      "Requirement already satisfied: ipywidgets<8.0,>=7.5 in c:\\users\\zino0\\appdata\\local\\programs\\python\\python311\\lib\\site-packages (from dataprep) (7.7.5)\n",
      "Requirement already satisfied: jinja2<3.0,>=2.11 in c:\\users\\zino0\\appdata\\local\\programs\\python\\python311\\lib\\site-packages (from dataprep) (2.11.0)\n",
      "Requirement already satisfied: jsonpath-ng<2.0,>=1.5 in c:\\users\\zino0\\appdata\\local\\programs\\python\\python311\\lib\\site-packages (from dataprep) (1.5.3)\n",
      "Requirement already satisfied: levenshtein<0.13.0,>=0.12.0 in c:\\users\\zino0\\appdata\\local\\programs\\python\\python311\\lib\\site-packages (from dataprep) (0.12.0)\n",
      "Requirement already satisfied: metaphone<0.7,>=0.6 in c:\\users\\zino0\\appdata\\local\\programs\\python\\python311\\lib\\site-packages (from dataprep) (0.6)\n",
      "Requirement already satisfied: nltk<4.0,>=3.5 in c:\\users\\zino0\\appdata\\local\\programs\\python\\python311\\lib\\site-packages (from dataprep) (3.6.3)\n",
      "Requirement already satisfied: numpy<2,>=1 in c:\\users\\zino0\\appdata\\local\\programs\\python\\python311\\lib\\site-packages (from dataprep) (1.24.3)\n",
      "Requirement already satisfied: pandas<2.0,>=1.1 in c:\\users\\zino0\\appdata\\local\\programs\\python\\python311\\lib\\site-packages (from dataprep) (1.5.3)\n",
      "Requirement already satisfied: pydantic<2.0,>=1.6 in c:\\users\\zino0\\appdata\\local\\programs\\python\\python311\\lib\\site-packages (from dataprep) (1.10.8)\n",
      "Requirement already satisfied: python-stdnum<2.0,>=1.16 in c:\\users\\zino0\\appdata\\local\\programs\\python\\python311\\lib\\site-packages (from dataprep) (1.18)\n",
      "Requirement already satisfied: regex<2021.0.0,>=2020.10.15 in c:\\users\\zino0\\appdata\\local\\programs\\python\\python311\\lib\\site-packages (from dataprep) (2020.11.13)\n",
      "Requirement already satisfied: scipy<2,>=1 in c:\\users\\zino0\\appdata\\local\\programs\\python\\python311\\lib\\site-packages (from dataprep) (1.10.1)\n",
      "Requirement already satisfied: tqdm<5.0,>=4.48 in c:\\users\\zino0\\appdata\\local\\programs\\python\\python311\\lib\\site-packages (from dataprep) (4.65.0)\n",
      "Requirement already satisfied: usaddress<0.6.0,>=0.5.10 in c:\\users\\zino0\\appdata\\local\\programs\\python\\python311\\lib\\site-packages (from dataprep) (0.5.10)\n",
      "Requirement already satisfied: varname<0.9.0,>=0.8.1 in c:\\users\\zino0\\appdata\\local\\programs\\python\\python311\\lib\\site-packages (from dataprep) (0.8.3)\n",
      "Requirement already satisfied: wordcloud<2.0,>=1.8 in c:\\users\\zino0\\appdata\\local\\programs\\python\\python311\\lib\\site-packages (from dataprep) (1.8.1)\n",
      "Requirement already satisfied: attrs>=17.3.0 in c:\\users\\zino0\\appdata\\local\\programs\\python\\python311\\lib\\site-packages (from aiohttp<4.0,>=3.6->dataprep) (22.2.0)\n",
      "Requirement already satisfied: charset-normalizer<4.0,>=2.0 in c:\\users\\zino0\\appdata\\local\\programs\\python\\python311\\lib\\site-packages (from aiohttp<4.0,>=3.6->dataprep) (3.1.0)\n",
      "Requirement already satisfied: multidict<7.0,>=4.5 in c:\\users\\zino0\\appdata\\local\\programs\\python\\python311\\lib\\site-packages (from aiohttp<4.0,>=3.6->dataprep) (6.0.4)\n",
      "Requirement already satisfied: async-timeout<5.0,>=4.0.0a3 in c:\\users\\zino0\\appdata\\local\\programs\\python\\python311\\lib\\site-packages (from aiohttp<4.0,>=3.6->dataprep) (4.0.2)\n",
      "Requirement already satisfied: yarl<2.0,>=1.0 in c:\\users\\zino0\\appdata\\local\\programs\\python\\python311\\lib\\site-packages (from aiohttp<4.0,>=3.6->dataprep) (1.9.2)\n",
      "Requirement already satisfied: frozenlist>=1.1.1 in c:\\users\\zino0\\appdata\\local\\programs\\python\\python311\\lib\\site-packages (from aiohttp<4.0,>=3.6->dataprep) (1.3.3)\n",
      "Requirement already satisfied: aiosignal>=1.1.2 in c:\\users\\zino0\\appdata\\local\\programs\\python\\python311\\lib\\site-packages (from aiohttp<4.0,>=3.6->dataprep) (1.3.1)\n",
      "Requirement already satisfied: packaging>=16.8 in c:\\users\\zino0\\appdata\\local\\programs\\python\\python311\\lib\\site-packages (from bokeh<3,>=2->dataprep) (23.0)\n",
      "Requirement already satisfied: pillow>=7.1.0 in c:\\users\\zino0\\appdata\\local\\programs\\python\\python311\\lib\\site-packages (from bokeh<3,>=2->dataprep) (9.4.0)\n",
      "Requirement already satisfied: PyYAML>=3.10 in c:\\users\\zino0\\appdata\\local\\programs\\python\\python311\\lib\\site-packages (from bokeh<3,>=2->dataprep) (6.0)\n",
      "Requirement already satisfied: tornado>=5.1 in c:\\users\\zino0\\appdata\\local\\programs\\python\\python311\\lib\\site-packages (from bokeh<3,>=2->dataprep) (6.2)\n",
      "Requirement already satisfied: typing-extensions>=3.10.0 in c:\\users\\zino0\\appdata\\local\\programs\\python\\python311\\lib\\site-packages (from bokeh<3,>=2->dataprep) (4.6.1)\n",
      "Requirement already satisfied: toolz>=0.8.2 in c:\\users\\zino0\\appdata\\local\\programs\\python\\python311\\lib\\site-packages (from dask[array,dataframe,delayed]<3.0,>=2.25->dataprep) (0.12.0)\n",
      "Requirement already satisfied: partd>=0.3.10 in c:\\users\\zino0\\appdata\\local\\programs\\python\\python311\\lib\\site-packages (from dask[array,dataframe,delayed]<3.0,>=2.25->dataprep) (1.4.0)\n",
      "Requirement already satisfied: fsspec>=0.6.0 in c:\\users\\zino0\\appdata\\local\\programs\\python\\python311\\lib\\site-packages (from dask[array,dataframe,delayed]<3.0,>=2.25->dataprep) (2023.5.0)\n",
      "Requirement already satisfied: cloudpickle>=0.2.2 in c:\\users\\zino0\\appdata\\local\\programs\\python\\python311\\lib\\site-packages (from dask[array,dataframe,delayed]<3.0,>=2.25->dataprep) (2.2.1)\n",
      "Requirement already satisfied: Werkzeug<2.0,>=0.15 in c:\\users\\zino0\\appdata\\local\\programs\\python\\python311\\lib\\site-packages (from flask<2.0.0,>=1.1.4->dataprep) (1.0.1)\n",
      "Requirement already satisfied: itsdangerous<2.0,>=0.24 in c:\\users\\zino0\\appdata\\local\\programs\\python\\python311\\lib\\site-packages (from flask<2.0.0,>=1.1.4->dataprep) (1.1.0)\n",
      "Requirement already satisfied: click<8.0,>=5.1 in c:\\users\\zino0\\appdata\\local\\programs\\python\\python311\\lib\\site-packages (from flask<2.0.0,>=1.1.4->dataprep) (7.1.2)\n",
      "Requirement already satisfied: Six in c:\\users\\zino0\\appdata\\local\\programs\\python\\python311\\lib\\site-packages (from flask_cors<4.0.0,>=3.0.10->dataprep) (1.16.0)\n",
      "Requirement already satisfied: ipykernel>=4.5.1 in c:\\users\\zino0\\appdata\\local\\programs\\python\\python311\\lib\\site-packages (from ipywidgets<8.0,>=7.5->dataprep) (6.22.0)\n",
      "Requirement already satisfied: ipython-genutils~=0.2.0 in c:\\users\\zino0\\appdata\\local\\programs\\python\\python311\\lib\\site-packages (from ipywidgets<8.0,>=7.5->dataprep) (0.2.0)\n",
      "Requirement already satisfied: traitlets>=4.3.1 in c:\\users\\zino0\\appdata\\local\\programs\\python\\python311\\lib\\site-packages (from ipywidgets<8.0,>=7.5->dataprep) (5.9.0)\n",
      "Requirement already satisfied: widgetsnbextension~=3.6.4 in c:\\users\\zino0\\appdata\\local\\programs\\python\\python311\\lib\\site-packages (from ipywidgets<8.0,>=7.5->dataprep) (3.6.4)\n",
      "Requirement already satisfied: ipython>=4.0.0 in c:\\users\\zino0\\appdata\\local\\programs\\python\\python311\\lib\\site-packages (from ipywidgets<8.0,>=7.5->dataprep) (8.11.0)\n",
      "Requirement already satisfied: jupyterlab-widgets<3,>=1.0.0 in c:\\users\\zino0\\appdata\\local\\programs\\python\\python311\\lib\\site-packages (from ipywidgets<8.0,>=7.5->dataprep) (1.1.4)\n",
      "Requirement already satisfied: MarkupSafe>=0.23 in c:\\users\\zino0\\appdata\\local\\programs\\python\\python311\\lib\\site-packages (from jinja2<3.0,>=2.11->dataprep) (2.0.1)\n",
      "Requirement already satisfied: ply in c:\\users\\zino0\\appdata\\local\\programs\\python\\python311\\lib\\site-packages (from jsonpath-ng<2.0,>=1.5->dataprep) (3.11)\n",
      "Requirement already satisfied: decorator in c:\\users\\zino0\\appdata\\local\\programs\\python\\python311\\lib\\site-packages (from jsonpath-ng<2.0,>=1.5->dataprep) (5.1.1)\n",
      "Requirement already satisfied: setuptools in c:\\users\\zino0\\appdata\\local\\programs\\python\\python311\\lib\\site-packages (from levenshtein<0.13.0,>=0.12.0->dataprep) (65.5.0)\n",
      "Requirement already satisfied: joblib in c:\\users\\zino0\\appdata\\local\\programs\\python\\python311\\lib\\site-packages (from nltk<4.0,>=3.5->dataprep) (1.2.0)\n",
      "Requirement already satisfied: python-dateutil>=2.8.1 in c:\\users\\zino0\\appdata\\local\\programs\\python\\python311\\lib\\site-packages (from pandas<2.0,>=1.1->dataprep) (2.8.2)\n",
      "Requirement already satisfied: pytz>=2020.1 in c:\\users\\zino0\\appdata\\local\\programs\\python\\python311\\lib\\site-packages (from pandas<2.0,>=1.1->dataprep) (2022.7.1)\n",
      "Requirement already satisfied: colorama in c:\\users\\zino0\\appdata\\local\\programs\\python\\python311\\lib\\site-packages (from tqdm<5.0,>=4.48->dataprep) (0.4.6)\n",
      "Requirement already satisfied: future>=0.14 in c:\\users\\zino0\\appdata\\local\\programs\\python\\python311\\lib\\site-packages (from usaddress<0.6.0,>=0.5.10->dataprep) (0.18.3)\n",
      "Requirement already satisfied: probableparsing in c:\\users\\zino0\\appdata\\local\\programs\\python\\python311\\lib\\site-packages (from usaddress<0.6.0,>=0.5.10->dataprep) (0.0.1)\n",
      "Requirement already satisfied: python-crfsuite>=0.7 in c:\\users\\zino0\\appdata\\local\\programs\\python\\python311\\lib\\site-packages (from usaddress<0.6.0,>=0.5.10->dataprep) (0.9.9)\n",
      "Requirement already satisfied: asttokens<3.0.0,>=2.0.0 in c:\\users\\zino0\\appdata\\local\\programs\\python\\python311\\lib\\site-packages (from varname<0.9.0,>=0.8.1->dataprep) (2.2.1)\n",
      "Requirement already satisfied: executing<0.9.0,>=0.8.3 in c:\\users\\zino0\\appdata\\local\\programs\\python\\python311\\lib\\site-packages (from varname<0.9.0,>=0.8.1->dataprep) (0.8.3)\n",
      "Requirement already satisfied: pure_eval<1.0.0 in c:\\users\\zino0\\appdata\\local\\programs\\python\\python311\\lib\\site-packages (from varname<0.9.0,>=0.8.1->dataprep) (0.2.2)\n",
      "Requirement already satisfied: matplotlib in c:\\users\\zino0\\appdata\\local\\programs\\python\\python311\\lib\\site-packages (from wordcloud<2.0,>=1.8->dataprep) (3.7.1)\n",
      "Requirement already satisfied: comm>=0.1.1 in c:\\users\\zino0\\appdata\\local\\programs\\python\\python311\\lib\\site-packages (from ipykernel>=4.5.1->ipywidgets<8.0,>=7.5->dataprep) (0.1.2)\n",
      "Requirement already satisfied: debugpy>=1.6.5 in c:\\users\\zino0\\appdata\\local\\programs\\python\\python311\\lib\\site-packages (from ipykernel>=4.5.1->ipywidgets<8.0,>=7.5->dataprep) (1.6.6)\n",
      "Requirement already satisfied: jupyter-client>=6.1.12 in c:\\users\\zino0\\appdata\\local\\programs\\python\\python311\\lib\\site-packages (from ipykernel>=4.5.1->ipywidgets<8.0,>=7.5->dataprep) (8.1.0)\n",
      "Requirement already satisfied: jupyter-core!=5.0.*,>=4.12 in c:\\users\\zino0\\appdata\\local\\programs\\python\\python311\\lib\\site-packages (from ipykernel>=4.5.1->ipywidgets<8.0,>=7.5->dataprep) (5.3.0)\n",
      "Requirement already satisfied: matplotlib-inline>=0.1 in c:\\users\\zino0\\appdata\\local\\programs\\python\\python311\\lib\\site-packages (from ipykernel>=4.5.1->ipywidgets<8.0,>=7.5->dataprep) (0.1.6)\n",
      "Requirement already satisfied: nest-asyncio in c:\\users\\zino0\\appdata\\local\\programs\\python\\python311\\lib\\site-packages (from ipykernel>=4.5.1->ipywidgets<8.0,>=7.5->dataprep) (1.5.6)\n",
      "Requirement already satisfied: psutil in c:\\users\\zino0\\appdata\\local\\programs\\python\\python311\\lib\\site-packages (from ipykernel>=4.5.1->ipywidgets<8.0,>=7.5->dataprep) (5.9.4)\n",
      "Requirement already satisfied: pyzmq>=20 in c:\\users\\zino0\\appdata\\local\\programs\\python\\python311\\lib\\site-packages (from ipykernel>=4.5.1->ipywidgets<8.0,>=7.5->dataprep) (25.0.2)\n",
      "Requirement already satisfied: backcall in c:\\users\\zino0\\appdata\\local\\programs\\python\\python311\\lib\\site-packages (from ipython>=4.0.0->ipywidgets<8.0,>=7.5->dataprep) (0.2.0)\n",
      "Requirement already satisfied: jedi>=0.16 in c:\\users\\zino0\\appdata\\local\\programs\\python\\python311\\lib\\site-packages (from ipython>=4.0.0->ipywidgets<8.0,>=7.5->dataprep) (0.18.2)\n",
      "Requirement already satisfied: pickleshare in c:\\users\\zino0\\appdata\\local\\programs\\python\\python311\\lib\\site-packages (from ipython>=4.0.0->ipywidgets<8.0,>=7.5->dataprep) (0.7.5)\n",
      "Requirement already satisfied: prompt-toolkit!=3.0.37,<3.1.0,>=3.0.30 in c:\\users\\zino0\\appdata\\local\\programs\\python\\python311\\lib\\site-packages (from ipython>=4.0.0->ipywidgets<8.0,>=7.5->dataprep) (3.0.38)\n",
      "Requirement already satisfied: pygments>=2.4.0 in c:\\users\\zino0\\appdata\\local\\programs\\python\\python311\\lib\\site-packages (from ipython>=4.0.0->ipywidgets<8.0,>=7.5->dataprep) (2.14.0)\n",
      "Requirement already satisfied: stack-data in c:\\users\\zino0\\appdata\\local\\programs\\python\\python311\\lib\\site-packages (from ipython>=4.0.0->ipywidgets<8.0,>=7.5->dataprep) (0.5.1)\n",
      "Requirement already satisfied: locket in c:\\users\\zino0\\appdata\\local\\programs\\python\\python311\\lib\\site-packages (from partd>=0.3.10->dask[array,dataframe,delayed]<3.0,>=2.25->dataprep) (1.0.0)\n",
      "Requirement already satisfied: notebook>=4.4.1 in c:\\users\\zino0\\appdata\\local\\programs\\python\\python311\\lib\\site-packages (from widgetsnbextension~=3.6.4->ipywidgets<8.0,>=7.5->dataprep) (6.5.4)\n",
      "Requirement already satisfied: idna>=2.0 in c:\\users\\zino0\\appdata\\local\\programs\\python\\python311\\lib\\site-packages (from yarl<2.0,>=1.0->aiohttp<4.0,>=3.6->dataprep) (3.4)\n",
      "Requirement already satisfied: contourpy>=1.0.1 in c:\\users\\zino0\\appdata\\local\\programs\\python\\python311\\lib\\site-packages (from matplotlib->wordcloud<2.0,>=1.8->dataprep) (1.0.7)\n",
      "Requirement already satisfied: cycler>=0.10 in c:\\users\\zino0\\appdata\\local\\programs\\python\\python311\\lib\\site-packages (from matplotlib->wordcloud<2.0,>=1.8->dataprep) (0.11.0)\n",
      "Requirement already satisfied: fonttools>=4.22.0 in c:\\users\\zino0\\appdata\\local\\programs\\python\\python311\\lib\\site-packages (from matplotlib->wordcloud<2.0,>=1.8->dataprep) (4.39.2)\n",
      "Requirement already satisfied: kiwisolver>=1.0.1 in c:\\users\\zino0\\appdata\\local\\programs\\python\\python311\\lib\\site-packages (from matplotlib->wordcloud<2.0,>=1.8->dataprep) (1.4.4)\n",
      "Requirement already satisfied: pyparsing>=2.3.1 in c:\\users\\zino0\\appdata\\local\\programs\\python\\python311\\lib\\site-packages (from matplotlib->wordcloud<2.0,>=1.8->dataprep) (3.0.9)\n",
      "Requirement already satisfied: parso<0.9.0,>=0.8.0 in c:\\users\\zino0\\appdata\\local\\programs\\python\\python311\\lib\\site-packages (from jedi>=0.16->ipython>=4.0.0->ipywidgets<8.0,>=7.5->dataprep) (0.8.3)\n",
      "Requirement already satisfied: platformdirs>=2.5 in c:\\users\\zino0\\appdata\\local\\programs\\python\\python311\\lib\\site-packages (from jupyter-core!=5.0.*,>=4.12->ipykernel>=4.5.1->ipywidgets<8.0,>=7.5->dataprep) (3.1.1)\n",
      "Requirement already satisfied: pywin32>=300 in c:\\users\\zino0\\appdata\\local\\programs\\python\\python311\\lib\\site-packages (from jupyter-core!=5.0.*,>=4.12->ipykernel>=4.5.1->ipywidgets<8.0,>=7.5->dataprep) (305)\n",
      "Requirement already satisfied: argon2-cffi in c:\\users\\zino0\\appdata\\local\\programs\\python\\python311\\lib\\site-packages (from notebook>=4.4.1->widgetsnbextension~=3.6.4->ipywidgets<8.0,>=7.5->dataprep) (21.3.0)\n",
      "Requirement already satisfied: nbformat in c:\\users\\zino0\\appdata\\local\\programs\\python\\python311\\lib\\site-packages (from notebook>=4.4.1->widgetsnbextension~=3.6.4->ipywidgets<8.0,>=7.5->dataprep) (5.8.0)\n",
      "Requirement already satisfied: nbconvert>=5 in c:\\users\\zino0\\appdata\\local\\programs\\python\\python311\\lib\\site-packages (from notebook>=4.4.1->widgetsnbextension~=3.6.4->ipywidgets<8.0,>=7.5->dataprep) (6.4.5)\n",
      "Requirement already satisfied: Send2Trash>=1.8.0 in c:\\users\\zino0\\appdata\\local\\programs\\python\\python311\\lib\\site-packages (from notebook>=4.4.1->widgetsnbextension~=3.6.4->ipywidgets<8.0,>=7.5->dataprep) (1.8.0)\n",
      "Requirement already satisfied: terminado>=0.8.3 in c:\\users\\zino0\\appdata\\local\\programs\\python\\python311\\lib\\site-packages (from notebook>=4.4.1->widgetsnbextension~=3.6.4->ipywidgets<8.0,>=7.5->dataprep) (0.17.1)\n",
      "Requirement already satisfied: prometheus-client in c:\\users\\zino0\\appdata\\local\\programs\\python\\python311\\lib\\site-packages (from notebook>=4.4.1->widgetsnbextension~=3.6.4->ipywidgets<8.0,>=7.5->dataprep) (0.16.0)\n",
      "Requirement already satisfied: nbclassic>=0.4.7 in c:\\users\\zino0\\appdata\\local\\programs\\python\\python311\\lib\\site-packages (from notebook>=4.4.1->widgetsnbextension~=3.6.4->ipywidgets<8.0,>=7.5->dataprep) (0.5.3)\n",
      "Requirement already satisfied: wcwidth in c:\\users\\zino0\\appdata\\local\\programs\\python\\python311\\lib\\site-packages (from prompt-toolkit!=3.0.37,<3.1.0,>=3.0.30->ipython>=4.0.0->ipywidgets<8.0,>=7.5->dataprep) (0.2.6)\n",
      "Requirement already satisfied: jupyter-server>=1.8 in c:\\users\\zino0\\appdata\\local\\programs\\python\\python311\\lib\\site-packages (from nbclassic>=0.4.7->notebook>=4.4.1->widgetsnbextension~=3.6.4->ipywidgets<8.0,>=7.5->dataprep) (2.5.0)\n",
      "Requirement already satisfied: notebook-shim>=0.1.0 in c:\\users\\zino0\\appdata\\local\\programs\\python\\python311\\lib\\site-packages (from nbclassic>=0.4.7->notebook>=4.4.1->widgetsnbextension~=3.6.4->ipywidgets<8.0,>=7.5->dataprep) (0.2.2)\n",
      "Requirement already satisfied: mistune<2,>=0.8.1 in c:\\users\\zino0\\appdata\\local\\programs\\python\\python311\\lib\\site-packages (from nbconvert>=5->notebook>=4.4.1->widgetsnbextension~=3.6.4->ipywidgets<8.0,>=7.5->dataprep) (0.8.4)\n",
      "Requirement already satisfied: jupyterlab-pygments in c:\\users\\zino0\\appdata\\local\\programs\\python\\python311\\lib\\site-packages (from nbconvert>=5->notebook>=4.4.1->widgetsnbextension~=3.6.4->ipywidgets<8.0,>=7.5->dataprep) (0.2.2)\n",
      "Requirement already satisfied: entrypoints>=0.2.2 in c:\\users\\zino0\\appdata\\local\\programs\\python\\python311\\lib\\site-packages (from nbconvert>=5->notebook>=4.4.1->widgetsnbextension~=3.6.4->ipywidgets<8.0,>=7.5->dataprep) (0.4)\n",
      "Requirement already satisfied: bleach in c:\\users\\zino0\\appdata\\local\\programs\\python\\python311\\lib\\site-packages (from nbconvert>=5->notebook>=4.4.1->widgetsnbextension~=3.6.4->ipywidgets<8.0,>=7.5->dataprep) (6.0.0)\n",
      "Requirement already satisfied: pandocfilters>=1.4.1 in c:\\users\\zino0\\appdata\\local\\programs\\python\\python311\\lib\\site-packages (from nbconvert>=5->notebook>=4.4.1->widgetsnbextension~=3.6.4->ipywidgets<8.0,>=7.5->dataprep) (1.5.0)\n",
      "Requirement already satisfied: testpath in c:\\users\\zino0\\appdata\\local\\programs\\python\\python311\\lib\\site-packages (from nbconvert>=5->notebook>=4.4.1->widgetsnbextension~=3.6.4->ipywidgets<8.0,>=7.5->dataprep) (0.6.0)\n",
      "Requirement already satisfied: defusedxml in c:\\users\\zino0\\appdata\\local\\programs\\python\\python311\\lib\\site-packages (from nbconvert>=5->notebook>=4.4.1->widgetsnbextension~=3.6.4->ipywidgets<8.0,>=7.5->dataprep) (0.7.1)\n",
      "Requirement already satisfied: beautifulsoup4 in c:\\users\\zino0\\appdata\\local\\programs\\python\\python311\\lib\\site-packages (from nbconvert>=5->notebook>=4.4.1->widgetsnbextension~=3.6.4->ipywidgets<8.0,>=7.5->dataprep) (4.12.0)\n",
      "Requirement already satisfied: nbclient<0.6.0,>=0.5.0 in c:\\users\\zino0\\appdata\\local\\programs\\python\\python311\\lib\\site-packages (from nbconvert>=5->notebook>=4.4.1->widgetsnbextension~=3.6.4->ipywidgets<8.0,>=7.5->dataprep) (0.5.13)\n",
      "Requirement already satisfied: fastjsonschema in c:\\users\\zino0\\appdata\\local\\programs\\python\\python311\\lib\\site-packages (from nbformat->notebook>=4.4.1->widgetsnbextension~=3.6.4->ipywidgets<8.0,>=7.5->dataprep) (2.16.3)\n",
      "Requirement already satisfied: jsonschema>=2.6 in c:\\users\\zino0\\appdata\\local\\programs\\python\\python311\\lib\\site-packages (from nbformat->notebook>=4.4.1->widgetsnbextension~=3.6.4->ipywidgets<8.0,>=7.5->dataprep) (4.17.3)\n",
      "Requirement already satisfied: pywinpty>=1.1.0 in c:\\users\\zino0\\appdata\\local\\programs\\python\\python311\\lib\\site-packages (from terminado>=0.8.3->notebook>=4.4.1->widgetsnbextension~=3.6.4->ipywidgets<8.0,>=7.5->dataprep) (2.0.10)\n",
      "Requirement already satisfied: argon2-cffi-bindings in c:\\users\\zino0\\appdata\\local\\programs\\python\\python311\\lib\\site-packages (from argon2-cffi->notebook>=4.4.1->widgetsnbextension~=3.6.4->ipywidgets<8.0,>=7.5->dataprep) (21.2.0)\n",
      "Requirement already satisfied: pyrsistent!=0.17.0,!=0.17.1,!=0.17.2,>=0.14.0 in c:\\users\\zino0\\appdata\\local\\programs\\python\\python311\\lib\\site-packages (from jsonschema>=2.6->nbformat->notebook>=4.4.1->widgetsnbextension~=3.6.4->ipywidgets<8.0,>=7.5->dataprep) (0.19.3)\n",
      "Requirement already satisfied: anyio>=3.1.0 in c:\\users\\zino0\\appdata\\local\\programs\\python\\python311\\lib\\site-packages (from jupyter-server>=1.8->nbclassic>=0.4.7->notebook>=4.4.1->widgetsnbextension~=3.6.4->ipywidgets<8.0,>=7.5->dataprep) (3.6.2)\n",
      "Requirement already satisfied: jupyter-events>=0.4.0 in c:\\users\\zino0\\appdata\\local\\programs\\python\\python311\\lib\\site-packages (from jupyter-server>=1.8->nbclassic>=0.4.7->notebook>=4.4.1->widgetsnbextension~=3.6.4->ipywidgets<8.0,>=7.5->dataprep) (0.6.3)\n",
      "Requirement already satisfied: jupyter-server-terminals in c:\\users\\zino0\\appdata\\local\\programs\\python\\python311\\lib\\site-packages (from jupyter-server>=1.8->nbclassic>=0.4.7->notebook>=4.4.1->widgetsnbextension~=3.6.4->ipywidgets<8.0,>=7.5->dataprep) (0.4.4)\n",
      "Requirement already satisfied: websocket-client in c:\\users\\zino0\\appdata\\local\\programs\\python\\python311\\lib\\site-packages (from jupyter-server>=1.8->nbclassic>=0.4.7->notebook>=4.4.1->widgetsnbextension~=3.6.4->ipywidgets<8.0,>=7.5->dataprep) (1.5.1)\n",
      "Requirement already satisfied: cffi>=1.0.1 in c:\\users\\zino0\\appdata\\local\\programs\\python\\python311\\lib\\site-packages (from argon2-cffi-bindings->argon2-cffi->notebook>=4.4.1->widgetsnbextension~=3.6.4->ipywidgets<8.0,>=7.5->dataprep) (1.15.1)\n",
      "Requirement already satisfied: soupsieve>1.2 in c:\\users\\zino0\\appdata\\local\\programs\\python\\python311\\lib\\site-packages (from beautifulsoup4->nbconvert>=5->notebook>=4.4.1->widgetsnbextension~=3.6.4->ipywidgets<8.0,>=7.5->dataprep) (2.4)\n",
      "Requirement already satisfied: webencodings in c:\\users\\zino0\\appdata\\local\\programs\\python\\python311\\lib\\site-packages (from bleach->nbconvert>=5->notebook>=4.4.1->widgetsnbextension~=3.6.4->ipywidgets<8.0,>=7.5->dataprep) (0.5.1)\n",
      "Requirement already satisfied: sniffio>=1.1 in c:\\users\\zino0\\appdata\\local\\programs\\python\\python311\\lib\\site-packages (from anyio>=3.1.0->jupyter-server>=1.8->nbclassic>=0.4.7->notebook>=4.4.1->widgetsnbextension~=3.6.4->ipywidgets<8.0,>=7.5->dataprep) (1.3.0)\n",
      "Requirement already satisfied: pycparser in c:\\users\\zino0\\appdata\\local\\programs\\python\\python311\\lib\\site-packages (from cffi>=1.0.1->argon2-cffi-bindings->argon2-cffi->notebook>=4.4.1->widgetsnbextension~=3.6.4->ipywidgets<8.0,>=7.5->dataprep) (2.21)\n",
      "Requirement already satisfied: python-json-logger>=2.0.4 in c:\\users\\zino0\\appdata\\local\\programs\\python\\python311\\lib\\site-packages (from jupyter-events>=0.4.0->jupyter-server>=1.8->nbclassic>=0.4.7->notebook>=4.4.1->widgetsnbextension~=3.6.4->ipywidgets<8.0,>=7.5->dataprep) (2.0.7)\n",
      "Requirement already satisfied: rfc3339-validator in c:\\users\\zino0\\appdata\\local\\programs\\python\\python311\\lib\\site-packages (from jupyter-events>=0.4.0->jupyter-server>=1.8->nbclassic>=0.4.7->notebook>=4.4.1->widgetsnbextension~=3.6.4->ipywidgets<8.0,>=7.5->dataprep) (0.1.4)\n",
      "Requirement already satisfied: rfc3986-validator>=0.1.1 in c:\\users\\zino0\\appdata\\local\\programs\\python\\python311\\lib\\site-packages (from jupyter-events>=0.4.0->jupyter-server>=1.8->nbclassic>=0.4.7->notebook>=4.4.1->widgetsnbextension~=3.6.4->ipywidgets<8.0,>=7.5->dataprep) (0.1.1)\n",
      "Requirement already satisfied: fqdn in c:\\users\\zino0\\appdata\\local\\programs\\python\\python311\\lib\\site-packages (from jsonschema>=2.6->nbformat->notebook>=4.4.1->widgetsnbextension~=3.6.4->ipywidgets<8.0,>=7.5->dataprep) (1.5.1)\n",
      "Requirement already satisfied: isoduration in c:\\users\\zino0\\appdata\\local\\programs\\python\\python311\\lib\\site-packages (from jsonschema>=2.6->nbformat->notebook>=4.4.1->widgetsnbextension~=3.6.4->ipywidgets<8.0,>=7.5->dataprep) (20.11.0)\n",
      "Requirement already satisfied: jsonpointer>1.13 in c:\\users\\zino0\\appdata\\local\\programs\\python\\python311\\lib\\site-packages (from jsonschema>=2.6->nbformat->notebook>=4.4.1->widgetsnbextension~=3.6.4->ipywidgets<8.0,>=7.5->dataprep) (2.3)\n",
      "Requirement already satisfied: uri-template in c:\\users\\zino0\\appdata\\local\\programs\\python\\python311\\lib\\site-packages (from jsonschema>=2.6->nbformat->notebook>=4.4.1->widgetsnbextension~=3.6.4->ipywidgets<8.0,>=7.5->dataprep) (1.2.0)\n",
      "Requirement already satisfied: webcolors>=1.11 in c:\\users\\zino0\\appdata\\local\\programs\\python\\python311\\lib\\site-packages (from jsonschema>=2.6->nbformat->notebook>=4.4.1->widgetsnbextension~=3.6.4->ipywidgets<8.0,>=7.5->dataprep) (1.12)\n",
      "Requirement already satisfied: arrow>=0.15.0 in c:\\users\\zino0\\appdata\\local\\programs\\python\\python311\\lib\\site-packages (from isoduration->jsonschema>=2.6->nbformat->notebook>=4.4.1->widgetsnbextension~=3.6.4->ipywidgets<8.0,>=7.5->dataprep) (1.2.3)\n"
     ]
    }
   ],
   "source": [
    "pip install dataprep"
   ]
  },
  {
   "cell_type": "code",
   "execution_count": 6,
   "id": "0f78b923",
   "metadata": {},
   "outputs": [
    {
     "ename": "AttributeError",
     "evalue": "module 'numpy' has no attribute 'bool'.\n`np.bool` was a deprecated alias for the builtin `bool`. To avoid this error in existing code, use `bool` by itself. Doing this will not modify any behavior and is safe. If you specifically wanted the numpy scalar type, use `np.bool_` here.\nThe aliases was originally deprecated in NumPy 1.20; for more details and guidance see the original release note at:\n    https://numpy.org/devdocs/release/1.20.0-notes.html#deprecations",
     "output_type": "error",
     "traceback": [
      "\u001b[1;31m---------------------------------------------------------------------------\u001b[0m",
      "\u001b[1;31mAttributeError\u001b[0m                            Traceback (most recent call last)",
      "Cell \u001b[1;32mIn[6], line 1\u001b[0m\n\u001b[1;32m----> 1\u001b[0m \u001b[38;5;28;01mfrom\u001b[39;00m \u001b[38;5;21;01mdataprep\u001b[39;00m\u001b[38;5;21;01m.\u001b[39;00m\u001b[38;5;21;01meda\u001b[39;00m \u001b[38;5;28;01mimport\u001b[39;00m plot, plot_correlation, create_report, plot_missing\n",
      "File \u001b[1;32m~\\AppData\\Local\\Programs\\Python\\Python311\\Lib\\site-packages\\dataprep\\eda\\__init__.py:8\u001b[0m\n\u001b[0;32m      5\u001b[0m \u001b[38;5;28;01mfrom\u001b[39;00m \u001b[38;5;21;01mbokeh\u001b[39;00m\u001b[38;5;21;01m.\u001b[39;00m\u001b[38;5;21;01mio\u001b[39;00m \u001b[38;5;28;01mimport\u001b[39;00m output_notebook\n\u001b[0;32m      7\u001b[0m \u001b[38;5;28;01mfrom\u001b[39;00m \u001b[38;5;21;01m.\u001b[39;00m\u001b[38;5;21;01m.\u001b[39;00m\u001b[38;5;21;01mutils\u001b[39;00m \u001b[38;5;28;01mimport\u001b[39;00m is_notebook\n\u001b[1;32m----> 8\u001b[0m \u001b[38;5;28;01mfrom\u001b[39;00m \u001b[38;5;21;01m.\u001b[39;00m\u001b[38;5;21;01mcorrelation\u001b[39;00m \u001b[38;5;28;01mimport\u001b[39;00m compute_correlation, plot_correlation, render_correlation\n\u001b[0;32m      9\u001b[0m \u001b[38;5;28;01mfrom\u001b[39;00m \u001b[38;5;21;01m.\u001b[39;00m\u001b[38;5;21;01mcreate_report\u001b[39;00m \u001b[38;5;28;01mimport\u001b[39;00m create_report\n\u001b[0;32m     10\u001b[0m \u001b[38;5;28;01mfrom\u001b[39;00m \u001b[38;5;21;01m.\u001b[39;00m\u001b[38;5;21;01mcreate_diff_report\u001b[39;00m \u001b[38;5;28;01mimport\u001b[39;00m create_diff_report\n",
      "File \u001b[1;32m~\\AppData\\Local\\Programs\\Python\\Python311\\Lib\\site-packages\\dataprep\\eda\\correlation\\__init__.py:13\u001b[0m\n\u001b[0;32m     11\u001b[0m \u001b[38;5;28;01mfrom\u001b[39;00m \u001b[38;5;21;01m.\u001b[39;00m\u001b[38;5;21;01m.\u001b[39;00m\u001b[38;5;21;01mcontainer\u001b[39;00m \u001b[38;5;28;01mimport\u001b[39;00m Container\n\u001b[0;32m     12\u001b[0m \u001b[38;5;28;01mfrom\u001b[39;00m \u001b[38;5;21;01m.\u001b[39;00m\u001b[38;5;21;01m.\u001b[39;00m\u001b[38;5;21;01m.\u001b[39;00m\u001b[38;5;21;01mprogress_bar\u001b[39;00m \u001b[38;5;28;01mimport\u001b[39;00m ProgressBar\n\u001b[1;32m---> 13\u001b[0m \u001b[38;5;28;01mfrom\u001b[39;00m \u001b[38;5;21;01m.\u001b[39;00m\u001b[38;5;21;01mcompute\u001b[39;00m \u001b[38;5;28;01mimport\u001b[39;00m compute_correlation\n\u001b[0;32m     14\u001b[0m \u001b[38;5;28;01mfrom\u001b[39;00m \u001b[38;5;21;01m.\u001b[39;00m\u001b[38;5;21;01mrender\u001b[39;00m \u001b[38;5;28;01mimport\u001b[39;00m render_correlation\n\u001b[0;32m     16\u001b[0m __all__ \u001b[38;5;241m=\u001b[39m [\u001b[38;5;124m\"\u001b[39m\u001b[38;5;124mrender_correlation\u001b[39m\u001b[38;5;124m\"\u001b[39m, \u001b[38;5;124m\"\u001b[39m\u001b[38;5;124mcompute_correlation\u001b[39m\u001b[38;5;124m\"\u001b[39m, \u001b[38;5;124m\"\u001b[39m\u001b[38;5;124mplot_correlation\u001b[39m\u001b[38;5;124m\"\u001b[39m]\n",
      "File \u001b[1;32m~\\AppData\\Local\\Programs\\Python\\Python311\\Lib\\site-packages\\dataprep\\eda\\correlation\\compute\\__init__.py:8\u001b[0m\n\u001b[0;32m      5\u001b[0m \u001b[38;5;28;01mfrom\u001b[39;00m \u001b[38;5;21;01mwarnings\u001b[39;00m \u001b[38;5;28;01mimport\u001b[39;00m catch_warnings, filterwarnings\n\u001b[0;32m      7\u001b[0m \u001b[38;5;28;01mfrom\u001b[39;00m \u001b[38;5;21;01m.\u001b[39;00m\u001b[38;5;21;01m.\u001b[39;00m\u001b[38;5;21;01m.\u001b[39;00m\u001b[38;5;21;01mconfigs\u001b[39;00m \u001b[38;5;28;01mimport\u001b[39;00m Config\n\u001b[1;32m----> 8\u001b[0m \u001b[38;5;28;01mfrom\u001b[39;00m \u001b[38;5;21;01m.\u001b[39;00m\u001b[38;5;21;01m.\u001b[39;00m\u001b[38;5;21;01m.\u001b[39;00m\u001b[38;5;21;01mintermediate\u001b[39;00m \u001b[38;5;28;01mimport\u001b[39;00m Intermediate\n\u001b[0;32m      9\u001b[0m \u001b[38;5;28;01mfrom\u001b[39;00m \u001b[38;5;21;01m.\u001b[39;00m\u001b[38;5;21;01m.\u001b[39;00m\u001b[38;5;21;01m.\u001b[39;00m\u001b[38;5;21;01meda_frame\u001b[39;00m \u001b[38;5;28;01mimport\u001b[39;00m EDAFrame, DataFrame\n\u001b[0;32m     10\u001b[0m \u001b[38;5;28;01mfrom\u001b[39;00m \u001b[38;5;21;01m.\u001b[39;00m\u001b[38;5;21;01mbivariate\u001b[39;00m \u001b[38;5;28;01mimport\u001b[39;00m _calc_bivariate\n",
      "File \u001b[1;32m~\\AppData\\Local\\Programs\\Python\\Python311\\Lib\\site-packages\\dataprep\\eda\\intermediate.py:12\u001b[0m\n\u001b[0;32m      9\u001b[0m \u001b[38;5;28;01mimport\u001b[39;00m \u001b[38;5;21;01mnumpy\u001b[39;00m \u001b[38;5;28;01mas\u001b[39;00m \u001b[38;5;21;01mnp\u001b[39;00m\n\u001b[0;32m     10\u001b[0m \u001b[38;5;28;01mimport\u001b[39;00m \u001b[38;5;21;01mpandas\u001b[39;00m \u001b[38;5;28;01mas\u001b[39;00m \u001b[38;5;21;01mpd\u001b[39;00m\n\u001b[1;32m---> 12\u001b[0m \u001b[38;5;28;01mfrom\u001b[39;00m \u001b[38;5;21;01m.\u001b[39;00m\u001b[38;5;21;01mdtypes_v2\u001b[39;00m \u001b[38;5;28;01mimport\u001b[39;00m Continuous, Nominal, SmallCardNum\n\u001b[0;32m     15\u001b[0m \u001b[38;5;28;01mclass\u001b[39;00m \u001b[38;5;21;01mIntermediate\u001b[39;00m(Dict[\u001b[38;5;28mstr\u001b[39m, Any]):\n\u001b[0;32m     16\u001b[0m \u001b[38;5;250m    \u001b[39m\u001b[38;5;124;03m\"\"\"This class contains intermediate results.\"\"\"\u001b[39;00m\n",
      "File \u001b[1;32m~\\AppData\\Local\\Programs\\Python\\Python311\\Lib\\site-packages\\dataprep\\eda\\dtypes_v2.py:14\u001b[0m\n\u001b[0;32m     11\u001b[0m STRING_PANDAS_DTYPES \u001b[38;5;241m=\u001b[39m [pd\u001b[38;5;241m.\u001b[39mStringDtype]\n\u001b[0;32m     12\u001b[0m STRING_DTYPES \u001b[38;5;241m=\u001b[39m STRING_PANDAS_DTYPES\n\u001b[1;32m---> 14\u001b[0m CATEGORICAL_NUMPY_DTYPES \u001b[38;5;241m=\u001b[39m [np\u001b[38;5;241m.\u001b[39mbool, np\u001b[38;5;241m.\u001b[39mobject]\n\u001b[0;32m     15\u001b[0m CATEGORICAL_PANDAS_DTYPES \u001b[38;5;241m=\u001b[39m [pd\u001b[38;5;241m.\u001b[39mCategoricalDtype, pd\u001b[38;5;241m.\u001b[39mPeriodDtype]\n\u001b[0;32m     16\u001b[0m CATEGORICAL_DTYPES \u001b[38;5;241m=\u001b[39m CATEGORICAL_NUMPY_DTYPES \u001b[38;5;241m+\u001b[39m CATEGORICAL_PANDAS_DTYPES \u001b[38;5;241m+\u001b[39m STRING_DTYPES\n",
      "File \u001b[1;32m~\\AppData\\Local\\Programs\\Python\\Python311\\Lib\\site-packages\\numpy\\__init__.py:305\u001b[0m, in \u001b[0;36m__getattr__\u001b[1;34m(attr)\u001b[0m\n\u001b[0;32m    300\u001b[0m     warnings\u001b[38;5;241m.\u001b[39mwarn(\n\u001b[0;32m    301\u001b[0m         \u001b[38;5;124mf\u001b[39m\u001b[38;5;124m\"\u001b[39m\u001b[38;5;124mIn the future `np.\u001b[39m\u001b[38;5;132;01m{\u001b[39;00mattr\u001b[38;5;132;01m}\u001b[39;00m\u001b[38;5;124m` will be defined as the \u001b[39m\u001b[38;5;124m\"\u001b[39m\n\u001b[0;32m    302\u001b[0m         \u001b[38;5;124m\"\u001b[39m\u001b[38;5;124mcorresponding NumPy scalar.\u001b[39m\u001b[38;5;124m\"\u001b[39m, \u001b[38;5;167;01mFutureWarning\u001b[39;00m, stacklevel\u001b[38;5;241m=\u001b[39m\u001b[38;5;241m2\u001b[39m)\n\u001b[0;32m    304\u001b[0m \u001b[38;5;28;01mif\u001b[39;00m attr \u001b[38;5;129;01min\u001b[39;00m __former_attrs__:\n\u001b[1;32m--> 305\u001b[0m     \u001b[38;5;28;01mraise\u001b[39;00m \u001b[38;5;167;01mAttributeError\u001b[39;00m(__former_attrs__[attr])\n\u001b[0;32m    307\u001b[0m \u001b[38;5;66;03m# Importing Tester requires importing all of UnitTest which is not a\u001b[39;00m\n\u001b[0;32m    308\u001b[0m \u001b[38;5;66;03m# cheap import Since it is mainly used in test suits, we lazy import it\u001b[39;00m\n\u001b[0;32m    309\u001b[0m \u001b[38;5;66;03m# here to save on the order of 10 ms of import time for most users\u001b[39;00m\n\u001b[0;32m    310\u001b[0m \u001b[38;5;66;03m#\u001b[39;00m\n\u001b[0;32m    311\u001b[0m \u001b[38;5;66;03m# The previous way Tester was imported also had a side effect of adding\u001b[39;00m\n\u001b[0;32m    312\u001b[0m \u001b[38;5;66;03m# the full `numpy.testing` namespace\u001b[39;00m\n\u001b[0;32m    313\u001b[0m \u001b[38;5;28;01mif\u001b[39;00m attr \u001b[38;5;241m==\u001b[39m \u001b[38;5;124m'\u001b[39m\u001b[38;5;124mtesting\u001b[39m\u001b[38;5;124m'\u001b[39m:\n",
      "\u001b[1;31mAttributeError\u001b[0m: module 'numpy' has no attribute 'bool'.\n`np.bool` was a deprecated alias for the builtin `bool`. To avoid this error in existing code, use `bool` by itself. Doing this will not modify any behavior and is safe. If you specifically wanted the numpy scalar type, use `np.bool_` here.\nThe aliases was originally deprecated in NumPy 1.20; for more details and guidance see the original release note at:\n    https://numpy.org/devdocs/release/1.20.0-notes.html#deprecations"
     ]
    }
   ],
   "source": [
    "from dataprep.eda import plot, plot_correlation, create_report, plot_missing"
   ]
  },
  {
   "cell_type": "code",
   "execution_count": 2,
   "id": "76c0871e",
   "metadata": {},
   "outputs": [],
   "source": [
    "import warnings\n",
    "warnings.filterwarnings(\"ignore\")"
   ]
  },
  {
   "cell_type": "code",
   "execution_count": 3,
   "id": "d014527a",
   "metadata": {},
   "outputs": [],
   "source": [
    "import numpy as np"
   ]
  },
  {
   "cell_type": "code",
   "execution_count": 4,
   "id": "895150c5",
   "metadata": {},
   "outputs": [
    {
     "name": "stdout",
     "output_type": "stream",
     "text": [
      "1.24.3\n"
     ]
    }
   ],
   "source": [
    "print(np.__version__)"
   ]
  },
  {
   "cell_type": "code",
   "execution_count": null,
   "id": "3068a6a7",
   "metadata": {},
   "outputs": [],
   "source": []
  }
 ],
 "metadata": {
  "kernelspec": {
   "display_name": "Python 3 (ipykernel)",
   "language": "python",
   "name": "python3"
  },
  "language_info": {
   "codemirror_mode": {
    "name": "ipython",
    "version": 3
   },
   "file_extension": ".py",
   "mimetype": "text/x-python",
   "name": "python",
   "nbconvert_exporter": "python",
   "pygments_lexer": "ipython3",
   "version": "3.11.2"
  },
  "varInspector": {
   "cols": {
    "lenName": 16,
    "lenType": 16,
    "lenVar": 40
   },
   "kernels_config": {
    "python": {
     "delete_cmd_postfix": "",
     "delete_cmd_prefix": "del ",
     "library": "var_list.py",
     "varRefreshCmd": "print(var_dic_list())"
    },
    "r": {
     "delete_cmd_postfix": ") ",
     "delete_cmd_prefix": "rm(",
     "library": "var_list.r",
     "varRefreshCmd": "cat(var_dic_list()) "
    }
   },
   "types_to_exclude": [
    "module",
    "function",
    "builtin_function_or_method",
    "instance",
    "_Feature"
   ],
   "window_display": false
  }
 },
 "nbformat": 4,
 "nbformat_minor": 5
}
